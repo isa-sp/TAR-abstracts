{
 "cells": [
  {
   "cell_type": "code",
   "execution_count": 1,
   "id": "bc9f2889",
   "metadata": {},
   "outputs": [],
   "source": [
    "# Import the packages\n",
    "import pandas as pd\n",
    "import numpy as np\n",
    "import os\n",
    "import rispy\n",
    "from pathlib import Path\n",
    "\n",
    "current_dir = os.getcwd()\n",
    "path_data = '/Users/ispiero2/Documents/Research/Datasets/Systematic_Reviews/Datasets_final/Raw_datasets/'"
   ]
  },
  {
   "cell_type": "code",
   "execution_count": 2,
   "id": "85ce95d9",
   "metadata": {},
   "outputs": [],
   "source": [
    "#### Prognosis review 4: model reporting (Andaur Navarrow et al. (2022)) ####\n",
    "# Preparation of the data for ASReview simulation\n",
    "\n",
    "# The dataset consisted of 10 samples of the original dataset of 24814 records\n",
    "# To get the total set of records that was TA-screened, the 10 original files of records were loaded and merged\n",
    "# To get the included set of records, the 10 original files of inclusions were loaded and merged\n",
    "\n",
    "os.chdir(path_data)\n",
    "\n",
    "group1 = pd.DataFrame(rispy.load(Path('Prognosis_4_reporting/Review_Constanza/1. [T&A] Random samples/[T&A] ML_References_group1.txt'), encoding='utf-8'))\n",
    "group2 = pd.DataFrame(rispy.load(Path('Prognosis_4_reporting/Review_Constanza/1. [T&A] Random samples/[T&A] ML_References_group2.txt'), encoding='utf-8'))\n",
    "group3 = pd.DataFrame(rispy.load(Path('Prognosis_4_reporting/Review_Constanza/1. [T&A] Random samples/[T&A] ML_References_group3.txt'), encoding='utf-8'))\n",
    "group4 = pd.DataFrame(rispy.load(Path('Prognosis_4_reporting/Review_Constanza/1. [T&A] Random samples/[T&A] ML_References_group4.txt'), encoding='utf-8'))\n",
    "group5 = pd.DataFrame(rispy.load(Path('Prognosis_4_reporting/Review_Constanza/1. [T&A] Random samples/[T&A] ML_References_group5.txt'), encoding='utf-8'))\n",
    "group6 = pd.DataFrame(rispy.load(Path('Prognosis_4_reporting/Review_Constanza/1. [T&A] Random samples/[T&A] ML_References_group6.txt'), encoding='utf-8'))\n",
    "group7 = pd.DataFrame(rispy.load(Path('Prognosis_4_reporting/Review_Constanza/1. [T&A] Random samples/[T&A] ML_References_group7.txt'), encoding='utf-8'))\n",
    "group8 = pd.DataFrame(rispy.load(Path('Prognosis_4_reporting/Review_Constanza/1. [T&A] Random samples/[T&A] ML_References_group8.txt'), encoding='utf-8'))\n",
    "group9 = pd.DataFrame(rispy.load(Path('Prognosis_4_reporting/Review_Constanza/1. [T&A] Random samples/[T&A] ML_References_group9.txt'), encoding='utf-8'))\n",
    "group10 = pd.DataFrame(rispy.load(Path('Prognosis_4_reporting/Review_Constanza/1. [T&A] Random samples/[T&A] ML_References_group10.txt'), encoding='utf-8'))\n",
    "\n",
    "# Merge all the samples (n=2482)\n",
    "groups = [group1, group2, group3, group4, group5, group6, group7, group8, group9, group10]\n",
    "data_prog4_all_orig = pd.concat(groups).reset_index(drop=True)\n",
    "\n",
    "os.chdir(path_data)\n",
    "\n",
    "group1_incl = pd.DataFrame(rispy.load(Path('Prognosis_4_reporting/Review_Constanza/2. [T&A] Included References/[T&A] Ref_included_group1.ris'), encoding='utf-8'))\n",
    "group2_incl = pd.DataFrame(rispy.load(Path('Prognosis_4_reporting/Review_Constanza/2. [T&A] Included References/[T&A] Ref_included_group2.ris'), encoding='utf-8'))\n",
    "group3_incl = pd.DataFrame(rispy.load(Path('Prognosis_4_reporting/Review_Constanza/2. [T&A] Included References/[T&A] Ref_included_group3.ris'), encoding='utf-8'))\n",
    "group4_incl = pd.DataFrame(rispy.load(Path('Prognosis_4_reporting/Review_Constanza/2. [T&A] Included References/[T&A] Ref_included_group4.ris'), encoding='utf-8'))\n",
    "group5_incl = pd.DataFrame(rispy.load(Path('Prognosis_4_reporting/Review_Constanza/2. [T&A] Included References/[T&A] Ref_included_group5.ris'), encoding='utf-8'))\n",
    "group6_incl = pd.DataFrame(rispy.load(Path('Prognosis_4_reporting/Review_Constanza/2. [T&A] Included References/[T&A] Ref_included_group6.ris'), encoding='utf-8'))\n",
    "group7_incl = pd.DataFrame(rispy.load(Path('Prognosis_4_reporting/Review_Constanza/2. [T&A] Included References/[T&A] Ref_included_group7.ris'), encoding='utf-8'))\n",
    "group8_incl = pd.DataFrame(rispy.load(Path('Prognosis_4_reporting/Review_Constanza/2. [T&A] Included References/[T&A] Ref_included_group8.ris'), encoding='utf-8'))\n",
    "group9_incl = pd.DataFrame(rispy.load(Path('Prognosis_4_reporting/Review_Constanza/2. [T&A] Included References/[T&A] Ref_included_group9.ris'), encoding='utf-8'))\n",
    "group10_incl = pd.DataFrame(rispy.load(Path('Prognosis_4_reporting/Review_Constanza/2. [T&A] Included References/[T&A] Ref_included_group10.ris'), encoding='utf-8'))\n",
    "\n",
    "# Merge all the inclusions (n=312)\n",
    "groups_incl = [group1_incl, group2_incl, group3_incl, group4_incl, group5_incl, group6_incl, group7_incl, group8_incl, group9_incl, group10_incl]\n",
    "data_prog4_incl_orig = pd.concat(groups_incl).reset_index(drop=True)\n",
    "\n",
    "#data_prog4_all_orig.head()\n"
   ]
  },
  {
   "cell_type": "code",
   "execution_count": 3,
   "id": "5201532e",
   "metadata": {},
   "outputs": [],
   "source": [
    "# Choose the columns to be saved in the output\n",
    "data_prog4_all = data_prog4_all_orig.iloc[:,[0,3,5,1,15,4,9]]\n",
    "data_prog4_incl = data_prog4_incl_orig.iloc[:,[0,9,3,2,11,12]]\n",
    "\n",
    "# Name the respective columns\n",
    "data_prog4_all.columns = ['type','authors','year','title', 'pmid','keywords','abstract']\n",
    "data_prog4_incl.columns = ['type','authors','year','title','keywords','abstract']"
   ]
  },
  {
   "cell_type": "code",
   "execution_count": 4,
   "id": "062d7550",
   "metadata": {},
   "outputs": [
    {
     "name": "stderr",
     "output_type": "stream",
     "text": [
      "/var/folders/81/t9zccsds4g505j9f6tbl8jp40000gp/T/ipykernel_21397/4014948158.py:13: SettingWithCopyWarning: \n",
      "A value is trying to be set on a copy of a slice from a DataFrame.\n",
      "Try using .loc[row_indexer,col_indexer] = value instead\n",
      "\n",
      "See the caveats in the documentation: https://pandas.pydata.org/pandas-docs/stable/user_guide/indexing.html#returning-a-view-versus-a-copy\n",
      "  data_prog4_all['label_included'] = labels\n"
     ]
    }
   ],
   "source": [
    "# Get the labels based on title comparison\n",
    "labels = []\n",
    "for i in range(0,len(data_prog4_all)):\n",
    "    title = data_prog4_all['title'][i]\n",
    "    if len(data_prog4_incl[data_prog4_incl['title'].str.contains(title, regex = False)]) == 1:\n",
    "        labels.append(1)\n",
    "    else:\n",
    "        labels.append(0)\n",
    "        \n",
    "sum(labels) # = 312\n",
    "\n",
    "# Add the labels to the dataset\n",
    "data_prog4_all['label_included'] = labels\n",
    "\n",
    "#data_prog4_all.head()"
   ]
  },
  {
   "cell_type": "code",
   "execution_count": 5,
   "id": "e1489331-d436-40f9-9747-5c3197f49485",
   "metadata": {},
   "outputs": [
    {
     "name": "stderr",
     "output_type": "stream",
     "text": [
      "/var/folders/81/t9zccsds4g505j9f6tbl8jp40000gp/T/ipykernel_21397/3035594195.py:1: SettingWithCopyWarning: \n",
      "A value is trying to be set on a copy of a slice from a DataFrame.\n",
      "Try using .loc[row_indexer,col_indexer] = value instead\n",
      "\n",
      "See the caveats in the documentation: https://pandas.pydata.org/pandas-docs/stable/user_guide/indexing.html#returning-a-view-versus-a-copy\n",
      "  data_prog4_all['pmid'] = data_prog4_all['pmid'].apply(lambda x: x.get('U2', [None])[0] if isinstance(x, dict) and 'U2' in x else None)\n"
     ]
    }
   ],
   "source": [
    "data_prog4_all['pmid'] = data_prog4_all['pmid'].apply(lambda x: x.get('U2', [None])[0] if isinstance(x, dict) and 'U2' in x else None)\n",
    "\n",
    "#data_prog4_all.head()"
   ]
  },
  {
   "cell_type": "code",
   "execution_count": 6,
   "id": "91aee5b1",
   "metadata": {},
   "outputs": [],
   "source": [
    "# Insert columns to match with the other reviews datasets\n",
    "data_prog4_all.insert(4, 'journal', np.repeat(np.NaN, len(data_prog4_all)))\n",
    "data_prog4_all.insert(9, 'language', np.repeat(np.NaN, len(data_prog4_all)))\n",
    "\n",
    "#data_prog4_all.head()"
   ]
  },
  {
   "cell_type": "code",
   "execution_count": 7,
   "id": "6d9ff923",
   "metadata": {},
   "outputs": [],
   "source": [
    "# Save the output\n",
    "os.chdir(current_dir)\n",
    "data_prog4_all.to_excel('../data/processed/Prog1_reporting_pmids.xlsx')"
   ]
  }
 ],
 "metadata": {
  "kernelspec": {
   "display_name": "Python 3 (ipykernel)",
   "language": "python",
   "name": "python3"
  },
  "language_info": {
   "codemirror_mode": {
    "name": "ipython",
    "version": 3
   },
   "file_extension": ".py",
   "mimetype": "text/x-python",
   "name": "python",
   "nbconvert_exporter": "python",
   "pygments_lexer": "ipython3",
   "version": "3.11.5"
  }
 },
 "nbformat": 4,
 "nbformat_minor": 5
}
