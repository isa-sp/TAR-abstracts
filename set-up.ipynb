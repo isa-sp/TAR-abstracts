{
 "cells": [
  {
   "cell_type": "markdown",
   "id": "ed9154e6-8f98-481b-973a-e6007662c986",
   "metadata": {},
   "source": [
    "# **Association between Abstract Characteristics and Ranking Position in Technology-Assisted Reviewing (TAR): coding set-up**\n",
    "\n",
    "### **by Isa Spiero <br>**\n",
    "\n",
    "#### **Part I: Dataprocessing**\n",
    "\n",
    "#### **Part II: Ranking** \n",
    "\n",
    "#### **Part III: Evaluation**\n",
    "------------------------------------------------------------------------------------------------------------------------------------------"
   ]
  },
  {
   "cell_type": "markdown",
   "id": "627598d2-0479-4e03-89ba-2456436aec7d",
   "metadata": {},
   "source": [
    "#### **Part I: Dataprocessing**"
   ]
  },
  {
   "cell_type": "code",
   "execution_count": 4,
   "id": "4e0880c0-d93e-4df1-a831-302471432a97",
   "metadata": {},
   "outputs": [],
   "source": [
    "import pandas as pd\n",
    "\n",
    "df_r = pd.read_excel(\"data/raw/Prog_reporting_labeled.xlsx\")\n",
    "df_t = pd.read_excel(\"data/raw/Prog_tripod_labeled.xlsx\")"
   ]
  },
  {
   "cell_type": "code",
   "execution_count": 6,
   "id": "b67eef98-3c38-4ea6-86e8-173e0b48e76e",
   "metadata": {},
   "outputs": [],
   "source": [
    "# (a) Add the TRIPOD scores\n",
    "import numpy as np\n",
    "df_r[\"tripod1\"] = np.random.rand(len(df_r))\n",
    "df_r[\"tripod2\"] = np.random.rand(len(df_r))\n",
    "df_r[\"tripod3\"] = np.random.rand(len(df_r))\n",
    "df_r[\"tripod4\"] = np.random.rand(len(df_r))\n",
    "df_r[\"tripod5\"] = np.random.rand(len(df_r))\n",
    "\n",
    "df_t[\"tripod1\"] = np.random.rand(len(df_t))\n",
    "df_t[\"tripod2\"] = np.random.rand(len(df_t))\n",
    "df_t[\"tripod3\"] = np.random.rand(len(df_t))\n",
    "df_t[\"tripod4\"] = np.random.rand(len(df_t))\n",
    "df_t[\"tripod5\"] = np.random.rand(len(df_t))"
   ]
  },
  {
   "cell_type": "code",
   "execution_count": 8,
   "id": "1a18a249-0417-4f4d-ab10-f17ecda6ad95",
   "metadata": {},
   "outputs": [],
   "source": [
    "# (b) Add the abstract structure\n",
    "import pandas as pd\n",
    "import nltk\n",
    "from nltk.tokenize import sent_tokenize\n",
    "\n",
    "# Add the number of words per abstract\n",
    "df_r[\"word_count\"] = df_r[\"abstract\"].apply(lambda x: len(str(x).split()))\n",
    "df_t[\"word_count\"] = df_t[\"abstract\"].apply(lambda x: len(str(x).split()))\n",
    "\n",
    "# Add the average sentence length per abstract\n",
    "def avg_sentence_length(text):\n",
    "    sentences = sent_tokenize(str(text)) \n",
    "    if len(sentences) == 0:\n",
    "        return 0  \n",
    "    word_counts = [len(sentence.split()) for sentence in sentences]  \n",
    "    return sum(word_counts) / len(sentences)  \n",
    "df_r[\"avg_sentence_length\"] = df_r[\"abstract\"].apply(avg_sentence_length)\n",
    "df_t[\"avg_sentence_length\"] = df_t[\"abstract\"].apply(avg_sentence_length)\n",
    "\n",
    "# Add structured (1) vs unstructured (0)\n",
    "keywords = [\"BACKGROUND\", \"OBJECTIVE\", \"PURPOSE\", \"INTRODUCTION\"]\n",
    "df_r[\"structured\"] = df_r[\"abstract\"].apply(lambda x: 1 if str(x).split(\":\")[0] in keywords else 0)\n",
    "df_t[\"structured\"] = df_t[\"abstract\"].apply(lambda x: 1 if str(x).split(\":\")[0] in keywords else 0)"
   ]
  },
  {
   "cell_type": "code",
   "execution_count": 10,
   "id": "28b3962c-f848-4ddc-94cf-b01a380605b8",
   "metadata": {},
   "outputs": [],
   "source": [
    "# (c) Add the terminology usage\n",
    "import pandas as pd\n",
    "from sklearn.feature_extraction.text import TfidfVectorizer\n",
    "\n",
    "vectorizer = TfidfVectorizer()\n",
    "\n",
    "df_r[\"abstract\"] = df_r[\"abstract\"].fillna(\"\")\n",
    "df_t[\"abstract\"] = df_t[\"abstract\"].fillna(\"\")\n",
    "\n",
    "tfidf_matrix = vectorizer.fit_transform(df_r[\"abstract\"])\n",
    "tfidf_matrix = vectorizer.fit_transform(df_t[\"abstract\"])\n",
    "\n",
    "df_r[\"tfidf_mean\"] = [np.nan if text == \"\" else score for text, score in zip(df_r[\"abstract\"], tfidf_matrix.mean(axis=1).A1)]\n",
    "df_t[\"tfidf_mean\"] = [np.nan if text == \"\" else score for text, score in zip(df_t[\"abstract\"], tfidf_matrix.mean(axis=1).A1)]\n",
    "\n",
    "average_tfidf = df_r[\"tfidf_mean\"].mean()\n",
    "average_tfidf = df_t[\"tfidf_mean\"].mean()\n",
    "\n",
    "df_r[\"tfidf_deviation\"] = df_r[\"tfidf_mean\"].apply(lambda x: np.nan if pd.isna(x) else x - average_tfidf)\n",
    "df_t[\"tfidf_deviation\"] = df_t[\"tfidf_mean\"].apply(lambda x: np.nan if pd.isna(x) else x - average_tfidf)"
   ]
  },
  {
   "cell_type": "code",
   "execution_count": 17,
   "id": "5fe57d12-f3ac-48e2-9197-8da25acd8eb8",
   "metadata": {},
   "outputs": [],
   "source": [
    "df_r.to_csv('data/processed/Prog_reporting.csv', index=False)\n",
    "df_t.to_csv('data/processed/Prog_tripod.csv', index=False)"
   ]
  },
  {
   "cell_type": "markdown",
   "id": "12f394c8-fbd3-422e-9c96-b907041d75c1",
   "metadata": {},
   "source": [
    "#### **Part II: Ranking**"
   ]
  },
  {
   "cell_type": "code",
   "execution_count": 25,
   "id": "f5c80cee-456d-4941-be96-acb68ba5c5d7",
   "metadata": {},
   "outputs": [
    {
     "name": "stderr",
     "output_type": "stream",
     "text": [
      "Screening progress:   2%|▋                                    | 1/50 [00:00<00:09,  5.06iteration/s]"
     ]
    },
    {
     "name": "stdout",
     "output_type": "stream",
     "text": [
      "Feature Extractor Type: <class 'sklearn.feature_extraction.text.TfidfVectorizer'>\n",
      "Using TfidfVectorizer\n",
      "Feature Extractor Type: <class 'sklearn.feature_extraction.text.TfidfVectorizer'>\n",
      "Using TfidfVectorizer\n"
     ]
    },
    {
     "name": "stderr",
     "output_type": "stream",
     "text": [
      "Screening progress:   6%|██▏                                  | 3/50 [00:00<00:09,  4.97iteration/s]"
     ]
    },
    {
     "name": "stdout",
     "output_type": "stream",
     "text": [
      "Feature Extractor Type: <class 'sklearn.feature_extraction.text.TfidfVectorizer'>\n",
      "Using TfidfVectorizer\n",
      "Feature Extractor Type: <class 'sklearn.feature_extraction.text.TfidfVectorizer'>\n",
      "Using TfidfVectorizer\n"
     ]
    },
    {
     "name": "stderr",
     "output_type": "stream",
     "text": [
      "Screening progress:  10%|███▋                                 | 5/50 [00:01<00:09,  4.92iteration/s]"
     ]
    },
    {
     "name": "stdout",
     "output_type": "stream",
     "text": [
      "Feature Extractor Type: <class 'sklearn.feature_extraction.text.TfidfVectorizer'>\n",
      "Using TfidfVectorizer\n",
      "Feature Extractor Type: <class 'sklearn.feature_extraction.text.TfidfVectorizer'>\n",
      "Using TfidfVectorizer\n"
     ]
    },
    {
     "name": "stderr",
     "output_type": "stream",
     "text": [
      "Screening progress:  14%|█████▏                               | 7/50 [00:01<00:08,  4.89iteration/s]"
     ]
    },
    {
     "name": "stdout",
     "output_type": "stream",
     "text": [
      "Feature Extractor Type: <class 'sklearn.feature_extraction.text.TfidfVectorizer'>\n",
      "Using TfidfVectorizer\n",
      "Feature Extractor Type: <class 'sklearn.feature_extraction.text.TfidfVectorizer'>\n",
      "Using TfidfVectorizer\n"
     ]
    },
    {
     "name": "stderr",
     "output_type": "stream",
     "text": [
      "Screening progress:  18%|██████▋                              | 9/50 [00:01<00:08,  4.80iteration/s]"
     ]
    },
    {
     "name": "stdout",
     "output_type": "stream",
     "text": [
      "Feature Extractor Type: <class 'sklearn.feature_extraction.text.TfidfVectorizer'>\n",
      "Using TfidfVectorizer\n",
      "Feature Extractor Type: <class 'sklearn.feature_extraction.text.TfidfVectorizer'>\n",
      "Using TfidfVectorizer\n"
     ]
    },
    {
     "name": "stderr",
     "output_type": "stream",
     "text": [
      "Screening progress:  22%|███████▉                            | 11/50 [00:02<00:08,  4.81iteration/s]"
     ]
    },
    {
     "name": "stdout",
     "output_type": "stream",
     "text": [
      "Feature Extractor Type: <class 'sklearn.feature_extraction.text.TfidfVectorizer'>\n",
      "Using TfidfVectorizer\n",
      "Feature Extractor Type: <class 'sklearn.feature_extraction.text.TfidfVectorizer'>\n",
      "Using TfidfVectorizer\n"
     ]
    },
    {
     "name": "stderr",
     "output_type": "stream",
     "text": [
      "Screening progress:  26%|█████████▎                          | 13/50 [00:02<00:07,  4.77iteration/s]"
     ]
    },
    {
     "name": "stdout",
     "output_type": "stream",
     "text": [
      "Feature Extractor Type: <class 'sklearn.feature_extraction.text.TfidfVectorizer'>\n",
      "Using TfidfVectorizer\n",
      "Feature Extractor Type: <class 'sklearn.feature_extraction.text.TfidfVectorizer'>\n",
      "Using TfidfVectorizer\n"
     ]
    },
    {
     "name": "stderr",
     "output_type": "stream",
     "text": [
      "Screening progress:  30%|██████████▊                         | 15/50 [00:03<00:07,  4.66iteration/s]"
     ]
    },
    {
     "name": "stdout",
     "output_type": "stream",
     "text": [
      "Feature Extractor Type: <class 'sklearn.feature_extraction.text.TfidfVectorizer'>\n",
      "Using TfidfVectorizer\n",
      "Feature Extractor Type: <class 'sklearn.feature_extraction.text.TfidfVectorizer'>\n",
      "Using TfidfVectorizer\n"
     ]
    },
    {
     "name": "stderr",
     "output_type": "stream",
     "text": [
      "Screening progress:  32%|███████████▌                        | 16/50 [00:03<00:07,  4.62iteration/s]"
     ]
    },
    {
     "name": "stdout",
     "output_type": "stream",
     "text": [
      "Feature Extractor Type: <class 'sklearn.feature_extraction.text.TfidfVectorizer'>\n",
      "Using TfidfVectorizer\n"
     ]
    },
    {
     "name": "stderr",
     "output_type": "stream",
     "text": [
      "Screening progress:  36%|████████████▉                       | 18/50 [00:03<00:07,  4.57iteration/s]"
     ]
    },
    {
     "name": "stdout",
     "output_type": "stream",
     "text": [
      "Feature Extractor Type: <class 'sklearn.feature_extraction.text.TfidfVectorizer'>\n",
      "Using TfidfVectorizer\n",
      "Feature Extractor Type: <class 'sklearn.feature_extraction.text.TfidfVectorizer'>\n",
      "Using TfidfVectorizer\n"
     ]
    },
    {
     "name": "stderr",
     "output_type": "stream",
     "text": [
      "Screening progress:  40%|██████████████▍                     | 20/50 [00:04<00:06,  4.57iteration/s]"
     ]
    },
    {
     "name": "stdout",
     "output_type": "stream",
     "text": [
      "Feature Extractor Type: <class 'sklearn.feature_extraction.text.TfidfVectorizer'>\n",
      "Using TfidfVectorizer\n",
      "Feature Extractor Type: <class 'sklearn.feature_extraction.text.TfidfVectorizer'>\n",
      "Using TfidfVectorizer\n"
     ]
    },
    {
     "name": "stderr",
     "output_type": "stream",
     "text": [
      "Screening progress:  44%|███████████████▊                    | 22/50 [00:04<00:06,  4.59iteration/s]"
     ]
    },
    {
     "name": "stdout",
     "output_type": "stream",
     "text": [
      "Feature Extractor Type: <class 'sklearn.feature_extraction.text.TfidfVectorizer'>\n",
      "Using TfidfVectorizer\n",
      "Feature Extractor Type: <class 'sklearn.feature_extraction.text.TfidfVectorizer'>\n",
      "Using TfidfVectorizer\n"
     ]
    },
    {
     "name": "stderr",
     "output_type": "stream",
     "text": [
      "Screening progress:  48%|█████████████████▎                  | 24/50 [00:05<00:05,  4.63iteration/s]"
     ]
    },
    {
     "name": "stdout",
     "output_type": "stream",
     "text": [
      "Feature Extractor Type: <class 'sklearn.feature_extraction.text.TfidfVectorizer'>\n",
      "Using TfidfVectorizer\n",
      "Feature Extractor Type: <class 'sklearn.feature_extraction.text.TfidfVectorizer'>\n",
      "Using TfidfVectorizer\n"
     ]
    },
    {
     "name": "stderr",
     "output_type": "stream",
     "text": [
      "Screening progress:  52%|██████████████████▋                 | 26/50 [00:05<00:05,  4.63iteration/s]"
     ]
    },
    {
     "name": "stdout",
     "output_type": "stream",
     "text": [
      "Feature Extractor Type: <class 'sklearn.feature_extraction.text.TfidfVectorizer'>\n",
      "Using TfidfVectorizer\n",
      "Feature Extractor Type: <class 'sklearn.feature_extraction.text.TfidfVectorizer'>\n",
      "Using TfidfVectorizer\n"
     ]
    },
    {
     "name": "stderr",
     "output_type": "stream",
     "text": [
      "Screening progress:  56%|████████████████████▏               | 28/50 [00:05<00:04,  4.62iteration/s]"
     ]
    },
    {
     "name": "stdout",
     "output_type": "stream",
     "text": [
      "Feature Extractor Type: <class 'sklearn.feature_extraction.text.TfidfVectorizer'>\n",
      "Using TfidfVectorizer\n",
      "Feature Extractor Type: <class 'sklearn.feature_extraction.text.TfidfVectorizer'>\n",
      "Using TfidfVectorizer\n"
     ]
    },
    {
     "name": "stderr",
     "output_type": "stream",
     "text": [
      "Screening progress:  60%|█████████████████████▌              | 30/50 [00:06<00:04,  4.63iteration/s]"
     ]
    },
    {
     "name": "stdout",
     "output_type": "stream",
     "text": [
      "Feature Extractor Type: <class 'sklearn.feature_extraction.text.TfidfVectorizer'>\n",
      "Using TfidfVectorizer\n",
      "Feature Extractor Type: <class 'sklearn.feature_extraction.text.TfidfVectorizer'>\n",
      "Using TfidfVectorizer\n"
     ]
    },
    {
     "name": "stderr",
     "output_type": "stream",
     "text": [
      "Screening progress:  64%|███████████████████████             | 32/50 [00:06<00:03,  4.65iteration/s]"
     ]
    },
    {
     "name": "stdout",
     "output_type": "stream",
     "text": [
      "Feature Extractor Type: <class 'sklearn.feature_extraction.text.TfidfVectorizer'>\n",
      "Using TfidfVectorizer\n",
      "Feature Extractor Type: <class 'sklearn.feature_extraction.text.TfidfVectorizer'>\n",
      "Using TfidfVectorizer\n"
     ]
    },
    {
     "name": "stderr",
     "output_type": "stream",
     "text": [
      "Screening progress:  68%|████████████████████████▍           | 34/50 [00:07<00:03,  4.64iteration/s]"
     ]
    },
    {
     "name": "stdout",
     "output_type": "stream",
     "text": [
      "Feature Extractor Type: <class 'sklearn.feature_extraction.text.TfidfVectorizer'>\n",
      "Using TfidfVectorizer\n",
      "Feature Extractor Type: <class 'sklearn.feature_extraction.text.TfidfVectorizer'>\n",
      "Using TfidfVectorizer\n"
     ]
    },
    {
     "name": "stderr",
     "output_type": "stream",
     "text": [
      "Screening progress:  72%|█████████████████████████▉          | 36/50 [00:07<00:03,  4.61iteration/s]"
     ]
    },
    {
     "name": "stdout",
     "output_type": "stream",
     "text": [
      "Feature Extractor Type: <class 'sklearn.feature_extraction.text.TfidfVectorizer'>\n",
      "Using TfidfVectorizer\n",
      "Feature Extractor Type: <class 'sklearn.feature_extraction.text.TfidfVectorizer'>\n",
      "Using TfidfVectorizer\n"
     ]
    },
    {
     "name": "stderr",
     "output_type": "stream",
     "text": [
      "Screening progress:  76%|███████████████████████████▎        | 38/50 [00:08<00:02,  4.60iteration/s]"
     ]
    },
    {
     "name": "stdout",
     "output_type": "stream",
     "text": [
      "Feature Extractor Type: <class 'sklearn.feature_extraction.text.TfidfVectorizer'>\n",
      "Using TfidfVectorizer\n",
      "Feature Extractor Type: <class 'sklearn.feature_extraction.text.TfidfVectorizer'>\n",
      "Using TfidfVectorizer\n"
     ]
    },
    {
     "name": "stderr",
     "output_type": "stream",
     "text": [
      "Screening progress:  80%|████████████████████████████▊       | 40/50 [00:08<00:02,  4.63iteration/s]"
     ]
    },
    {
     "name": "stdout",
     "output_type": "stream",
     "text": [
      "Feature Extractor Type: <class 'sklearn.feature_extraction.text.TfidfVectorizer'>\n",
      "Using TfidfVectorizer\n",
      "Feature Extractor Type: <class 'sklearn.feature_extraction.text.TfidfVectorizer'>\n",
      "Using TfidfVectorizer\n"
     ]
    },
    {
     "name": "stderr",
     "output_type": "stream",
     "text": [
      "Screening progress:  84%|██████████████████████████████▏     | 42/50 [00:08<00:01,  4.60iteration/s]"
     ]
    },
    {
     "name": "stdout",
     "output_type": "stream",
     "text": [
      "Feature Extractor Type: <class 'sklearn.feature_extraction.text.TfidfVectorizer'>\n",
      "Using TfidfVectorizer\n",
      "Feature Extractor Type: <class 'sklearn.feature_extraction.text.TfidfVectorizer'>\n",
      "Using TfidfVectorizer\n"
     ]
    },
    {
     "name": "stderr",
     "output_type": "stream",
     "text": [
      "Screening progress:  88%|███████████████████████████████▋    | 44/50 [00:09<00:01,  4.50iteration/s]"
     ]
    },
    {
     "name": "stdout",
     "output_type": "stream",
     "text": [
      "Feature Extractor Type: <class 'sklearn.feature_extraction.text.TfidfVectorizer'>\n",
      "Using TfidfVectorizer\n",
      "Feature Extractor Type: <class 'sklearn.feature_extraction.text.TfidfVectorizer'>\n",
      "Using TfidfVectorizer\n"
     ]
    },
    {
     "name": "stderr",
     "output_type": "stream",
     "text": [
      "Screening progress:  92%|█████████████████████████████████   | 46/50 [00:09<00:00,  4.52iteration/s]"
     ]
    },
    {
     "name": "stdout",
     "output_type": "stream",
     "text": [
      "Feature Extractor Type: <class 'sklearn.feature_extraction.text.TfidfVectorizer'>\n",
      "Using TfidfVectorizer\n",
      "Feature Extractor Type: <class 'sklearn.feature_extraction.text.TfidfVectorizer'>\n",
      "Using TfidfVectorizer\n"
     ]
    },
    {
     "name": "stderr",
     "output_type": "stream",
     "text": [
      "Screening progress:  96%|██████████████████████████████████▌ | 48/50 [00:10<00:00,  4.54iteration/s]"
     ]
    },
    {
     "name": "stdout",
     "output_type": "stream",
     "text": [
      "Feature Extractor Type: <class 'sklearn.feature_extraction.text.TfidfVectorizer'>\n",
      "Using TfidfVectorizer\n",
      "Feature Extractor Type: <class 'sklearn.feature_extraction.text.TfidfVectorizer'>\n",
      "Using TfidfVectorizer\n"
     ]
    },
    {
     "name": "stderr",
     "output_type": "stream",
     "text": [
      "Screening progress:  98%|███████████████████████████████████▎| 49/50 [00:10<00:00,  4.56iteration/s]"
     ]
    },
    {
     "name": "stdout",
     "output_type": "stream",
     "text": [
      "Feature Extractor Type: <class 'sklearn.feature_extraction.text.TfidfVectorizer'>\n",
      "Using TfidfVectorizer\n"
     ]
    },
    {
     "name": "stderr",
     "output_type": "stream",
     "text": [
      "Screening progress: 100%|████████████████████████████████████| 50/50 [00:10<00:00,  4.65iteration/s]\n",
      "Screening progress:   0%|                                             | 0/50 [00:00<?, ?iteration/s]"
     ]
    },
    {
     "name": "stdout",
     "output_type": "stream",
     "text": [
      "Feature Extractor Type: <class 'sklearn.feature_extraction.text.TfidfVectorizer'>\n",
      "Using TfidfVectorizer\n"
     ]
    },
    {
     "name": "stderr",
     "output_type": "stream",
     "text": [
      "Screening progress:   4%|█▍                                   | 2/50 [00:00<00:09,  4.94iteration/s]"
     ]
    },
    {
     "name": "stdout",
     "output_type": "stream",
     "text": [
      "Feature Extractor Type: <class 'sklearn.feature_extraction.text.TfidfVectorizer'>\n",
      "Using TfidfVectorizer\n",
      "Feature Extractor Type: <class 'sklearn.feature_extraction.text.TfidfVectorizer'>\n",
      "Using TfidfVectorizer\n"
     ]
    },
    {
     "name": "stderr",
     "output_type": "stream",
     "text": [
      "Screening progress:   8%|██▉                                  | 4/50 [00:00<00:09,  4.92iteration/s]"
     ]
    },
    {
     "name": "stdout",
     "output_type": "stream",
     "text": [
      "Feature Extractor Type: <class 'sklearn.feature_extraction.text.TfidfVectorizer'>\n",
      "Using TfidfVectorizer\n",
      "Feature Extractor Type: <class 'sklearn.feature_extraction.text.TfidfVectorizer'>\n",
      "Using TfidfVectorizer\n"
     ]
    },
    {
     "name": "stderr",
     "output_type": "stream",
     "text": [
      "Screening progress:  12%|████▍                                | 6/50 [00:01<00:08,  4.90iteration/s]"
     ]
    },
    {
     "name": "stdout",
     "output_type": "stream",
     "text": [
      "Feature Extractor Type: <class 'sklearn.feature_extraction.text.TfidfVectorizer'>\n",
      "Using TfidfVectorizer\n",
      "Feature Extractor Type: <class 'sklearn.feature_extraction.text.TfidfVectorizer'>\n",
      "Using TfidfVectorizer\n"
     ]
    },
    {
     "name": "stderr",
     "output_type": "stream",
     "text": [
      "Screening progress:  16%|█████▉                               | 8/50 [00:01<00:08,  4.78iteration/s]"
     ]
    },
    {
     "name": "stdout",
     "output_type": "stream",
     "text": [
      "Feature Extractor Type: <class 'sklearn.feature_extraction.text.TfidfVectorizer'>\n",
      "Using TfidfVectorizer\n",
      "Feature Extractor Type: <class 'sklearn.feature_extraction.text.TfidfVectorizer'>\n",
      "Using TfidfVectorizer\n"
     ]
    },
    {
     "name": "stderr",
     "output_type": "stream",
     "text": [
      "Screening progress:  20%|███████▏                            | 10/50 [00:02<00:08,  4.78iteration/s]"
     ]
    },
    {
     "name": "stdout",
     "output_type": "stream",
     "text": [
      "Feature Extractor Type: <class 'sklearn.feature_extraction.text.TfidfVectorizer'>\n",
      "Using TfidfVectorizer\n",
      "Feature Extractor Type: <class 'sklearn.feature_extraction.text.TfidfVectorizer'>\n",
      "Using TfidfVectorizer\n"
     ]
    },
    {
     "name": "stderr",
     "output_type": "stream",
     "text": [
      "Screening progress:  24%|████████▋                           | 12/50 [00:02<00:07,  4.79iteration/s]"
     ]
    },
    {
     "name": "stdout",
     "output_type": "stream",
     "text": [
      "Feature Extractor Type: <class 'sklearn.feature_extraction.text.TfidfVectorizer'>\n",
      "Using TfidfVectorizer\n",
      "Feature Extractor Type: <class 'sklearn.feature_extraction.text.TfidfVectorizer'>\n",
      "Using TfidfVectorizer\n"
     ]
    },
    {
     "name": "stderr",
     "output_type": "stream",
     "text": [
      "Screening progress:  28%|██████████                          | 14/50 [00:02<00:07,  4.78iteration/s]"
     ]
    },
    {
     "name": "stdout",
     "output_type": "stream",
     "text": [
      "Feature Extractor Type: <class 'sklearn.feature_extraction.text.TfidfVectorizer'>\n",
      "Using TfidfVectorizer\n",
      "Feature Extractor Type: <class 'sklearn.feature_extraction.text.TfidfVectorizer'>\n",
      "Using TfidfVectorizer\n"
     ]
    },
    {
     "name": "stderr",
     "output_type": "stream",
     "text": [
      "Screening progress:  32%|███████████▌                        | 16/50 [00:03<00:07,  4.74iteration/s]"
     ]
    },
    {
     "name": "stdout",
     "output_type": "stream",
     "text": [
      "Feature Extractor Type: <class 'sklearn.feature_extraction.text.TfidfVectorizer'>\n",
      "Using TfidfVectorizer\n",
      "Feature Extractor Type: <class 'sklearn.feature_extraction.text.TfidfVectorizer'>\n",
      "Using TfidfVectorizer\n"
     ]
    },
    {
     "name": "stderr",
     "output_type": "stream",
     "text": [
      "Screening progress:  36%|████████████▉                       | 18/50 [00:03<00:06,  4.70iteration/s]"
     ]
    },
    {
     "name": "stdout",
     "output_type": "stream",
     "text": [
      "Feature Extractor Type: <class 'sklearn.feature_extraction.text.TfidfVectorizer'>\n",
      "Using TfidfVectorizer\n",
      "Feature Extractor Type: <class 'sklearn.feature_extraction.text.TfidfVectorizer'>\n",
      "Using TfidfVectorizer\n"
     ]
    },
    {
     "name": "stderr",
     "output_type": "stream",
     "text": [
      "Screening progress:  40%|██████████████▍                     | 20/50 [00:04<00:06,  4.67iteration/s]"
     ]
    },
    {
     "name": "stdout",
     "output_type": "stream",
     "text": [
      "Feature Extractor Type: <class 'sklearn.feature_extraction.text.TfidfVectorizer'>\n",
      "Using TfidfVectorizer\n",
      "Feature Extractor Type: <class 'sklearn.feature_extraction.text.TfidfVectorizer'>\n",
      "Using TfidfVectorizer\n"
     ]
    },
    {
     "name": "stderr",
     "output_type": "stream",
     "text": [
      "Screening progress:  44%|███████████████▊                    | 22/50 [00:04<00:06,  4.65iteration/s]"
     ]
    },
    {
     "name": "stdout",
     "output_type": "stream",
     "text": [
      "Feature Extractor Type: <class 'sklearn.feature_extraction.text.TfidfVectorizer'>\n",
      "Using TfidfVectorizer\n",
      "Feature Extractor Type: <class 'sklearn.feature_extraction.text.TfidfVectorizer'>\n",
      "Using TfidfVectorizer\n"
     ]
    },
    {
     "name": "stderr",
     "output_type": "stream",
     "text": [
      "Screening progress:  48%|█████████████████▎                  | 24/50 [00:05<00:05,  4.64iteration/s]"
     ]
    },
    {
     "name": "stdout",
     "output_type": "stream",
     "text": [
      "Feature Extractor Type: <class 'sklearn.feature_extraction.text.TfidfVectorizer'>\n",
      "Using TfidfVectorizer\n",
      "Feature Extractor Type: <class 'sklearn.feature_extraction.text.TfidfVectorizer'>\n",
      "Using TfidfVectorizer\n"
     ]
    },
    {
     "name": "stderr",
     "output_type": "stream",
     "text": [
      "Screening progress:  52%|██████████████████▋                 | 26/50 [00:05<00:05,  4.64iteration/s]"
     ]
    },
    {
     "name": "stdout",
     "output_type": "stream",
     "text": [
      "Feature Extractor Type: <class 'sklearn.feature_extraction.text.TfidfVectorizer'>\n",
      "Using TfidfVectorizer\n",
      "Feature Extractor Type: <class 'sklearn.feature_extraction.text.TfidfVectorizer'>\n",
      "Using TfidfVectorizer\n"
     ]
    },
    {
     "name": "stderr",
     "output_type": "stream",
     "text": [
      "Screening progress:  54%|███████████████████▍                | 27/50 [00:05<00:04,  4.61iteration/s]"
     ]
    },
    {
     "name": "stdout",
     "output_type": "stream",
     "text": [
      "Feature Extractor Type: <class 'sklearn.feature_extraction.text.TfidfVectorizer'>\n",
      "Using TfidfVectorizer\n"
     ]
    },
    {
     "name": "stderr",
     "output_type": "stream",
     "text": [
      "Screening progress:  58%|████████████████████▉               | 29/50 [00:06<00:04,  4.64iteration/s]"
     ]
    },
    {
     "name": "stdout",
     "output_type": "stream",
     "text": [
      "Feature Extractor Type: <class 'sklearn.feature_extraction.text.TfidfVectorizer'>\n",
      "Using TfidfVectorizer\n",
      "Feature Extractor Type: <class 'sklearn.feature_extraction.text.TfidfVectorizer'>\n",
      "Using TfidfVectorizer\n"
     ]
    },
    {
     "name": "stderr",
     "output_type": "stream",
     "text": [
      "Screening progress:  62%|██████████████████████▎             | 31/50 [00:06<00:04,  4.64iteration/s]"
     ]
    },
    {
     "name": "stdout",
     "output_type": "stream",
     "text": [
      "Feature Extractor Type: <class 'sklearn.feature_extraction.text.TfidfVectorizer'>\n",
      "Using TfidfVectorizer\n",
      "Feature Extractor Type: <class 'sklearn.feature_extraction.text.TfidfVectorizer'>\n",
      "Using TfidfVectorizer\n"
     ]
    },
    {
     "name": "stderr",
     "output_type": "stream",
     "text": [
      "Screening progress:  64%|███████████████████████             | 32/50 [00:06<00:03,  4.65iteration/s]"
     ]
    },
    {
     "name": "stdout",
     "output_type": "stream",
     "text": [
      "Feature Extractor Type: <class 'sklearn.feature_extraction.text.TfidfVectorizer'>\n",
      "Using TfidfVectorizer\n"
     ]
    },
    {
     "name": "stderr",
     "output_type": "stream",
     "text": [
      "Screening progress:  66%|███████████████████████▊            | 33/50 [00:06<00:03,  4.65iteration/s]"
     ]
    },
    {
     "name": "stdout",
     "output_type": "stream",
     "text": [
      "Feature Extractor Type: <class 'sklearn.feature_extraction.text.TfidfVectorizer'>\n",
      "Using TfidfVectorizer\n"
     ]
    },
    {
     "name": "stderr",
     "output_type": "stream",
     "text": [
      "Screening progress:  70%|█████████████████████████▏          | 35/50 [00:07<00:03,  4.64iteration/s]"
     ]
    },
    {
     "name": "stdout",
     "output_type": "stream",
     "text": [
      "Feature Extractor Type: <class 'sklearn.feature_extraction.text.TfidfVectorizer'>\n",
      "Using TfidfVectorizer\n",
      "Feature Extractor Type: <class 'sklearn.feature_extraction.text.TfidfVectorizer'>\n",
      "Using TfidfVectorizer\n"
     ]
    },
    {
     "name": "stderr",
     "output_type": "stream",
     "text": [
      "Screening progress:  74%|██████████████████████████▋         | 37/50 [00:07<00:02,  4.62iteration/s]"
     ]
    },
    {
     "name": "stdout",
     "output_type": "stream",
     "text": [
      "Feature Extractor Type: <class 'sklearn.feature_extraction.text.TfidfVectorizer'>\n",
      "Using TfidfVectorizer\n",
      "Feature Extractor Type: <class 'sklearn.feature_extraction.text.TfidfVectorizer'>\n",
      "Using TfidfVectorizer\n"
     ]
    },
    {
     "name": "stderr",
     "output_type": "stream",
     "text": [
      "Screening progress:  78%|████████████████████████████        | 39/50 [00:08<00:02,  4.49iteration/s]"
     ]
    },
    {
     "name": "stdout",
     "output_type": "stream",
     "text": [
      "Feature Extractor Type: <class 'sklearn.feature_extraction.text.TfidfVectorizer'>\n",
      "Using TfidfVectorizer\n",
      "Feature Extractor Type: <class 'sklearn.feature_extraction.text.TfidfVectorizer'>\n",
      "Using TfidfVectorizer\n"
     ]
    },
    {
     "name": "stderr",
     "output_type": "stream",
     "text": [
      "Screening progress:  82%|█████████████████████████████▌      | 41/50 [00:08<00:02,  4.44iteration/s]"
     ]
    },
    {
     "name": "stdout",
     "output_type": "stream",
     "text": [
      "Feature Extractor Type: <class 'sklearn.feature_extraction.text.TfidfVectorizer'>\n",
      "Using TfidfVectorizer\n",
      "Feature Extractor Type: <class 'sklearn.feature_extraction.text.TfidfVectorizer'>\n",
      "Using TfidfVectorizer\n"
     ]
    },
    {
     "name": "stderr",
     "output_type": "stream",
     "text": [
      "Screening progress:  84%|██████████████████████████████▏     | 42/50 [00:09<00:01,  4.40iteration/s]"
     ]
    },
    {
     "name": "stdout",
     "output_type": "stream",
     "text": [
      "Feature Extractor Type: <class 'sklearn.feature_extraction.text.TfidfVectorizer'>\n",
      "Using TfidfVectorizer\n"
     ]
    },
    {
     "name": "stderr",
     "output_type": "stream",
     "text": [
      "Screening progress:  88%|███████████████████████████████▋    | 44/50 [00:09<00:01,  3.86iteration/s]"
     ]
    },
    {
     "name": "stdout",
     "output_type": "stream",
     "text": [
      "Feature Extractor Type: <class 'sklearn.feature_extraction.text.TfidfVectorizer'>\n",
      "Using TfidfVectorizer\n",
      "Feature Extractor Type: <class 'sklearn.feature_extraction.text.TfidfVectorizer'>\n",
      "Using TfidfVectorizer\n"
     ]
    },
    {
     "name": "stderr",
     "output_type": "stream",
     "text": [
      "Screening progress:  92%|█████████████████████████████████   | 46/50 [00:10<00:00,  4.17iteration/s]"
     ]
    },
    {
     "name": "stdout",
     "output_type": "stream",
     "text": [
      "Feature Extractor Type: <class 'sklearn.feature_extraction.text.TfidfVectorizer'>\n",
      "Using TfidfVectorizer\n",
      "Feature Extractor Type: <class 'sklearn.feature_extraction.text.TfidfVectorizer'>\n",
      "Using TfidfVectorizer\n"
     ]
    },
    {
     "name": "stderr",
     "output_type": "stream",
     "text": [
      "Screening progress:  94%|█████████████████████████████████▊  | 47/50 [00:10<00:00,  4.20iteration/s]"
     ]
    },
    {
     "name": "stdout",
     "output_type": "stream",
     "text": [
      "Feature Extractor Type: <class 'sklearn.feature_extraction.text.TfidfVectorizer'>\n",
      "Using TfidfVectorizer\n"
     ]
    },
    {
     "name": "stderr",
     "output_type": "stream",
     "text": [
      "Screening progress:  98%|███████████████████████████████████▎| 49/50 [00:10<00:00,  4.07iteration/s]"
     ]
    },
    {
     "name": "stdout",
     "output_type": "stream",
     "text": [
      "Feature Extractor Type: <class 'sklearn.feature_extraction.text.TfidfVectorizer'>\n",
      "Using TfidfVectorizer\n",
      "Feature Extractor Type: <class 'sklearn.feature_extraction.text.TfidfVectorizer'>\n",
      "Using TfidfVectorizer\n"
     ]
    },
    {
     "name": "stderr",
     "output_type": "stream",
     "text": [
      "Screening progress: 100%|████████████████████████████████████| 50/50 [00:11<00:00,  4.53iteration/s]\n",
      "Screening progress:   2%|▋                                    | 1/50 [00:00<00:09,  5.17iteration/s]"
     ]
    },
    {
     "name": "stdout",
     "output_type": "stream",
     "text": [
      "Feature Extractor Type: <class 'sklearn.feature_extraction.text.TfidfVectorizer'>\n",
      "Using TfidfVectorizer\n",
      "Feature Extractor Type: <class 'sklearn.feature_extraction.text.TfidfVectorizer'>\n",
      "Using TfidfVectorizer\n"
     ]
    },
    {
     "name": "stderr",
     "output_type": "stream",
     "text": [
      "Screening progress:   6%|██▏                                  | 3/50 [00:00<00:09,  4.97iteration/s]"
     ]
    },
    {
     "name": "stdout",
     "output_type": "stream",
     "text": [
      "Feature Extractor Type: <class 'sklearn.feature_extraction.text.TfidfVectorizer'>\n",
      "Using TfidfVectorizer\n",
      "Feature Extractor Type: <class 'sklearn.feature_extraction.text.TfidfVectorizer'>\n",
      "Using TfidfVectorizer\n"
     ]
    },
    {
     "name": "stderr",
     "output_type": "stream",
     "text": [
      "Screening progress:   8%|██▉                                  | 4/50 [00:00<00:09,  4.88iteration/s]"
     ]
    },
    {
     "name": "stdout",
     "output_type": "stream",
     "text": [
      "Feature Extractor Type: <class 'sklearn.feature_extraction.text.TfidfVectorizer'>\n",
      "Using TfidfVectorizer\n"
     ]
    },
    {
     "name": "stderr",
     "output_type": "stream",
     "text": [
      "Screening progress:  12%|████▍                                | 6/50 [00:01<00:10,  4.29iteration/s]"
     ]
    },
    {
     "name": "stdout",
     "output_type": "stream",
     "text": [
      "Feature Extractor Type: <class 'sklearn.feature_extraction.text.TfidfVectorizer'>\n",
      "Using TfidfVectorizer\n",
      "Feature Extractor Type: <class 'sklearn.feature_extraction.text.TfidfVectorizer'>\n",
      "Using TfidfVectorizer\n"
     ]
    },
    {
     "name": "stderr",
     "output_type": "stream",
     "text": [
      "Screening progress:  16%|█████▉                               | 8/50 [00:01<00:09,  4.53iteration/s]"
     ]
    },
    {
     "name": "stdout",
     "output_type": "stream",
     "text": [
      "Feature Extractor Type: <class 'sklearn.feature_extraction.text.TfidfVectorizer'>\n",
      "Using TfidfVectorizer\n",
      "Feature Extractor Type: <class 'sklearn.feature_extraction.text.TfidfVectorizer'>\n",
      "Using TfidfVectorizer\n"
     ]
    },
    {
     "name": "stderr",
     "output_type": "stream",
     "text": [
      "Screening progress:  20%|███████▏                            | 10/50 [00:02<00:08,  4.70iteration/s]"
     ]
    },
    {
     "name": "stdout",
     "output_type": "stream",
     "text": [
      "Feature Extractor Type: <class 'sklearn.feature_extraction.text.TfidfVectorizer'>\n",
      "Using TfidfVectorizer\n",
      "Feature Extractor Type: <class 'sklearn.feature_extraction.text.TfidfVectorizer'>\n",
      "Using TfidfVectorizer\n"
     ]
    },
    {
     "name": "stderr",
     "output_type": "stream",
     "text": [
      "Screening progress:  24%|████████▋                           | 12/50 [00:02<00:07,  4.75iteration/s]"
     ]
    },
    {
     "name": "stdout",
     "output_type": "stream",
     "text": [
      "Feature Extractor Type: <class 'sklearn.feature_extraction.text.TfidfVectorizer'>\n",
      "Using TfidfVectorizer\n",
      "Feature Extractor Type: <class 'sklearn.feature_extraction.text.TfidfVectorizer'>\n",
      "Using TfidfVectorizer\n"
     ]
    },
    {
     "name": "stderr",
     "output_type": "stream",
     "text": [
      "Screening progress:  28%|██████████                          | 14/50 [00:02<00:07,  4.78iteration/s]"
     ]
    },
    {
     "name": "stdout",
     "output_type": "stream",
     "text": [
      "Feature Extractor Type: <class 'sklearn.feature_extraction.text.TfidfVectorizer'>\n",
      "Using TfidfVectorizer\n",
      "Feature Extractor Type: <class 'sklearn.feature_extraction.text.TfidfVectorizer'>\n",
      "Using TfidfVectorizer\n"
     ]
    },
    {
     "name": "stderr",
     "output_type": "stream",
     "text": [
      "Screening progress:  32%|███████████▌                        | 16/50 [00:03<00:07,  4.70iteration/s]"
     ]
    },
    {
     "name": "stdout",
     "output_type": "stream",
     "text": [
      "Feature Extractor Type: <class 'sklearn.feature_extraction.text.TfidfVectorizer'>\n",
      "Using TfidfVectorizer\n",
      "Feature Extractor Type: <class 'sklearn.feature_extraction.text.TfidfVectorizer'>\n",
      "Using TfidfVectorizer\n"
     ]
    },
    {
     "name": "stderr",
     "output_type": "stream",
     "text": [
      "Screening progress:  36%|████████████▉                       | 18/50 [00:03<00:06,  4.69iteration/s]"
     ]
    },
    {
     "name": "stdout",
     "output_type": "stream",
     "text": [
      "Feature Extractor Type: <class 'sklearn.feature_extraction.text.TfidfVectorizer'>\n",
      "Using TfidfVectorizer\n",
      "Feature Extractor Type: <class 'sklearn.feature_extraction.text.TfidfVectorizer'>\n",
      "Using TfidfVectorizer\n"
     ]
    },
    {
     "name": "stderr",
     "output_type": "stream",
     "text": [
      "Screening progress:  40%|██████████████▍                     | 20/50 [00:04<00:06,  4.69iteration/s]"
     ]
    },
    {
     "name": "stdout",
     "output_type": "stream",
     "text": [
      "Feature Extractor Type: <class 'sklearn.feature_extraction.text.TfidfVectorizer'>\n",
      "Using TfidfVectorizer\n",
      "Feature Extractor Type: <class 'sklearn.feature_extraction.text.TfidfVectorizer'>\n",
      "Using TfidfVectorizer\n"
     ]
    },
    {
     "name": "stderr",
     "output_type": "stream",
     "text": [
      "Screening progress:  44%|███████████████▊                    | 22/50 [00:04<00:05,  4.69iteration/s]"
     ]
    },
    {
     "name": "stdout",
     "output_type": "stream",
     "text": [
      "Feature Extractor Type: <class 'sklearn.feature_extraction.text.TfidfVectorizer'>\n",
      "Using TfidfVectorizer\n",
      "Feature Extractor Type: <class 'sklearn.feature_extraction.text.TfidfVectorizer'>\n",
      "Using TfidfVectorizer\n"
     ]
    },
    {
     "name": "stderr",
     "output_type": "stream",
     "text": [
      "Screening progress:  48%|█████████████████▎                  | 24/50 [00:05<00:05,  4.71iteration/s]"
     ]
    },
    {
     "name": "stdout",
     "output_type": "stream",
     "text": [
      "Feature Extractor Type: <class 'sklearn.feature_extraction.text.TfidfVectorizer'>\n",
      "Using TfidfVectorizer\n",
      "Feature Extractor Type: <class 'sklearn.feature_extraction.text.TfidfVectorizer'>\n",
      "Using TfidfVectorizer\n"
     ]
    },
    {
     "name": "stderr",
     "output_type": "stream",
     "text": [
      "Screening progress:  50%|██████████████████                  | 25/50 [00:05<00:05,  4.69iteration/s]"
     ]
    },
    {
     "name": "stdout",
     "output_type": "stream",
     "text": [
      "Feature Extractor Type: <class 'sklearn.feature_extraction.text.TfidfVectorizer'>\n",
      "Using TfidfVectorizer\n"
     ]
    },
    {
     "name": "stderr",
     "output_type": "stream",
     "text": [
      "Screening progress:  52%|██████████████████▋                 | 26/50 [00:05<00:05,  4.67iteration/s]"
     ]
    },
    {
     "name": "stdout",
     "output_type": "stream",
     "text": [
      "Feature Extractor Type: <class 'sklearn.feature_extraction.text.TfidfVectorizer'>\n",
      "Using TfidfVectorizer\n"
     ]
    },
    {
     "name": "stderr",
     "output_type": "stream",
     "text": [
      "Screening progress:  56%|████████████████████▏               | 28/50 [00:05<00:04,  4.70iteration/s]"
     ]
    },
    {
     "name": "stdout",
     "output_type": "stream",
     "text": [
      "Feature Extractor Type: <class 'sklearn.feature_extraction.text.TfidfVectorizer'>\n",
      "Using TfidfVectorizer\n",
      "Feature Extractor Type: <class 'sklearn.feature_extraction.text.TfidfVectorizer'>\n",
      "Using TfidfVectorizer\n"
     ]
    },
    {
     "name": "stderr",
     "output_type": "stream",
     "text": [
      "Screening progress:  60%|█████████████████████▌              | 30/50 [00:06<00:04,  4.70iteration/s]"
     ]
    },
    {
     "name": "stdout",
     "output_type": "stream",
     "text": [
      "Feature Extractor Type: <class 'sklearn.feature_extraction.text.TfidfVectorizer'>\n",
      "Using TfidfVectorizer\n",
      "Feature Extractor Type: <class 'sklearn.feature_extraction.text.TfidfVectorizer'>\n",
      "Using TfidfVectorizer\n"
     ]
    },
    {
     "name": "stderr",
     "output_type": "stream",
     "text": [
      "Screening progress:  64%|███████████████████████             | 32/50 [00:06<00:03,  4.70iteration/s]"
     ]
    },
    {
     "name": "stdout",
     "output_type": "stream",
     "text": [
      "Feature Extractor Type: <class 'sklearn.feature_extraction.text.TfidfVectorizer'>\n",
      "Using TfidfVectorizer\n",
      "Feature Extractor Type: <class 'sklearn.feature_extraction.text.TfidfVectorizer'>\n",
      "Using TfidfVectorizer\n"
     ]
    },
    {
     "name": "stderr",
     "output_type": "stream",
     "text": [
      "Screening progress:  68%|████████████████████████▍           | 34/50 [00:07<00:03,  4.67iteration/s]"
     ]
    },
    {
     "name": "stdout",
     "output_type": "stream",
     "text": [
      "Feature Extractor Type: <class 'sklearn.feature_extraction.text.TfidfVectorizer'>\n",
      "Using TfidfVectorizer\n",
      "Feature Extractor Type: <class 'sklearn.feature_extraction.text.TfidfVectorizer'>\n",
      "Using TfidfVectorizer\n"
     ]
    },
    {
     "name": "stderr",
     "output_type": "stream",
     "text": [
      "Screening progress:  72%|█████████████████████████▉          | 36/50 [00:07<00:03,  4.65iteration/s]"
     ]
    },
    {
     "name": "stdout",
     "output_type": "stream",
     "text": [
      "Feature Extractor Type: <class 'sklearn.feature_extraction.text.TfidfVectorizer'>\n",
      "Using TfidfVectorizer\n",
      "Feature Extractor Type: <class 'sklearn.feature_extraction.text.TfidfVectorizer'>\n",
      "Using TfidfVectorizer\n"
     ]
    },
    {
     "name": "stderr",
     "output_type": "stream",
     "text": [
      "Screening progress:  76%|███████████████████████████▎        | 38/50 [00:08<00:02,  4.65iteration/s]"
     ]
    },
    {
     "name": "stdout",
     "output_type": "stream",
     "text": [
      "Feature Extractor Type: <class 'sklearn.feature_extraction.text.TfidfVectorizer'>\n",
      "Using TfidfVectorizer\n",
      "Feature Extractor Type: <class 'sklearn.feature_extraction.text.TfidfVectorizer'>\n",
      "Using TfidfVectorizer\n"
     ]
    },
    {
     "name": "stderr",
     "output_type": "stream",
     "text": [
      "Screening progress:  80%|████████████████████████████▊       | 40/50 [00:08<00:02,  4.66iteration/s]"
     ]
    },
    {
     "name": "stdout",
     "output_type": "stream",
     "text": [
      "Feature Extractor Type: <class 'sklearn.feature_extraction.text.TfidfVectorizer'>\n",
      "Using TfidfVectorizer\n",
      "Feature Extractor Type: <class 'sklearn.feature_extraction.text.TfidfVectorizer'>\n",
      "Using TfidfVectorizer\n"
     ]
    },
    {
     "name": "stderr",
     "output_type": "stream",
     "text": [
      "Screening progress:  84%|██████████████████████████████▏     | 42/50 [00:08<00:01,  4.64iteration/s]"
     ]
    },
    {
     "name": "stdout",
     "output_type": "stream",
     "text": [
      "Feature Extractor Type: <class 'sklearn.feature_extraction.text.TfidfVectorizer'>\n",
      "Using TfidfVectorizer\n",
      "Feature Extractor Type: <class 'sklearn.feature_extraction.text.TfidfVectorizer'>\n",
      "Using TfidfVectorizer\n"
     ]
    },
    {
     "name": "stderr",
     "output_type": "stream",
     "text": [
      "Screening progress:  88%|███████████████████████████████▋    | 44/50 [00:09<00:01,  4.61iteration/s]"
     ]
    },
    {
     "name": "stdout",
     "output_type": "stream",
     "text": [
      "Feature Extractor Type: <class 'sklearn.feature_extraction.text.TfidfVectorizer'>\n",
      "Using TfidfVectorizer\n",
      "Feature Extractor Type: <class 'sklearn.feature_extraction.text.TfidfVectorizer'>\n",
      "Using TfidfVectorizer\n"
     ]
    },
    {
     "name": "stderr",
     "output_type": "stream",
     "text": [
      "Screening progress:  92%|█████████████████████████████████   | 46/50 [00:09<00:00,  4.62iteration/s]"
     ]
    },
    {
     "name": "stdout",
     "output_type": "stream",
     "text": [
      "Feature Extractor Type: <class 'sklearn.feature_extraction.text.TfidfVectorizer'>\n",
      "Using TfidfVectorizer\n",
      "Feature Extractor Type: <class 'sklearn.feature_extraction.text.TfidfVectorizer'>\n",
      "Using TfidfVectorizer\n"
     ]
    },
    {
     "name": "stderr",
     "output_type": "stream",
     "text": [
      "Screening progress:  96%|██████████████████████████████████▌ | 48/50 [00:10<00:00,  4.62iteration/s]"
     ]
    },
    {
     "name": "stdout",
     "output_type": "stream",
     "text": [
      "Feature Extractor Type: <class 'sklearn.feature_extraction.text.TfidfVectorizer'>\n",
      "Using TfidfVectorizer\n",
      "Feature Extractor Type: <class 'sklearn.feature_extraction.text.TfidfVectorizer'>\n",
      "Using TfidfVectorizer\n"
     ]
    },
    {
     "name": "stderr",
     "output_type": "stream",
     "text": [
      "Screening progress: 100%|████████████████████████████████████| 50/50 [00:10<00:00,  4.66iteration/s]"
     ]
    },
    {
     "name": "stdout",
     "output_type": "stream",
     "text": [
      "Feature Extractor Type: <class 'sklearn.feature_extraction.text.TfidfVectorizer'>\n",
      "Using TfidfVectorizer\n"
     ]
    },
    {
     "name": "stderr",
     "output_type": "stream",
     "text": [
      "\n",
      "Screening progress:   0%|                                             | 0/98 [00:00<?, ?iteration/s]"
     ]
    },
    {
     "name": "stdout",
     "output_type": "stream",
     "text": [
      "Feature Extractor Type: <class 'sklearn.feature_extraction.text.TfidfVectorizer'>\n",
      "Using TfidfVectorizer\n"
     ]
    },
    {
     "name": "stderr",
     "output_type": "stream",
     "text": [
      "Screening progress:   1%|▍                                    | 1/98 [00:00<00:38,  2.54iteration/s]"
     ]
    },
    {
     "name": "stdout",
     "output_type": "stream",
     "text": [
      "Feature Extractor Type: <class 'sklearn.feature_extraction.text.TfidfVectorizer'>\n",
      "Using TfidfVectorizer\n"
     ]
    },
    {
     "name": "stderr",
     "output_type": "stream",
     "text": [
      "Screening progress:   2%|▊                                    | 2/98 [00:00<00:39,  2.40iteration/s]"
     ]
    },
    {
     "name": "stdout",
     "output_type": "stream",
     "text": [
      "Feature Extractor Type: <class 'sklearn.feature_extraction.text.TfidfVectorizer'>\n",
      "Using TfidfVectorizer\n"
     ]
    },
    {
     "name": "stderr",
     "output_type": "stream",
     "text": [
      "Screening progress:   3%|█▏                                   | 3/98 [00:01<00:39,  2.42iteration/s]"
     ]
    },
    {
     "name": "stdout",
     "output_type": "stream",
     "text": [
      "Feature Extractor Type: <class 'sklearn.feature_extraction.text.TfidfVectorizer'>\n",
      "Using TfidfVectorizer\n"
     ]
    },
    {
     "name": "stderr",
     "output_type": "stream",
     "text": [
      "Screening progress:   4%|█▌                                   | 4/98 [00:01<00:38,  2.43iteration/s]"
     ]
    },
    {
     "name": "stdout",
     "output_type": "stream",
     "text": [
      "Feature Extractor Type: <class 'sklearn.feature_extraction.text.TfidfVectorizer'>\n",
      "Using TfidfVectorizer\n"
     ]
    },
    {
     "name": "stderr",
     "output_type": "stream",
     "text": [
      "Screening progress:   5%|█▉                                   | 5/98 [00:02<00:38,  2.41iteration/s]"
     ]
    },
    {
     "name": "stdout",
     "output_type": "stream",
     "text": [
      "Feature Extractor Type: <class 'sklearn.feature_extraction.text.TfidfVectorizer'>\n",
      "Using TfidfVectorizer\n"
     ]
    },
    {
     "name": "stderr",
     "output_type": "stream",
     "text": [
      "Screening progress:   6%|██▎                                  | 6/98 [00:02<00:38,  2.37iteration/s]"
     ]
    },
    {
     "name": "stdout",
     "output_type": "stream",
     "text": [
      "Feature Extractor Type: <class 'sklearn.feature_extraction.text.TfidfVectorizer'>\n",
      "Using TfidfVectorizer\n"
     ]
    },
    {
     "name": "stderr",
     "output_type": "stream",
     "text": [
      "Screening progress:   7%|██▋                                  | 7/98 [00:02<00:38,  2.36iteration/s]"
     ]
    },
    {
     "name": "stdout",
     "output_type": "stream",
     "text": [
      "Feature Extractor Type: <class 'sklearn.feature_extraction.text.TfidfVectorizer'>\n",
      "Using TfidfVectorizer\n"
     ]
    },
    {
     "name": "stderr",
     "output_type": "stream",
     "text": [
      "Screening progress:   8%|███                                  | 8/98 [00:03<00:38,  2.36iteration/s]"
     ]
    },
    {
     "name": "stdout",
     "output_type": "stream",
     "text": [
      "Feature Extractor Type: <class 'sklearn.feature_extraction.text.TfidfVectorizer'>\n",
      "Using TfidfVectorizer\n"
     ]
    },
    {
     "name": "stderr",
     "output_type": "stream",
     "text": [
      "Screening progress:   9%|███▍                                 | 9/98 [00:03<00:37,  2.37iteration/s]"
     ]
    },
    {
     "name": "stdout",
     "output_type": "stream",
     "text": [
      "Feature Extractor Type: <class 'sklearn.feature_extraction.text.TfidfVectorizer'>\n",
      "Using TfidfVectorizer\n"
     ]
    },
    {
     "name": "stderr",
     "output_type": "stream",
     "text": [
      "Screening progress:  10%|███▋                                | 10/98 [00:04<00:37,  2.37iteration/s]"
     ]
    },
    {
     "name": "stdout",
     "output_type": "stream",
     "text": [
      "Feature Extractor Type: <class 'sklearn.feature_extraction.text.TfidfVectorizer'>\n",
      "Using TfidfVectorizer\n"
     ]
    },
    {
     "name": "stderr",
     "output_type": "stream",
     "text": [
      "Screening progress:  11%|████                                | 11/98 [00:04<00:36,  2.37iteration/s]"
     ]
    },
    {
     "name": "stdout",
     "output_type": "stream",
     "text": [
      "Feature Extractor Type: <class 'sklearn.feature_extraction.text.TfidfVectorizer'>\n",
      "Using TfidfVectorizer\n"
     ]
    },
    {
     "name": "stderr",
     "output_type": "stream",
     "text": [
      "Screening progress:  12%|████▍                               | 12/98 [00:05<00:36,  2.37iteration/s]"
     ]
    },
    {
     "name": "stdout",
     "output_type": "stream",
     "text": [
      "Feature Extractor Type: <class 'sklearn.feature_extraction.text.TfidfVectorizer'>\n",
      "Using TfidfVectorizer\n"
     ]
    },
    {
     "name": "stderr",
     "output_type": "stream",
     "text": [
      "Screening progress:  13%|████▊                               | 13/98 [00:05<00:35,  2.37iteration/s]"
     ]
    },
    {
     "name": "stdout",
     "output_type": "stream",
     "text": [
      "Feature Extractor Type: <class 'sklearn.feature_extraction.text.TfidfVectorizer'>\n",
      "Using TfidfVectorizer\n"
     ]
    },
    {
     "name": "stderr",
     "output_type": "stream",
     "text": [
      "Screening progress:  14%|█████▏                              | 14/98 [00:05<00:35,  2.36iteration/s]"
     ]
    },
    {
     "name": "stdout",
     "output_type": "stream",
     "text": [
      "Feature Extractor Type: <class 'sklearn.feature_extraction.text.TfidfVectorizer'>\n",
      "Using TfidfVectorizer\n"
     ]
    },
    {
     "name": "stderr",
     "output_type": "stream",
     "text": [
      "Screening progress:  15%|█████▌                              | 15/98 [00:06<00:35,  2.36iteration/s]"
     ]
    },
    {
     "name": "stdout",
     "output_type": "stream",
     "text": [
      "Feature Extractor Type: <class 'sklearn.feature_extraction.text.TfidfVectorizer'>\n",
      "Using TfidfVectorizer\n"
     ]
    },
    {
     "name": "stderr",
     "output_type": "stream",
     "text": [
      "Screening progress:  16%|█████▉                              | 16/98 [00:06<00:34,  2.36iteration/s]"
     ]
    },
    {
     "name": "stdout",
     "output_type": "stream",
     "text": [
      "Feature Extractor Type: <class 'sklearn.feature_extraction.text.TfidfVectorizer'>\n",
      "Using TfidfVectorizer\n"
     ]
    },
    {
     "name": "stderr",
     "output_type": "stream",
     "text": [
      "Screening progress:  17%|██████▏                             | 17/98 [00:07<00:34,  2.36iteration/s]"
     ]
    },
    {
     "name": "stdout",
     "output_type": "stream",
     "text": [
      "Feature Extractor Type: <class 'sklearn.feature_extraction.text.TfidfVectorizer'>\n",
      "Using TfidfVectorizer\n"
     ]
    },
    {
     "name": "stderr",
     "output_type": "stream",
     "text": [
      "Screening progress:  18%|██████▌                             | 18/98 [00:07<00:33,  2.35iteration/s]"
     ]
    },
    {
     "name": "stdout",
     "output_type": "stream",
     "text": [
      "Feature Extractor Type: <class 'sklearn.feature_extraction.text.TfidfVectorizer'>\n",
      "Using TfidfVectorizer\n"
     ]
    },
    {
     "name": "stderr",
     "output_type": "stream",
     "text": [
      "Screening progress:  19%|██████▉                             | 19/98 [00:08<00:33,  2.36iteration/s]"
     ]
    },
    {
     "name": "stdout",
     "output_type": "stream",
     "text": [
      "Feature Extractor Type: <class 'sklearn.feature_extraction.text.TfidfVectorizer'>\n",
      "Using TfidfVectorizer\n"
     ]
    },
    {
     "name": "stderr",
     "output_type": "stream",
     "text": [
      "Screening progress:  20%|███████▎                            | 20/98 [00:08<00:33,  2.36iteration/s]"
     ]
    },
    {
     "name": "stdout",
     "output_type": "stream",
     "text": [
      "Feature Extractor Type: <class 'sklearn.feature_extraction.text.TfidfVectorizer'>\n",
      "Using TfidfVectorizer\n"
     ]
    },
    {
     "name": "stderr",
     "output_type": "stream",
     "text": [
      "Screening progress:  21%|███████▋                            | 21/98 [00:08<00:32,  2.36iteration/s]"
     ]
    },
    {
     "name": "stdout",
     "output_type": "stream",
     "text": [
      "Feature Extractor Type: <class 'sklearn.feature_extraction.text.TfidfVectorizer'>\n",
      "Using TfidfVectorizer\n"
     ]
    },
    {
     "name": "stderr",
     "output_type": "stream",
     "text": [
      "Screening progress:  22%|████████                            | 22/98 [00:09<00:32,  2.33iteration/s]"
     ]
    },
    {
     "name": "stdout",
     "output_type": "stream",
     "text": [
      "Feature Extractor Type: <class 'sklearn.feature_extraction.text.TfidfVectorizer'>\n",
      "Using TfidfVectorizer\n"
     ]
    },
    {
     "name": "stderr",
     "output_type": "stream",
     "text": [
      "Screening progress:  23%|████████▍                           | 23/98 [00:09<00:31,  2.35iteration/s]"
     ]
    },
    {
     "name": "stdout",
     "output_type": "stream",
     "text": [
      "Feature Extractor Type: <class 'sklearn.feature_extraction.text.TfidfVectorizer'>\n",
      "Using TfidfVectorizer\n"
     ]
    },
    {
     "name": "stderr",
     "output_type": "stream",
     "text": [
      "Screening progress:  24%|████████▊                           | 24/98 [00:10<00:31,  2.35iteration/s]"
     ]
    },
    {
     "name": "stdout",
     "output_type": "stream",
     "text": [
      "Feature Extractor Type: <class 'sklearn.feature_extraction.text.TfidfVectorizer'>\n",
      "Using TfidfVectorizer\n"
     ]
    },
    {
     "name": "stderr",
     "output_type": "stream",
     "text": [
      "Screening progress:  26%|█████████▏                          | 25/98 [00:10<00:31,  2.35iteration/s]"
     ]
    },
    {
     "name": "stdout",
     "output_type": "stream",
     "text": [
      "Feature Extractor Type: <class 'sklearn.feature_extraction.text.TfidfVectorizer'>\n",
      "Using TfidfVectorizer\n"
     ]
    },
    {
     "name": "stderr",
     "output_type": "stream",
     "text": [
      "Screening progress:  27%|█████████▌                          | 26/98 [00:10<00:30,  2.35iteration/s]"
     ]
    },
    {
     "name": "stdout",
     "output_type": "stream",
     "text": [
      "Feature Extractor Type: <class 'sklearn.feature_extraction.text.TfidfVectorizer'>\n",
      "Using TfidfVectorizer\n"
     ]
    },
    {
     "name": "stderr",
     "output_type": "stream",
     "text": [
      "Screening progress:  28%|█████████▉                          | 27/98 [00:11<00:30,  2.35iteration/s]"
     ]
    },
    {
     "name": "stdout",
     "output_type": "stream",
     "text": [
      "Feature Extractor Type: <class 'sklearn.feature_extraction.text.TfidfVectorizer'>\n",
      "Using TfidfVectorizer\n"
     ]
    },
    {
     "name": "stderr",
     "output_type": "stream",
     "text": [
      "Screening progress:  29%|██████████▎                         | 28/98 [00:11<00:29,  2.35iteration/s]"
     ]
    },
    {
     "name": "stdout",
     "output_type": "stream",
     "text": [
      "Feature Extractor Type: <class 'sklearn.feature_extraction.text.TfidfVectorizer'>\n",
      "Using TfidfVectorizer\n"
     ]
    },
    {
     "name": "stderr",
     "output_type": "stream",
     "text": [
      "Screening progress:  30%|██████████▋                         | 29/98 [00:12<00:29,  2.35iteration/s]"
     ]
    },
    {
     "name": "stdout",
     "output_type": "stream",
     "text": [
      "Feature Extractor Type: <class 'sklearn.feature_extraction.text.TfidfVectorizer'>\n",
      "Using TfidfVectorizer\n"
     ]
    },
    {
     "name": "stderr",
     "output_type": "stream",
     "text": [
      "Screening progress:  31%|███████████                         | 30/98 [00:12<00:29,  2.34iteration/s]"
     ]
    },
    {
     "name": "stdout",
     "output_type": "stream",
     "text": [
      "Feature Extractor Type: <class 'sklearn.feature_extraction.text.TfidfVectorizer'>\n",
      "Using TfidfVectorizer\n"
     ]
    },
    {
     "name": "stderr",
     "output_type": "stream",
     "text": [
      "Screening progress:  32%|███████████▍                        | 31/98 [00:13<00:28,  2.34iteration/s]"
     ]
    },
    {
     "name": "stdout",
     "output_type": "stream",
     "text": [
      "Feature Extractor Type: <class 'sklearn.feature_extraction.text.TfidfVectorizer'>\n",
      "Using TfidfVectorizer\n"
     ]
    },
    {
     "name": "stderr",
     "output_type": "stream",
     "text": [
      "Screening progress:  33%|███████████▊                        | 32/98 [00:13<00:28,  2.34iteration/s]"
     ]
    },
    {
     "name": "stdout",
     "output_type": "stream",
     "text": [
      "Feature Extractor Type: <class 'sklearn.feature_extraction.text.TfidfVectorizer'>\n",
      "Using TfidfVectorizer\n"
     ]
    },
    {
     "name": "stderr",
     "output_type": "stream",
     "text": [
      "Screening progress:  34%|████████████                        | 33/98 [00:13<00:27,  2.35iteration/s]"
     ]
    },
    {
     "name": "stdout",
     "output_type": "stream",
     "text": [
      "Feature Extractor Type: <class 'sklearn.feature_extraction.text.TfidfVectorizer'>\n",
      "Using TfidfVectorizer\n"
     ]
    },
    {
     "name": "stderr",
     "output_type": "stream",
     "text": [
      "Screening progress:  35%|████████████▍                       | 34/98 [00:14<00:27,  2.35iteration/s]"
     ]
    },
    {
     "name": "stdout",
     "output_type": "stream",
     "text": [
      "Feature Extractor Type: <class 'sklearn.feature_extraction.text.TfidfVectorizer'>\n",
      "Using TfidfVectorizer\n"
     ]
    },
    {
     "name": "stderr",
     "output_type": "stream",
     "text": [
      "Screening progress:  36%|████████████▊                       | 35/98 [00:14<00:26,  2.35iteration/s]"
     ]
    },
    {
     "name": "stdout",
     "output_type": "stream",
     "text": [
      "Feature Extractor Type: <class 'sklearn.feature_extraction.text.TfidfVectorizer'>\n",
      "Using TfidfVectorizer\n"
     ]
    },
    {
     "name": "stderr",
     "output_type": "stream",
     "text": [
      "Screening progress:  37%|█████████████▏                      | 36/98 [00:15<00:26,  2.35iteration/s]"
     ]
    },
    {
     "name": "stdout",
     "output_type": "stream",
     "text": [
      "Feature Extractor Type: <class 'sklearn.feature_extraction.text.TfidfVectorizer'>\n",
      "Using TfidfVectorizer\n"
     ]
    },
    {
     "name": "stderr",
     "output_type": "stream",
     "text": [
      "Screening progress:  38%|█████████████▌                      | 37/98 [00:15<00:25,  2.35iteration/s]"
     ]
    },
    {
     "name": "stdout",
     "output_type": "stream",
     "text": [
      "Feature Extractor Type: <class 'sklearn.feature_extraction.text.TfidfVectorizer'>\n",
      "Using TfidfVectorizer\n"
     ]
    },
    {
     "name": "stderr",
     "output_type": "stream",
     "text": [
      "Screening progress:  39%|█████████████▉                      | 38/98 [00:16<00:25,  2.35iteration/s]"
     ]
    },
    {
     "name": "stdout",
     "output_type": "stream",
     "text": [
      "Feature Extractor Type: <class 'sklearn.feature_extraction.text.TfidfVectorizer'>\n",
      "Using TfidfVectorizer\n"
     ]
    },
    {
     "name": "stderr",
     "output_type": "stream",
     "text": [
      "Screening progress:  40%|██████████████▎                     | 39/98 [00:16<00:25,  2.35iteration/s]"
     ]
    },
    {
     "name": "stdout",
     "output_type": "stream",
     "text": [
      "Feature Extractor Type: <class 'sklearn.feature_extraction.text.TfidfVectorizer'>\n",
      "Using TfidfVectorizer\n"
     ]
    },
    {
     "name": "stderr",
     "output_type": "stream",
     "text": [
      "Screening progress:  41%|██████████████▋                     | 40/98 [00:16<00:24,  2.35iteration/s]"
     ]
    },
    {
     "name": "stdout",
     "output_type": "stream",
     "text": [
      "Feature Extractor Type: <class 'sklearn.feature_extraction.text.TfidfVectorizer'>\n",
      "Using TfidfVectorizer\n"
     ]
    },
    {
     "name": "stderr",
     "output_type": "stream",
     "text": [
      "Screening progress:  42%|███████████████                     | 41/98 [00:17<00:24,  2.35iteration/s]"
     ]
    },
    {
     "name": "stdout",
     "output_type": "stream",
     "text": [
      "Feature Extractor Type: <class 'sklearn.feature_extraction.text.TfidfVectorizer'>\n",
      "Using TfidfVectorizer\n"
     ]
    },
    {
     "name": "stderr",
     "output_type": "stream",
     "text": [
      "Screening progress:  43%|███████████████▍                    | 42/98 [00:17<00:23,  2.34iteration/s]"
     ]
    },
    {
     "name": "stdout",
     "output_type": "stream",
     "text": [
      "Feature Extractor Type: <class 'sklearn.feature_extraction.text.TfidfVectorizer'>\n",
      "Using TfidfVectorizer\n"
     ]
    },
    {
     "name": "stderr",
     "output_type": "stream",
     "text": [
      "Screening progress:  44%|███████████████▊                    | 43/98 [00:18<00:23,  2.33iteration/s]"
     ]
    },
    {
     "name": "stdout",
     "output_type": "stream",
     "text": [
      "Feature Extractor Type: <class 'sklearn.feature_extraction.text.TfidfVectorizer'>\n",
      "Using TfidfVectorizer\n"
     ]
    },
    {
     "name": "stderr",
     "output_type": "stream",
     "text": [
      "Screening progress:  45%|████████████████▏                   | 44/98 [00:18<00:23,  2.30iteration/s]"
     ]
    },
    {
     "name": "stdout",
     "output_type": "stream",
     "text": [
      "Feature Extractor Type: <class 'sklearn.feature_extraction.text.TfidfVectorizer'>\n",
      "Using TfidfVectorizer\n"
     ]
    },
    {
     "name": "stderr",
     "output_type": "stream",
     "text": [
      "Screening progress:  46%|████████████████▌                   | 45/98 [00:19<00:23,  2.29iteration/s]"
     ]
    },
    {
     "name": "stdout",
     "output_type": "stream",
     "text": [
      "Feature Extractor Type: <class 'sklearn.feature_extraction.text.TfidfVectorizer'>\n",
      "Using TfidfVectorizer\n"
     ]
    },
    {
     "name": "stderr",
     "output_type": "stream",
     "text": [
      "Screening progress:  47%|████████████████▉                   | 46/98 [00:19<00:22,  2.30iteration/s]"
     ]
    },
    {
     "name": "stdout",
     "output_type": "stream",
     "text": [
      "Feature Extractor Type: <class 'sklearn.feature_extraction.text.TfidfVectorizer'>\n",
      "Using TfidfVectorizer\n"
     ]
    },
    {
     "name": "stderr",
     "output_type": "stream",
     "text": [
      "Screening progress:  48%|█████████████████▎                  | 47/98 [00:19<00:22,  2.30iteration/s]"
     ]
    },
    {
     "name": "stdout",
     "output_type": "stream",
     "text": [
      "Feature Extractor Type: <class 'sklearn.feature_extraction.text.TfidfVectorizer'>\n",
      "Using TfidfVectorizer\n"
     ]
    },
    {
     "name": "stderr",
     "output_type": "stream",
     "text": [
      "Screening progress:  49%|█████████████████▋                  | 48/98 [00:20<00:21,  2.32iteration/s]"
     ]
    },
    {
     "name": "stdout",
     "output_type": "stream",
     "text": [
      "Feature Extractor Type: <class 'sklearn.feature_extraction.text.TfidfVectorizer'>\n",
      "Using TfidfVectorizer\n"
     ]
    },
    {
     "name": "stderr",
     "output_type": "stream",
     "text": [
      "Screening progress:  50%|██████████████████                  | 49/98 [00:20<00:21,  2.33iteration/s]"
     ]
    },
    {
     "name": "stdout",
     "output_type": "stream",
     "text": [
      "Feature Extractor Type: <class 'sklearn.feature_extraction.text.TfidfVectorizer'>\n",
      "Using TfidfVectorizer\n"
     ]
    },
    {
     "name": "stderr",
     "output_type": "stream",
     "text": [
      "Screening progress:  51%|██████████████████▎                 | 50/98 [00:21<00:20,  2.33iteration/s]"
     ]
    },
    {
     "name": "stdout",
     "output_type": "stream",
     "text": [
      "Feature Extractor Type: <class 'sklearn.feature_extraction.text.TfidfVectorizer'>\n",
      "Using TfidfVectorizer\n"
     ]
    },
    {
     "name": "stderr",
     "output_type": "stream",
     "text": [
      "Screening progress:  52%|██████████████████▋                 | 51/98 [00:21<00:20,  2.34iteration/s]"
     ]
    },
    {
     "name": "stdout",
     "output_type": "stream",
     "text": [
      "Feature Extractor Type: <class 'sklearn.feature_extraction.text.TfidfVectorizer'>\n",
      "Using TfidfVectorizer\n"
     ]
    },
    {
     "name": "stderr",
     "output_type": "stream",
     "text": [
      "Screening progress:  53%|███████████████████                 | 52/98 [00:22<00:19,  2.34iteration/s]"
     ]
    },
    {
     "name": "stdout",
     "output_type": "stream",
     "text": [
      "Feature Extractor Type: <class 'sklearn.feature_extraction.text.TfidfVectorizer'>\n",
      "Using TfidfVectorizer\n"
     ]
    },
    {
     "name": "stderr",
     "output_type": "stream",
     "text": [
      "Screening progress:  54%|███████████████████▍                | 53/98 [00:22<00:19,  2.34iteration/s]"
     ]
    },
    {
     "name": "stdout",
     "output_type": "stream",
     "text": [
      "Feature Extractor Type: <class 'sklearn.feature_extraction.text.TfidfVectorizer'>\n",
      "Using TfidfVectorizer\n"
     ]
    },
    {
     "name": "stderr",
     "output_type": "stream",
     "text": [
      "Screening progress:  55%|███████████████████▊                | 54/98 [00:22<00:18,  2.34iteration/s]"
     ]
    },
    {
     "name": "stdout",
     "output_type": "stream",
     "text": [
      "Feature Extractor Type: <class 'sklearn.feature_extraction.text.TfidfVectorizer'>\n",
      "Using TfidfVectorizer\n"
     ]
    },
    {
     "name": "stderr",
     "output_type": "stream",
     "text": [
      "Screening progress:  56%|████████████████████▏               | 55/98 [00:23<00:18,  2.34iteration/s]"
     ]
    },
    {
     "name": "stdout",
     "output_type": "stream",
     "text": [
      "Feature Extractor Type: <class 'sklearn.feature_extraction.text.TfidfVectorizer'>\n",
      "Using TfidfVectorizer\n"
     ]
    },
    {
     "name": "stderr",
     "output_type": "stream",
     "text": [
      "Screening progress:  57%|████████████████████▌               | 56/98 [00:23<00:17,  2.34iteration/s]"
     ]
    },
    {
     "name": "stdout",
     "output_type": "stream",
     "text": [
      "Feature Extractor Type: <class 'sklearn.feature_extraction.text.TfidfVectorizer'>\n",
      "Using TfidfVectorizer\n"
     ]
    },
    {
     "name": "stderr",
     "output_type": "stream",
     "text": [
      "Screening progress:  58%|████████████████████▉               | 57/98 [00:24<00:17,  2.33iteration/s]"
     ]
    },
    {
     "name": "stdout",
     "output_type": "stream",
     "text": [
      "Feature Extractor Type: <class 'sklearn.feature_extraction.text.TfidfVectorizer'>\n",
      "Using TfidfVectorizer\n"
     ]
    },
    {
     "name": "stderr",
     "output_type": "stream",
     "text": [
      "Screening progress:  59%|█████████████████████▎              | 58/98 [00:24<00:17,  2.33iteration/s]"
     ]
    },
    {
     "name": "stdout",
     "output_type": "stream",
     "text": [
      "Feature Extractor Type: <class 'sklearn.feature_extraction.text.TfidfVectorizer'>\n",
      "Using TfidfVectorizer\n"
     ]
    },
    {
     "name": "stderr",
     "output_type": "stream",
     "text": [
      "Screening progress:  60%|█████████████████████▋              | 59/98 [00:25<00:16,  2.30iteration/s]"
     ]
    },
    {
     "name": "stdout",
     "output_type": "stream",
     "text": [
      "Feature Extractor Type: <class 'sklearn.feature_extraction.text.TfidfVectorizer'>\n",
      "Using TfidfVectorizer\n"
     ]
    },
    {
     "name": "stderr",
     "output_type": "stream",
     "text": [
      "Screening progress:  61%|██████████████████████              | 60/98 [00:25<00:16,  2.31iteration/s]"
     ]
    },
    {
     "name": "stdout",
     "output_type": "stream",
     "text": [
      "Feature Extractor Type: <class 'sklearn.feature_extraction.text.TfidfVectorizer'>\n",
      "Using TfidfVectorizer\n"
     ]
    },
    {
     "name": "stderr",
     "output_type": "stream",
     "text": [
      "Screening progress:  62%|██████████████████████▍             | 61/98 [00:26<00:15,  2.31iteration/s]"
     ]
    },
    {
     "name": "stdout",
     "output_type": "stream",
     "text": [
      "Feature Extractor Type: <class 'sklearn.feature_extraction.text.TfidfVectorizer'>\n",
      "Using TfidfVectorizer\n"
     ]
    },
    {
     "name": "stderr",
     "output_type": "stream",
     "text": [
      "Screening progress:  63%|██████████████████████▊             | 62/98 [00:26<00:15,  2.31iteration/s]"
     ]
    },
    {
     "name": "stdout",
     "output_type": "stream",
     "text": [
      "Feature Extractor Type: <class 'sklearn.feature_extraction.text.TfidfVectorizer'>\n",
      "Using TfidfVectorizer\n"
     ]
    },
    {
     "name": "stderr",
     "output_type": "stream",
     "text": [
      "Screening progress:  64%|███████████████████████▏            | 63/98 [00:26<00:15,  2.32iteration/s]"
     ]
    },
    {
     "name": "stdout",
     "output_type": "stream",
     "text": [
      "Feature Extractor Type: <class 'sklearn.feature_extraction.text.TfidfVectorizer'>\n",
      "Using TfidfVectorizer\n"
     ]
    },
    {
     "name": "stderr",
     "output_type": "stream",
     "text": [
      "Screening progress:  65%|███████████████████████▌            | 64/98 [00:27<00:14,  2.33iteration/s]"
     ]
    },
    {
     "name": "stdout",
     "output_type": "stream",
     "text": [
      "Feature Extractor Type: <class 'sklearn.feature_extraction.text.TfidfVectorizer'>\n",
      "Using TfidfVectorizer\n"
     ]
    },
    {
     "name": "stderr",
     "output_type": "stream",
     "text": [
      "Screening progress:  66%|███████████████████████▉            | 65/98 [00:27<00:14,  2.32iteration/s]"
     ]
    },
    {
     "name": "stdout",
     "output_type": "stream",
     "text": [
      "Feature Extractor Type: <class 'sklearn.feature_extraction.text.TfidfVectorizer'>\n",
      "Using TfidfVectorizer\n"
     ]
    },
    {
     "name": "stderr",
     "output_type": "stream",
     "text": [
      "Screening progress:  67%|████████████████████████▏           | 66/98 [00:28<00:13,  2.32iteration/s]"
     ]
    },
    {
     "name": "stdout",
     "output_type": "stream",
     "text": [
      "Feature Extractor Type: <class 'sklearn.feature_extraction.text.TfidfVectorizer'>\n",
      "Using TfidfVectorizer\n"
     ]
    },
    {
     "name": "stderr",
     "output_type": "stream",
     "text": [
      "Screening progress:  68%|████████████████████████▌           | 67/98 [00:28<00:13,  2.31iteration/s]"
     ]
    },
    {
     "name": "stdout",
     "output_type": "stream",
     "text": [
      "Feature Extractor Type: <class 'sklearn.feature_extraction.text.TfidfVectorizer'>\n",
      "Using TfidfVectorizer\n"
     ]
    },
    {
     "name": "stderr",
     "output_type": "stream",
     "text": [
      "Screening progress:  69%|████████████████████████▉           | 68/98 [00:29<00:13,  2.30iteration/s]"
     ]
    },
    {
     "name": "stdout",
     "output_type": "stream",
     "text": [
      "Feature Extractor Type: <class 'sklearn.feature_extraction.text.TfidfVectorizer'>\n",
      "Using TfidfVectorizer\n"
     ]
    },
    {
     "name": "stderr",
     "output_type": "stream",
     "text": [
      "Screening progress:  70%|█████████████████████████▎          | 69/98 [00:29<00:12,  2.30iteration/s]"
     ]
    },
    {
     "name": "stdout",
     "output_type": "stream",
     "text": [
      "Feature Extractor Type: <class 'sklearn.feature_extraction.text.TfidfVectorizer'>\n",
      "Using TfidfVectorizer\n"
     ]
    },
    {
     "name": "stderr",
     "output_type": "stream",
     "text": [
      "Screening progress:  71%|█████████████████████████▋          | 70/98 [00:29<00:12,  2.30iteration/s]"
     ]
    },
    {
     "name": "stdout",
     "output_type": "stream",
     "text": [
      "Feature Extractor Type: <class 'sklearn.feature_extraction.text.TfidfVectorizer'>\n",
      "Using TfidfVectorizer\n"
     ]
    },
    {
     "name": "stderr",
     "output_type": "stream",
     "text": [
      "Screening progress:  72%|██████████████████████████          | 71/98 [00:30<00:11,  2.30iteration/s]"
     ]
    },
    {
     "name": "stdout",
     "output_type": "stream",
     "text": [
      "Feature Extractor Type: <class 'sklearn.feature_extraction.text.TfidfVectorizer'>\n",
      "Using TfidfVectorizer\n"
     ]
    },
    {
     "name": "stderr",
     "output_type": "stream",
     "text": [
      "Screening progress:  73%|██████████████████████████▍         | 72/98 [00:30<00:11,  2.29iteration/s]"
     ]
    },
    {
     "name": "stdout",
     "output_type": "stream",
     "text": [
      "Feature Extractor Type: <class 'sklearn.feature_extraction.text.TfidfVectorizer'>\n",
      "Using TfidfVectorizer\n"
     ]
    },
    {
     "name": "stderr",
     "output_type": "stream",
     "text": [
      "Screening progress:  74%|██████████████████████████▊         | 73/98 [00:31<00:10,  2.29iteration/s]"
     ]
    },
    {
     "name": "stdout",
     "output_type": "stream",
     "text": [
      "Feature Extractor Type: <class 'sklearn.feature_extraction.text.TfidfVectorizer'>\n",
      "Using TfidfVectorizer\n"
     ]
    },
    {
     "name": "stderr",
     "output_type": "stream",
     "text": [
      "Screening progress:  76%|███████████████████████████▏        | 74/98 [00:31<00:10,  2.29iteration/s]"
     ]
    },
    {
     "name": "stdout",
     "output_type": "stream",
     "text": [
      "Feature Extractor Type: <class 'sklearn.feature_extraction.text.TfidfVectorizer'>\n",
      "Using TfidfVectorizer\n"
     ]
    },
    {
     "name": "stderr",
     "output_type": "stream",
     "text": [
      "Screening progress:  77%|███████████████████████████▌        | 75/98 [00:32<00:10,  2.30iteration/s]"
     ]
    },
    {
     "name": "stdout",
     "output_type": "stream",
     "text": [
      "Feature Extractor Type: <class 'sklearn.feature_extraction.text.TfidfVectorizer'>\n",
      "Using TfidfVectorizer\n"
     ]
    },
    {
     "name": "stderr",
     "output_type": "stream",
     "text": [
      "Screening progress:  78%|███████████████████████████▉        | 76/98 [00:32<00:09,  2.29iteration/s]"
     ]
    },
    {
     "name": "stdout",
     "output_type": "stream",
     "text": [
      "Feature Extractor Type: <class 'sklearn.feature_extraction.text.TfidfVectorizer'>\n",
      "Using TfidfVectorizer\n"
     ]
    },
    {
     "name": "stderr",
     "output_type": "stream",
     "text": [
      "Screening progress:  79%|████████████████████████████▎       | 77/98 [00:32<00:09,  2.27iteration/s]"
     ]
    },
    {
     "name": "stdout",
     "output_type": "stream",
     "text": [
      "Feature Extractor Type: <class 'sklearn.feature_extraction.text.TfidfVectorizer'>\n",
      "Using TfidfVectorizer\n"
     ]
    },
    {
     "name": "stderr",
     "output_type": "stream",
     "text": [
      "Screening progress:  80%|████████████████████████████▋       | 78/98 [00:33<00:08,  2.27iteration/s]"
     ]
    },
    {
     "name": "stdout",
     "output_type": "stream",
     "text": [
      "Feature Extractor Type: <class 'sklearn.feature_extraction.text.TfidfVectorizer'>\n",
      "Using TfidfVectorizer\n"
     ]
    },
    {
     "name": "stderr",
     "output_type": "stream",
     "text": [
      "Screening progress:  81%|█████████████████████████████       | 79/98 [00:33<00:08,  2.27iteration/s]"
     ]
    },
    {
     "name": "stdout",
     "output_type": "stream",
     "text": [
      "Feature Extractor Type: <class 'sklearn.feature_extraction.text.TfidfVectorizer'>\n",
      "Using TfidfVectorizer\n"
     ]
    },
    {
     "name": "stderr",
     "output_type": "stream",
     "text": [
      "Screening progress:  82%|█████████████████████████████▍      | 80/98 [00:34<00:07,  2.25iteration/s]"
     ]
    },
    {
     "name": "stdout",
     "output_type": "stream",
     "text": [
      "Feature Extractor Type: <class 'sklearn.feature_extraction.text.TfidfVectorizer'>\n",
      "Using TfidfVectorizer\n"
     ]
    },
    {
     "name": "stderr",
     "output_type": "stream",
     "text": [
      "Screening progress:  83%|█████████████████████████████▊      | 81/98 [00:34<00:07,  2.21iteration/s]"
     ]
    },
    {
     "name": "stdout",
     "output_type": "stream",
     "text": [
      "Feature Extractor Type: <class 'sklearn.feature_extraction.text.TfidfVectorizer'>\n",
      "Using TfidfVectorizer\n"
     ]
    },
    {
     "name": "stderr",
     "output_type": "stream",
     "text": [
      "Screening progress:  84%|██████████████████████████████      | 82/98 [00:35<00:07,  2.21iteration/s]"
     ]
    },
    {
     "name": "stdout",
     "output_type": "stream",
     "text": [
      "Feature Extractor Type: <class 'sklearn.feature_extraction.text.TfidfVectorizer'>\n",
      "Using TfidfVectorizer\n"
     ]
    },
    {
     "name": "stderr",
     "output_type": "stream",
     "text": [
      "Screening progress:  85%|██████████████████████████████▍     | 83/98 [00:35<00:06,  2.23iteration/s]"
     ]
    },
    {
     "name": "stdout",
     "output_type": "stream",
     "text": [
      "Feature Extractor Type: <class 'sklearn.feature_extraction.text.TfidfVectorizer'>\n",
      "Using TfidfVectorizer\n"
     ]
    },
    {
     "name": "stderr",
     "output_type": "stream",
     "text": [
      "Screening progress:  86%|██████████████████████████████▊     | 84/98 [00:36<00:06,  2.23iteration/s]"
     ]
    },
    {
     "name": "stdout",
     "output_type": "stream",
     "text": [
      "Feature Extractor Type: <class 'sklearn.feature_extraction.text.TfidfVectorizer'>\n",
      "Using TfidfVectorizer\n"
     ]
    },
    {
     "name": "stderr",
     "output_type": "stream",
     "text": [
      "Screening progress:  87%|███████████████████████████████▏    | 85/98 [00:36<00:05,  2.23iteration/s]"
     ]
    },
    {
     "name": "stdout",
     "output_type": "stream",
     "text": [
      "Feature Extractor Type: <class 'sklearn.feature_extraction.text.TfidfVectorizer'>\n",
      "Using TfidfVectorizer\n"
     ]
    },
    {
     "name": "stderr",
     "output_type": "stream",
     "text": [
      "Screening progress:  88%|███████████████████████████████▌    | 86/98 [00:37<00:05,  2.24iteration/s]"
     ]
    },
    {
     "name": "stdout",
     "output_type": "stream",
     "text": [
      "Feature Extractor Type: <class 'sklearn.feature_extraction.text.TfidfVectorizer'>\n",
      "Using TfidfVectorizer\n"
     ]
    },
    {
     "name": "stderr",
     "output_type": "stream",
     "text": [
      "Screening progress:  89%|███████████████████████████████▉    | 87/98 [00:37<00:04,  2.26iteration/s]"
     ]
    },
    {
     "name": "stdout",
     "output_type": "stream",
     "text": [
      "Feature Extractor Type: <class 'sklearn.feature_extraction.text.TfidfVectorizer'>\n",
      "Using TfidfVectorizer\n"
     ]
    },
    {
     "name": "stderr",
     "output_type": "stream",
     "text": [
      "Screening progress:  90%|████████████████████████████████▎   | 88/98 [00:37<00:04,  2.23iteration/s]"
     ]
    },
    {
     "name": "stdout",
     "output_type": "stream",
     "text": [
      "Feature Extractor Type: <class 'sklearn.feature_extraction.text.TfidfVectorizer'>\n",
      "Using TfidfVectorizer\n"
     ]
    },
    {
     "name": "stderr",
     "output_type": "stream",
     "text": [
      "Screening progress:  91%|████████████████████████████████▋   | 89/98 [00:38<00:04,  2.25iteration/s]"
     ]
    },
    {
     "name": "stdout",
     "output_type": "stream",
     "text": [
      "Feature Extractor Type: <class 'sklearn.feature_extraction.text.TfidfVectorizer'>\n",
      "Using TfidfVectorizer\n"
     ]
    },
    {
     "name": "stderr",
     "output_type": "stream",
     "text": [
      "Screening progress:  92%|█████████████████████████████████   | 90/98 [00:38<00:03,  2.25iteration/s]"
     ]
    },
    {
     "name": "stdout",
     "output_type": "stream",
     "text": [
      "Feature Extractor Type: <class 'sklearn.feature_extraction.text.TfidfVectorizer'>\n",
      "Using TfidfVectorizer\n"
     ]
    },
    {
     "name": "stderr",
     "output_type": "stream",
     "text": [
      "Screening progress:  93%|█████████████████████████████████▍  | 91/98 [00:39<00:03,  2.23iteration/s]"
     ]
    },
    {
     "name": "stdout",
     "output_type": "stream",
     "text": [
      "Feature Extractor Type: <class 'sklearn.feature_extraction.text.TfidfVectorizer'>\n",
      "Using TfidfVectorizer\n"
     ]
    },
    {
     "name": "stderr",
     "output_type": "stream",
     "text": [
      "Screening progress:  94%|█████████████████████████████████▊  | 92/98 [00:39<00:02,  2.24iteration/s]"
     ]
    },
    {
     "name": "stdout",
     "output_type": "stream",
     "text": [
      "Feature Extractor Type: <class 'sklearn.feature_extraction.text.TfidfVectorizer'>\n",
      "Using TfidfVectorizer\n"
     ]
    },
    {
     "name": "stderr",
     "output_type": "stream",
     "text": [
      "Screening progress:  95%|██████████████████████████████████▏ | 93/98 [00:40<00:02,  2.26iteration/s]"
     ]
    },
    {
     "name": "stdout",
     "output_type": "stream",
     "text": [
      "Feature Extractor Type: <class 'sklearn.feature_extraction.text.TfidfVectorizer'>\n",
      "Using TfidfVectorizer\n"
     ]
    },
    {
     "name": "stderr",
     "output_type": "stream",
     "text": [
      "Screening progress:  96%|██████████████████████████████████▌ | 94/98 [00:40<00:01,  2.27iteration/s]"
     ]
    },
    {
     "name": "stdout",
     "output_type": "stream",
     "text": [
      "Feature Extractor Type: <class 'sklearn.feature_extraction.text.TfidfVectorizer'>\n",
      "Using TfidfVectorizer\n"
     ]
    },
    {
     "name": "stderr",
     "output_type": "stream",
     "text": [
      "Screening progress:  97%|██████████████████████████████████▉ | 95/98 [00:40<00:01,  2.28iteration/s]"
     ]
    },
    {
     "name": "stdout",
     "output_type": "stream",
     "text": [
      "Feature Extractor Type: <class 'sklearn.feature_extraction.text.TfidfVectorizer'>\n",
      "Using TfidfVectorizer\n"
     ]
    },
    {
     "name": "stderr",
     "output_type": "stream",
     "text": [
      "Screening progress:  98%|███████████████████████████████████▎| 96/98 [00:41<00:00,  2.28iteration/s]"
     ]
    },
    {
     "name": "stdout",
     "output_type": "stream",
     "text": [
      "Feature Extractor Type: <class 'sklearn.feature_extraction.text.TfidfVectorizer'>\n",
      "Using TfidfVectorizer\n"
     ]
    },
    {
     "name": "stderr",
     "output_type": "stream",
     "text": [
      "Screening progress:  99%|███████████████████████████████████▋| 97/98 [00:41<00:00,  2.30iteration/s]"
     ]
    },
    {
     "name": "stdout",
     "output_type": "stream",
     "text": [
      "Feature Extractor Type: <class 'sklearn.feature_extraction.text.TfidfVectorizer'>\n",
      "Using TfidfVectorizer\n"
     ]
    },
    {
     "name": "stderr",
     "output_type": "stream",
     "text": [
      "Screening progress: 100%|████████████████████████████████████| 98/98 [00:42<00:00,  2.32iteration/s]\n",
      "Screening progress:   0%|                                             | 0/98 [00:00<?, ?iteration/s]"
     ]
    },
    {
     "name": "stdout",
     "output_type": "stream",
     "text": [
      "Feature Extractor Type: <class 'sklearn.feature_extraction.text.TfidfVectorizer'>\n",
      "Using TfidfVectorizer\n"
     ]
    },
    {
     "name": "stderr",
     "output_type": "stream",
     "text": [
      "Screening progress:   1%|▍                                    | 1/98 [00:00<00:38,  2.50iteration/s]"
     ]
    },
    {
     "name": "stdout",
     "output_type": "stream",
     "text": [
      "Feature Extractor Type: <class 'sklearn.feature_extraction.text.TfidfVectorizer'>\n",
      "Using TfidfVectorizer\n"
     ]
    },
    {
     "name": "stderr",
     "output_type": "stream",
     "text": [
      "Screening progress:   2%|▊                                    | 2/98 [00:00<00:38,  2.48iteration/s]"
     ]
    },
    {
     "name": "stdout",
     "output_type": "stream",
     "text": [
      "Feature Extractor Type: <class 'sklearn.feature_extraction.text.TfidfVectorizer'>\n",
      "Using TfidfVectorizer\n"
     ]
    },
    {
     "name": "stderr",
     "output_type": "stream",
     "text": [
      "Screening progress:   3%|█▏                                   | 3/98 [00:01<00:38,  2.44iteration/s]"
     ]
    },
    {
     "name": "stdout",
     "output_type": "stream",
     "text": [
      "Feature Extractor Type: <class 'sklearn.feature_extraction.text.TfidfVectorizer'>\n",
      "Using TfidfVectorizer\n"
     ]
    },
    {
     "name": "stderr",
     "output_type": "stream",
     "text": [
      "Screening progress:   4%|█▌                                   | 4/98 [00:01<00:38,  2.42iteration/s]"
     ]
    },
    {
     "name": "stdout",
     "output_type": "stream",
     "text": [
      "Feature Extractor Type: <class 'sklearn.feature_extraction.text.TfidfVectorizer'>\n",
      "Using TfidfVectorizer\n"
     ]
    },
    {
     "name": "stderr",
     "output_type": "stream",
     "text": [
      "Screening progress:   5%|█▉                                   | 5/98 [00:02<00:40,  2.32iteration/s]"
     ]
    },
    {
     "name": "stdout",
     "output_type": "stream",
     "text": [
      "Feature Extractor Type: <class 'sklearn.feature_extraction.text.TfidfVectorizer'>\n",
      "Using TfidfVectorizer\n"
     ]
    },
    {
     "name": "stderr",
     "output_type": "stream",
     "text": [
      "Screening progress:   6%|██▎                                  | 6/98 [00:02<00:43,  2.09iteration/s]"
     ]
    },
    {
     "name": "stdout",
     "output_type": "stream",
     "text": [
      "Feature Extractor Type: <class 'sklearn.feature_extraction.text.TfidfVectorizer'>\n",
      "Using TfidfVectorizer\n"
     ]
    },
    {
     "name": "stderr",
     "output_type": "stream",
     "text": [
      "Screening progress:   7%|██▋                                  | 7/98 [00:03<00:43,  2.10iteration/s]"
     ]
    },
    {
     "name": "stdout",
     "output_type": "stream",
     "text": [
      "Feature Extractor Type: <class 'sklearn.feature_extraction.text.TfidfVectorizer'>\n",
      "Using TfidfVectorizer\n"
     ]
    },
    {
     "name": "stderr",
     "output_type": "stream",
     "text": [
      "Screening progress:   8%|███                                  | 8/98 [00:03<00:41,  2.16iteration/s]"
     ]
    },
    {
     "name": "stdout",
     "output_type": "stream",
     "text": [
      "Feature Extractor Type: <class 'sklearn.feature_extraction.text.TfidfVectorizer'>\n",
      "Using TfidfVectorizer\n"
     ]
    },
    {
     "name": "stderr",
     "output_type": "stream",
     "text": [
      "Screening progress:   9%|███▍                                 | 9/98 [00:04<00:40,  2.22iteration/s]"
     ]
    },
    {
     "name": "stdout",
     "output_type": "stream",
     "text": [
      "Feature Extractor Type: <class 'sklearn.feature_extraction.text.TfidfVectorizer'>\n",
      "Using TfidfVectorizer\n"
     ]
    },
    {
     "name": "stderr",
     "output_type": "stream",
     "text": [
      "Screening progress:  10%|███▋                                | 10/98 [00:04<00:38,  2.27iteration/s]"
     ]
    },
    {
     "name": "stdout",
     "output_type": "stream",
     "text": [
      "Feature Extractor Type: <class 'sklearn.feature_extraction.text.TfidfVectorizer'>\n",
      "Using TfidfVectorizer\n"
     ]
    },
    {
     "name": "stderr",
     "output_type": "stream",
     "text": [
      "Screening progress:  11%|████                                | 11/98 [00:04<00:40,  2.16iteration/s]"
     ]
    },
    {
     "name": "stdout",
     "output_type": "stream",
     "text": [
      "Feature Extractor Type: <class 'sklearn.feature_extraction.text.TfidfVectorizer'>\n",
      "Using TfidfVectorizer\n"
     ]
    },
    {
     "name": "stderr",
     "output_type": "stream",
     "text": [
      "Screening progress:  12%|████▍                               | 12/98 [00:05<00:39,  2.20iteration/s]"
     ]
    },
    {
     "name": "stdout",
     "output_type": "stream",
     "text": [
      "Feature Extractor Type: <class 'sklearn.feature_extraction.text.TfidfVectorizer'>\n",
      "Using TfidfVectorizer\n"
     ]
    },
    {
     "name": "stderr",
     "output_type": "stream",
     "text": [
      "Screening progress:  13%|████▊                               | 13/98 [00:05<00:38,  2.23iteration/s]"
     ]
    },
    {
     "name": "stdout",
     "output_type": "stream",
     "text": [
      "Feature Extractor Type: <class 'sklearn.feature_extraction.text.TfidfVectorizer'>\n",
      "Using TfidfVectorizer\n"
     ]
    },
    {
     "name": "stderr",
     "output_type": "stream",
     "text": [
      "Screening progress:  14%|█████▏                              | 14/98 [00:06<00:37,  2.25iteration/s]"
     ]
    },
    {
     "name": "stdout",
     "output_type": "stream",
     "text": [
      "Feature Extractor Type: <class 'sklearn.feature_extraction.text.TfidfVectorizer'>\n",
      "Using TfidfVectorizer\n"
     ]
    },
    {
     "name": "stderr",
     "output_type": "stream",
     "text": [
      "Screening progress:  15%|█████▌                              | 15/98 [00:06<00:36,  2.28iteration/s]"
     ]
    },
    {
     "name": "stdout",
     "output_type": "stream",
     "text": [
      "Feature Extractor Type: <class 'sklearn.feature_extraction.text.TfidfVectorizer'>\n",
      "Using TfidfVectorizer\n"
     ]
    },
    {
     "name": "stderr",
     "output_type": "stream",
     "text": [
      "Screening progress:  16%|█████▉                              | 16/98 [00:07<00:37,  2.17iteration/s]"
     ]
    },
    {
     "name": "stdout",
     "output_type": "stream",
     "text": [
      "Feature Extractor Type: <class 'sklearn.feature_extraction.text.TfidfVectorizer'>\n",
      "Using TfidfVectorizer\n"
     ]
    },
    {
     "name": "stderr",
     "output_type": "stream",
     "text": [
      "Screening progress:  17%|██████▏                             | 17/98 [00:07<00:36,  2.21iteration/s]"
     ]
    },
    {
     "name": "stdout",
     "output_type": "stream",
     "text": [
      "Feature Extractor Type: <class 'sklearn.feature_extraction.text.TfidfVectorizer'>\n",
      "Using TfidfVectorizer\n"
     ]
    },
    {
     "name": "stderr",
     "output_type": "stream",
     "text": [
      "Screening progress:  18%|██████▌                             | 18/98 [00:08<00:35,  2.23iteration/s]"
     ]
    },
    {
     "name": "stdout",
     "output_type": "stream",
     "text": [
      "Feature Extractor Type: <class 'sklearn.feature_extraction.text.TfidfVectorizer'>\n",
      "Using TfidfVectorizer\n"
     ]
    },
    {
     "name": "stderr",
     "output_type": "stream",
     "text": [
      "Screening progress:  19%|██████▉                             | 19/98 [00:08<00:35,  2.20iteration/s]"
     ]
    },
    {
     "name": "stdout",
     "output_type": "stream",
     "text": [
      "Feature Extractor Type: <class 'sklearn.feature_extraction.text.TfidfVectorizer'>\n",
      "Using TfidfVectorizer\n"
     ]
    },
    {
     "name": "stderr",
     "output_type": "stream",
     "text": [
      "Screening progress:  20%|███████▎                            | 20/98 [00:08<00:35,  2.21iteration/s]"
     ]
    },
    {
     "name": "stdout",
     "output_type": "stream",
     "text": [
      "Feature Extractor Type: <class 'sklearn.feature_extraction.text.TfidfVectorizer'>\n",
      "Using TfidfVectorizer\n"
     ]
    },
    {
     "name": "stderr",
     "output_type": "stream",
     "text": [
      "Screening progress:  21%|███████▋                            | 21/98 [00:09<00:34,  2.24iteration/s]"
     ]
    },
    {
     "name": "stdout",
     "output_type": "stream",
     "text": [
      "Feature Extractor Type: <class 'sklearn.feature_extraction.text.TfidfVectorizer'>\n",
      "Using TfidfVectorizer\n"
     ]
    },
    {
     "name": "stderr",
     "output_type": "stream",
     "text": [
      "Screening progress:  22%|████████                            | 22/98 [00:09<00:33,  2.26iteration/s]"
     ]
    },
    {
     "name": "stdout",
     "output_type": "stream",
     "text": [
      "Feature Extractor Type: <class 'sklearn.feature_extraction.text.TfidfVectorizer'>\n",
      "Using TfidfVectorizer\n"
     ]
    },
    {
     "name": "stderr",
     "output_type": "stream",
     "text": [
      "Screening progress:  23%|████████▍                           | 23/98 [00:10<00:32,  2.28iteration/s]"
     ]
    },
    {
     "name": "stdout",
     "output_type": "stream",
     "text": [
      "Feature Extractor Type: <class 'sklearn.feature_extraction.text.TfidfVectorizer'>\n",
      "Using TfidfVectorizer\n"
     ]
    },
    {
     "name": "stderr",
     "output_type": "stream",
     "text": [
      "Screening progress:  24%|████████▊                           | 24/98 [00:10<00:32,  2.30iteration/s]"
     ]
    },
    {
     "name": "stdout",
     "output_type": "stream",
     "text": [
      "Feature Extractor Type: <class 'sklearn.feature_extraction.text.TfidfVectorizer'>\n",
      "Using TfidfVectorizer\n"
     ]
    },
    {
     "name": "stderr",
     "output_type": "stream",
     "text": [
      "Screening progress:  26%|█████████▏                          | 25/98 [00:11<00:31,  2.31iteration/s]"
     ]
    },
    {
     "name": "stdout",
     "output_type": "stream",
     "text": [
      "Feature Extractor Type: <class 'sklearn.feature_extraction.text.TfidfVectorizer'>\n",
      "Using TfidfVectorizer\n"
     ]
    },
    {
     "name": "stderr",
     "output_type": "stream",
     "text": [
      "Screening progress:  27%|█████████▌                          | 26/98 [00:11<00:30,  2.32iteration/s]"
     ]
    },
    {
     "name": "stdout",
     "output_type": "stream",
     "text": [
      "Feature Extractor Type: <class 'sklearn.feature_extraction.text.TfidfVectorizer'>\n",
      "Using TfidfVectorizer\n"
     ]
    },
    {
     "name": "stderr",
     "output_type": "stream",
     "text": [
      "Screening progress:  28%|█████████▉                          | 27/98 [00:11<00:30,  2.33iteration/s]"
     ]
    },
    {
     "name": "stdout",
     "output_type": "stream",
     "text": [
      "Feature Extractor Type: <class 'sklearn.feature_extraction.text.TfidfVectorizer'>\n",
      "Using TfidfVectorizer\n"
     ]
    },
    {
     "name": "stderr",
     "output_type": "stream",
     "text": [
      "Screening progress:  29%|██████████▎                         | 28/98 [00:12<00:30,  2.33iteration/s]"
     ]
    },
    {
     "name": "stdout",
     "output_type": "stream",
     "text": [
      "Feature Extractor Type: <class 'sklearn.feature_extraction.text.TfidfVectorizer'>\n",
      "Using TfidfVectorizer\n"
     ]
    },
    {
     "name": "stderr",
     "output_type": "stream",
     "text": [
      "Screening progress:  30%|██████████▋                         | 29/98 [00:12<00:29,  2.33iteration/s]"
     ]
    },
    {
     "name": "stdout",
     "output_type": "stream",
     "text": [
      "Feature Extractor Type: <class 'sklearn.feature_extraction.text.TfidfVectorizer'>\n",
      "Using TfidfVectorizer\n"
     ]
    },
    {
     "name": "stderr",
     "output_type": "stream",
     "text": [
      "Screening progress:  31%|███████████                         | 30/98 [00:13<00:29,  2.34iteration/s]"
     ]
    },
    {
     "name": "stdout",
     "output_type": "stream",
     "text": [
      "Feature Extractor Type: <class 'sklearn.feature_extraction.text.TfidfVectorizer'>\n",
      "Using TfidfVectorizer\n"
     ]
    },
    {
     "name": "stderr",
     "output_type": "stream",
     "text": [
      "Screening progress:  32%|███████████▍                        | 31/98 [00:13<00:30,  2.19iteration/s]"
     ]
    },
    {
     "name": "stdout",
     "output_type": "stream",
     "text": [
      "Feature Extractor Type: <class 'sklearn.feature_extraction.text.TfidfVectorizer'>\n",
      "Using TfidfVectorizer\n"
     ]
    },
    {
     "name": "stderr",
     "output_type": "stream",
     "text": [
      "Screening progress:  33%|███████████▊                        | 32/98 [00:14<00:30,  2.19iteration/s]"
     ]
    },
    {
     "name": "stdout",
     "output_type": "stream",
     "text": [
      "Feature Extractor Type: <class 'sklearn.feature_extraction.text.TfidfVectorizer'>\n",
      "Using TfidfVectorizer\n"
     ]
    },
    {
     "name": "stderr",
     "output_type": "stream",
     "text": [
      "Screening progress:  34%|████████████                        | 33/98 [00:14<00:29,  2.24iteration/s]"
     ]
    },
    {
     "name": "stdout",
     "output_type": "stream",
     "text": [
      "Feature Extractor Type: <class 'sklearn.feature_extraction.text.TfidfVectorizer'>\n",
      "Using TfidfVectorizer\n"
     ]
    },
    {
     "name": "stderr",
     "output_type": "stream",
     "text": [
      "Screening progress:  35%|████████████▍                       | 34/98 [00:15<00:28,  2.26iteration/s]"
     ]
    },
    {
     "name": "stdout",
     "output_type": "stream",
     "text": [
      "Feature Extractor Type: <class 'sklearn.feature_extraction.text.TfidfVectorizer'>\n",
      "Using TfidfVectorizer\n"
     ]
    },
    {
     "name": "stderr",
     "output_type": "stream",
     "text": [
      "Screening progress:  36%|████████████▊                       | 35/98 [00:15<00:27,  2.29iteration/s]"
     ]
    },
    {
     "name": "stdout",
     "output_type": "stream",
     "text": [
      "Feature Extractor Type: <class 'sklearn.feature_extraction.text.TfidfVectorizer'>\n",
      "Using TfidfVectorizer\n"
     ]
    },
    {
     "name": "stderr",
     "output_type": "stream",
     "text": [
      "Screening progress:  37%|█████████████▏                      | 36/98 [00:15<00:26,  2.31iteration/s]"
     ]
    },
    {
     "name": "stdout",
     "output_type": "stream",
     "text": [
      "Feature Extractor Type: <class 'sklearn.feature_extraction.text.TfidfVectorizer'>\n",
      "Using TfidfVectorizer\n"
     ]
    },
    {
     "name": "stderr",
     "output_type": "stream",
     "text": [
      "Screening progress:  38%|█████████████▌                      | 37/98 [00:16<00:26,  2.32iteration/s]"
     ]
    },
    {
     "name": "stdout",
     "output_type": "stream",
     "text": [
      "Feature Extractor Type: <class 'sklearn.feature_extraction.text.TfidfVectorizer'>\n",
      "Using TfidfVectorizer\n"
     ]
    },
    {
     "name": "stderr",
     "output_type": "stream",
     "text": [
      "Screening progress:  39%|█████████████▉                      | 38/98 [00:16<00:26,  2.29iteration/s]"
     ]
    },
    {
     "name": "stdout",
     "output_type": "stream",
     "text": [
      "Feature Extractor Type: <class 'sklearn.feature_extraction.text.TfidfVectorizer'>\n",
      "Using TfidfVectorizer\n"
     ]
    },
    {
     "name": "stderr",
     "output_type": "stream",
     "text": [
      "Screening progress:  40%|██████████████▎                     | 39/98 [00:17<00:25,  2.27iteration/s]"
     ]
    },
    {
     "name": "stdout",
     "output_type": "stream",
     "text": [
      "Feature Extractor Type: <class 'sklearn.feature_extraction.text.TfidfVectorizer'>\n",
      "Using TfidfVectorizer\n"
     ]
    },
    {
     "name": "stderr",
     "output_type": "stream",
     "text": [
      "Screening progress:  41%|██████████████▋                     | 40/98 [00:17<00:25,  2.26iteration/s]"
     ]
    },
    {
     "name": "stdout",
     "output_type": "stream",
     "text": [
      "Feature Extractor Type: <class 'sklearn.feature_extraction.text.TfidfVectorizer'>\n",
      "Using TfidfVectorizer\n"
     ]
    },
    {
     "name": "stderr",
     "output_type": "stream",
     "text": [
      "Screening progress:  42%|███████████████                     | 41/98 [00:18<00:25,  2.25iteration/s]"
     ]
    },
    {
     "name": "stdout",
     "output_type": "stream",
     "text": [
      "Feature Extractor Type: <class 'sklearn.feature_extraction.text.TfidfVectorizer'>\n",
      "Using TfidfVectorizer\n"
     ]
    },
    {
     "name": "stderr",
     "output_type": "stream",
     "text": [
      "Screening progress:  43%|███████████████▍                    | 42/98 [00:18<00:24,  2.25iteration/s]"
     ]
    },
    {
     "name": "stdout",
     "output_type": "stream",
     "text": [
      "Feature Extractor Type: <class 'sklearn.feature_extraction.text.TfidfVectorizer'>\n",
      "Using TfidfVectorizer\n"
     ]
    },
    {
     "name": "stderr",
     "output_type": "stream",
     "text": [
      "Screening progress:  44%|███████████████▊                    | 43/98 [00:19<00:24,  2.25iteration/s]"
     ]
    },
    {
     "name": "stdout",
     "output_type": "stream",
     "text": [
      "Feature Extractor Type: <class 'sklearn.feature_extraction.text.TfidfVectorizer'>\n",
      "Using TfidfVectorizer\n"
     ]
    },
    {
     "name": "stderr",
     "output_type": "stream",
     "text": [
      "Screening progress:  45%|████████████████▏                   | 44/98 [00:19<00:24,  2.25iteration/s]"
     ]
    },
    {
     "name": "stdout",
     "output_type": "stream",
     "text": [
      "Feature Extractor Type: <class 'sklearn.feature_extraction.text.TfidfVectorizer'>\n",
      "Using TfidfVectorizer\n"
     ]
    },
    {
     "name": "stderr",
     "output_type": "stream",
     "text": [
      "Screening progress:  46%|████████████████▌                   | 45/98 [00:19<00:23,  2.23iteration/s]"
     ]
    },
    {
     "name": "stdout",
     "output_type": "stream",
     "text": [
      "Feature Extractor Type: <class 'sklearn.feature_extraction.text.TfidfVectorizer'>\n",
      "Using TfidfVectorizer\n"
     ]
    },
    {
     "name": "stderr",
     "output_type": "stream",
     "text": [
      "Screening progress:  47%|████████████████▉                   | 46/98 [00:20<00:23,  2.21iteration/s]"
     ]
    },
    {
     "name": "stdout",
     "output_type": "stream",
     "text": [
      "Feature Extractor Type: <class 'sklearn.feature_extraction.text.TfidfVectorizer'>\n",
      "Using TfidfVectorizer\n"
     ]
    },
    {
     "name": "stderr",
     "output_type": "stream",
     "text": [
      "Screening progress:  48%|█████████████████▎                  | 47/98 [00:20<00:23,  2.20iteration/s]"
     ]
    },
    {
     "name": "stdout",
     "output_type": "stream",
     "text": [
      "Feature Extractor Type: <class 'sklearn.feature_extraction.text.TfidfVectorizer'>\n",
      "Using TfidfVectorizer\n"
     ]
    },
    {
     "name": "stderr",
     "output_type": "stream",
     "text": [
      "Screening progress:  49%|█████████████████▋                  | 48/98 [00:21<00:22,  2.18iteration/s]"
     ]
    },
    {
     "name": "stdout",
     "output_type": "stream",
     "text": [
      "Feature Extractor Type: <class 'sklearn.feature_extraction.text.TfidfVectorizer'>\n",
      "Using TfidfVectorizer\n"
     ]
    },
    {
     "name": "stderr",
     "output_type": "stream",
     "text": [
      "Screening progress:  50%|██████████████████                  | 49/98 [00:21<00:22,  2.18iteration/s]"
     ]
    },
    {
     "name": "stdout",
     "output_type": "stream",
     "text": [
      "Feature Extractor Type: <class 'sklearn.feature_extraction.text.TfidfVectorizer'>\n",
      "Using TfidfVectorizer\n"
     ]
    },
    {
     "name": "stderr",
     "output_type": "stream",
     "text": [
      "Screening progress:  51%|██████████████████▎                 | 50/98 [00:22<00:22,  2.17iteration/s]"
     ]
    },
    {
     "name": "stdout",
     "output_type": "stream",
     "text": [
      "Feature Extractor Type: <class 'sklearn.feature_extraction.text.TfidfVectorizer'>\n",
      "Using TfidfVectorizer\n"
     ]
    },
    {
     "name": "stderr",
     "output_type": "stream",
     "text": [
      "Screening progress:  52%|██████████████████▋                 | 51/98 [00:22<00:21,  2.16iteration/s]"
     ]
    },
    {
     "name": "stdout",
     "output_type": "stream",
     "text": [
      "Feature Extractor Type: <class 'sklearn.feature_extraction.text.TfidfVectorizer'>\n",
      "Using TfidfVectorizer\n"
     ]
    },
    {
     "name": "stderr",
     "output_type": "stream",
     "text": [
      "Screening progress:  53%|███████████████████                 | 52/98 [00:23<00:21,  2.16iteration/s]"
     ]
    },
    {
     "name": "stdout",
     "output_type": "stream",
     "text": [
      "Feature Extractor Type: <class 'sklearn.feature_extraction.text.TfidfVectorizer'>\n",
      "Using TfidfVectorizer\n"
     ]
    },
    {
     "name": "stderr",
     "output_type": "stream",
     "text": [
      "Screening progress:  54%|███████████████████▍                | 53/98 [00:23<00:20,  2.16iteration/s]"
     ]
    },
    {
     "name": "stdout",
     "output_type": "stream",
     "text": [
      "Feature Extractor Type: <class 'sklearn.feature_extraction.text.TfidfVectorizer'>\n",
      "Using TfidfVectorizer\n"
     ]
    },
    {
     "name": "stderr",
     "output_type": "stream",
     "text": [
      "Screening progress:  55%|███████████████████▊                | 54/98 [00:24<00:20,  2.13iteration/s]"
     ]
    },
    {
     "name": "stdout",
     "output_type": "stream",
     "text": [
      "Feature Extractor Type: <class 'sklearn.feature_extraction.text.TfidfVectorizer'>\n",
      "Using TfidfVectorizer\n"
     ]
    },
    {
     "name": "stderr",
     "output_type": "stream",
     "text": [
      "Screening progress:  56%|████████████████████▏               | 55/98 [00:24<00:20,  2.11iteration/s]"
     ]
    },
    {
     "name": "stdout",
     "output_type": "stream",
     "text": [
      "Feature Extractor Type: <class 'sklearn.feature_extraction.text.TfidfVectorizer'>\n",
      "Using TfidfVectorizer\n"
     ]
    },
    {
     "name": "stderr",
     "output_type": "stream",
     "text": [
      "Screening progress:  57%|████████████████████▌               | 56/98 [00:25<00:19,  2.11iteration/s]"
     ]
    },
    {
     "name": "stdout",
     "output_type": "stream",
     "text": [
      "Feature Extractor Type: <class 'sklearn.feature_extraction.text.TfidfVectorizer'>\n",
      "Using TfidfVectorizer\n"
     ]
    },
    {
     "name": "stderr",
     "output_type": "stream",
     "text": [
      "Screening progress:  58%|████████████████████▉               | 57/98 [00:25<00:19,  2.12iteration/s]"
     ]
    },
    {
     "name": "stdout",
     "output_type": "stream",
     "text": [
      "Feature Extractor Type: <class 'sklearn.feature_extraction.text.TfidfVectorizer'>\n",
      "Using TfidfVectorizer\n"
     ]
    },
    {
     "name": "stderr",
     "output_type": "stream",
     "text": [
      "Screening progress:  59%|█████████████████████▎              | 58/98 [00:26<00:18,  2.12iteration/s]"
     ]
    },
    {
     "name": "stdout",
     "output_type": "stream",
     "text": [
      "Feature Extractor Type: <class 'sklearn.feature_extraction.text.TfidfVectorizer'>\n",
      "Using TfidfVectorizer\n"
     ]
    },
    {
     "name": "stderr",
     "output_type": "stream",
     "text": [
      "Screening progress:  60%|█████████████████████▋              | 59/98 [00:26<00:18,  2.12iteration/s]"
     ]
    },
    {
     "name": "stdout",
     "output_type": "stream",
     "text": [
      "Feature Extractor Type: <class 'sklearn.feature_extraction.text.TfidfVectorizer'>\n",
      "Using TfidfVectorizer\n"
     ]
    },
    {
     "name": "stderr",
     "output_type": "stream",
     "text": [
      "Screening progress:  61%|██████████████████████              | 60/98 [00:26<00:18,  2.10iteration/s]"
     ]
    },
    {
     "name": "stdout",
     "output_type": "stream",
     "text": [
      "Feature Extractor Type: <class 'sklearn.feature_extraction.text.TfidfVectorizer'>\n",
      "Using TfidfVectorizer\n"
     ]
    },
    {
     "name": "stderr",
     "output_type": "stream",
     "text": [
      "Screening progress:  62%|██████████████████████▍             | 61/98 [00:27<00:17,  2.15iteration/s]"
     ]
    },
    {
     "name": "stdout",
     "output_type": "stream",
     "text": [
      "Feature Extractor Type: <class 'sklearn.feature_extraction.text.TfidfVectorizer'>\n",
      "Using TfidfVectorizer\n"
     ]
    },
    {
     "name": "stderr",
     "output_type": "stream",
     "text": [
      "Screening progress:  63%|██████████████████████▊             | 62/98 [00:27<00:16,  2.20iteration/s]"
     ]
    },
    {
     "name": "stdout",
     "output_type": "stream",
     "text": [
      "Feature Extractor Type: <class 'sklearn.feature_extraction.text.TfidfVectorizer'>\n",
      "Using TfidfVectorizer\n"
     ]
    },
    {
     "name": "stderr",
     "output_type": "stream",
     "text": [
      "Screening progress:  64%|███████████████████████▏            | 63/98 [00:28<00:16,  2.16iteration/s]"
     ]
    },
    {
     "name": "stdout",
     "output_type": "stream",
     "text": [
      "Feature Extractor Type: <class 'sklearn.feature_extraction.text.TfidfVectorizer'>\n",
      "Using TfidfVectorizer\n"
     ]
    },
    {
     "name": "stderr",
     "output_type": "stream",
     "text": [
      "Screening progress:  65%|███████████████████████▌            | 64/98 [00:28<00:16,  2.04iteration/s]"
     ]
    },
    {
     "name": "stdout",
     "output_type": "stream",
     "text": [
      "Feature Extractor Type: <class 'sklearn.feature_extraction.text.TfidfVectorizer'>\n",
      "Using TfidfVectorizer\n"
     ]
    },
    {
     "name": "stderr",
     "output_type": "stream",
     "text": [
      "Screening progress:  66%|███████████████████████▉            | 65/98 [00:29<00:15,  2.06iteration/s]"
     ]
    },
    {
     "name": "stdout",
     "output_type": "stream",
     "text": [
      "Feature Extractor Type: <class 'sklearn.feature_extraction.text.TfidfVectorizer'>\n",
      "Using TfidfVectorizer\n"
     ]
    },
    {
     "name": "stderr",
     "output_type": "stream",
     "text": [
      "Screening progress:  67%|████████████████████████▏           | 66/98 [00:29<00:15,  2.13iteration/s]"
     ]
    },
    {
     "name": "stdout",
     "output_type": "stream",
     "text": [
      "Feature Extractor Type: <class 'sklearn.feature_extraction.text.TfidfVectorizer'>\n",
      "Using TfidfVectorizer\n"
     ]
    },
    {
     "name": "stderr",
     "output_type": "stream",
     "text": [
      "Screening progress:  68%|████████████████████████▌           | 67/98 [00:30<00:14,  2.17iteration/s]"
     ]
    },
    {
     "name": "stdout",
     "output_type": "stream",
     "text": [
      "Feature Extractor Type: <class 'sklearn.feature_extraction.text.TfidfVectorizer'>\n",
      "Using TfidfVectorizer\n"
     ]
    },
    {
     "name": "stderr",
     "output_type": "stream",
     "text": [
      "Screening progress:  69%|████████████████████████▉           | 68/98 [00:30<00:13,  2.21iteration/s]"
     ]
    },
    {
     "name": "stdout",
     "output_type": "stream",
     "text": [
      "Feature Extractor Type: <class 'sklearn.feature_extraction.text.TfidfVectorizer'>\n",
      "Using TfidfVectorizer\n"
     ]
    },
    {
     "name": "stderr",
     "output_type": "stream",
     "text": [
      "Screening progress:  70%|█████████████████████████▎          | 69/98 [00:31<00:13,  2.21iteration/s]"
     ]
    },
    {
     "name": "stdout",
     "output_type": "stream",
     "text": [
      "Feature Extractor Type: <class 'sklearn.feature_extraction.text.TfidfVectorizer'>\n",
      "Using TfidfVectorizer\n"
     ]
    },
    {
     "name": "stderr",
     "output_type": "stream",
     "text": [
      "Screening progress:  71%|█████████████████████████▋          | 70/98 [00:31<00:12,  2.24iteration/s]"
     ]
    },
    {
     "name": "stdout",
     "output_type": "stream",
     "text": [
      "Feature Extractor Type: <class 'sklearn.feature_extraction.text.TfidfVectorizer'>\n",
      "Using TfidfVectorizer\n"
     ]
    },
    {
     "name": "stderr",
     "output_type": "stream",
     "text": [
      "Screening progress:  72%|██████████████████████████          | 71/98 [00:32<00:12,  2.24iteration/s]"
     ]
    },
    {
     "name": "stdout",
     "output_type": "stream",
     "text": [
      "Feature Extractor Type: <class 'sklearn.feature_extraction.text.TfidfVectorizer'>\n",
      "Using TfidfVectorizer\n"
     ]
    },
    {
     "name": "stderr",
     "output_type": "stream",
     "text": [
      "Screening progress:  73%|██████████████████████████▍         | 72/98 [00:32<00:11,  2.26iteration/s]"
     ]
    },
    {
     "name": "stdout",
     "output_type": "stream",
     "text": [
      "Feature Extractor Type: <class 'sklearn.feature_extraction.text.TfidfVectorizer'>\n",
      "Using TfidfVectorizer\n"
     ]
    },
    {
     "name": "stderr",
     "output_type": "stream",
     "text": [
      "Screening progress:  74%|██████████████████████████▊         | 73/98 [00:32<00:11,  2.27iteration/s]"
     ]
    },
    {
     "name": "stdout",
     "output_type": "stream",
     "text": [
      "Feature Extractor Type: <class 'sklearn.feature_extraction.text.TfidfVectorizer'>\n",
      "Using TfidfVectorizer\n"
     ]
    },
    {
     "name": "stderr",
     "output_type": "stream",
     "text": [
      "Screening progress:  76%|███████████████████████████▏        | 74/98 [00:33<00:10,  2.27iteration/s]"
     ]
    },
    {
     "name": "stdout",
     "output_type": "stream",
     "text": [
      "Feature Extractor Type: <class 'sklearn.feature_extraction.text.TfidfVectorizer'>\n",
      "Using TfidfVectorizer\n"
     ]
    },
    {
     "name": "stderr",
     "output_type": "stream",
     "text": [
      "Screening progress:  77%|███████████████████████████▌        | 75/98 [00:33<00:10,  2.28iteration/s]"
     ]
    },
    {
     "name": "stdout",
     "output_type": "stream",
     "text": [
      "Feature Extractor Type: <class 'sklearn.feature_extraction.text.TfidfVectorizer'>\n",
      "Using TfidfVectorizer\n"
     ]
    },
    {
     "name": "stderr",
     "output_type": "stream",
     "text": [
      "Screening progress:  78%|███████████████████████████▉        | 76/98 [00:34<00:09,  2.29iteration/s]"
     ]
    },
    {
     "name": "stdout",
     "output_type": "stream",
     "text": [
      "Feature Extractor Type: <class 'sklearn.feature_extraction.text.TfidfVectorizer'>\n",
      "Using TfidfVectorizer\n"
     ]
    },
    {
     "name": "stderr",
     "output_type": "stream",
     "text": [
      "Screening progress:  79%|████████████████████████████▎       | 77/98 [00:34<00:09,  2.30iteration/s]"
     ]
    },
    {
     "name": "stdout",
     "output_type": "stream",
     "text": [
      "Feature Extractor Type: <class 'sklearn.feature_extraction.text.TfidfVectorizer'>\n",
      "Using TfidfVectorizer\n"
     ]
    },
    {
     "name": "stderr",
     "output_type": "stream",
     "text": [
      "Screening progress:  80%|████████████████████████████▋       | 78/98 [00:35<00:08,  2.30iteration/s]"
     ]
    },
    {
     "name": "stdout",
     "output_type": "stream",
     "text": [
      "Feature Extractor Type: <class 'sklearn.feature_extraction.text.TfidfVectorizer'>\n",
      "Using TfidfVectorizer\n"
     ]
    },
    {
     "name": "stderr",
     "output_type": "stream",
     "text": [
      "Screening progress:  81%|█████████████████████████████       | 79/98 [00:35<00:08,  2.30iteration/s]"
     ]
    },
    {
     "name": "stdout",
     "output_type": "stream",
     "text": [
      "Feature Extractor Type: <class 'sklearn.feature_extraction.text.TfidfVectorizer'>\n",
      "Using TfidfVectorizer\n"
     ]
    },
    {
     "name": "stderr",
     "output_type": "stream",
     "text": [
      "Screening progress:  82%|█████████████████████████████▍      | 80/98 [00:35<00:07,  2.30iteration/s]"
     ]
    },
    {
     "name": "stdout",
     "output_type": "stream",
     "text": [
      "Feature Extractor Type: <class 'sklearn.feature_extraction.text.TfidfVectorizer'>\n",
      "Using TfidfVectorizer\n"
     ]
    },
    {
     "name": "stderr",
     "output_type": "stream",
     "text": [
      "Screening progress:  83%|█████████████████████████████▊      | 81/98 [00:36<00:07,  2.31iteration/s]"
     ]
    },
    {
     "name": "stdout",
     "output_type": "stream",
     "text": [
      "Feature Extractor Type: <class 'sklearn.feature_extraction.text.TfidfVectorizer'>\n",
      "Using TfidfVectorizer\n"
     ]
    },
    {
     "name": "stderr",
     "output_type": "stream",
     "text": [
      "Screening progress:  84%|██████████████████████████████      | 82/98 [00:36<00:06,  2.31iteration/s]"
     ]
    },
    {
     "name": "stdout",
     "output_type": "stream",
     "text": [
      "Feature Extractor Type: <class 'sklearn.feature_extraction.text.TfidfVectorizer'>\n",
      "Using TfidfVectorizer\n"
     ]
    },
    {
     "name": "stderr",
     "output_type": "stream",
     "text": [
      "Screening progress:  85%|██████████████████████████████▍     | 83/98 [00:37<00:06,  2.31iteration/s]"
     ]
    },
    {
     "name": "stdout",
     "output_type": "stream",
     "text": [
      "Feature Extractor Type: <class 'sklearn.feature_extraction.text.TfidfVectorizer'>\n",
      "Using TfidfVectorizer\n"
     ]
    },
    {
     "name": "stderr",
     "output_type": "stream",
     "text": [
      "Screening progress:  86%|██████████████████████████████▊     | 84/98 [00:37<00:06,  2.30iteration/s]"
     ]
    },
    {
     "name": "stdout",
     "output_type": "stream",
     "text": [
      "Feature Extractor Type: <class 'sklearn.feature_extraction.text.TfidfVectorizer'>\n",
      "Using TfidfVectorizer\n"
     ]
    },
    {
     "name": "stderr",
     "output_type": "stream",
     "text": [
      "Screening progress:  87%|███████████████████████████████▏    | 85/98 [00:38<00:05,  2.30iteration/s]"
     ]
    },
    {
     "name": "stdout",
     "output_type": "stream",
     "text": [
      "Feature Extractor Type: <class 'sklearn.feature_extraction.text.TfidfVectorizer'>\n",
      "Using TfidfVectorizer\n"
     ]
    },
    {
     "name": "stderr",
     "output_type": "stream",
     "text": [
      "Screening progress:  88%|███████████████████████████████▌    | 86/98 [00:38<00:05,  2.30iteration/s]"
     ]
    },
    {
     "name": "stdout",
     "output_type": "stream",
     "text": [
      "Feature Extractor Type: <class 'sklearn.feature_extraction.text.TfidfVectorizer'>\n",
      "Using TfidfVectorizer\n"
     ]
    },
    {
     "name": "stderr",
     "output_type": "stream",
     "text": [
      "Screening progress:  89%|███████████████████████████████▉    | 87/98 [00:38<00:04,  2.30iteration/s]"
     ]
    },
    {
     "name": "stdout",
     "output_type": "stream",
     "text": [
      "Feature Extractor Type: <class 'sklearn.feature_extraction.text.TfidfVectorizer'>\n",
      "Using TfidfVectorizer\n"
     ]
    },
    {
     "name": "stderr",
     "output_type": "stream",
     "text": [
      "Screening progress:  90%|████████████████████████████████▎   | 88/98 [00:39<00:04,  2.30iteration/s]"
     ]
    },
    {
     "name": "stdout",
     "output_type": "stream",
     "text": [
      "Feature Extractor Type: <class 'sklearn.feature_extraction.text.TfidfVectorizer'>\n",
      "Using TfidfVectorizer\n"
     ]
    },
    {
     "name": "stderr",
     "output_type": "stream",
     "text": [
      "Screening progress:  91%|████████████████████████████████▋   | 89/98 [00:39<00:03,  2.30iteration/s]"
     ]
    },
    {
     "name": "stdout",
     "output_type": "stream",
     "text": [
      "Feature Extractor Type: <class 'sklearn.feature_extraction.text.TfidfVectorizer'>\n",
      "Using TfidfVectorizer\n"
     ]
    },
    {
     "name": "stderr",
     "output_type": "stream",
     "text": [
      "Screening progress:  92%|█████████████████████████████████   | 90/98 [00:40<00:03,  2.27iteration/s]"
     ]
    },
    {
     "name": "stdout",
     "output_type": "stream",
     "text": [
      "Feature Extractor Type: <class 'sklearn.feature_extraction.text.TfidfVectorizer'>\n",
      "Using TfidfVectorizer\n"
     ]
    },
    {
     "name": "stderr",
     "output_type": "stream",
     "text": [
      "Screening progress:  93%|█████████████████████████████████▍  | 91/98 [00:40<00:03,  2.27iteration/s]"
     ]
    },
    {
     "name": "stdout",
     "output_type": "stream",
     "text": [
      "Feature Extractor Type: <class 'sklearn.feature_extraction.text.TfidfVectorizer'>\n",
      "Using TfidfVectorizer\n"
     ]
    },
    {
     "name": "stderr",
     "output_type": "stream",
     "text": [
      "Screening progress:  94%|█████████████████████████████████▊  | 92/98 [00:41<00:02,  2.29iteration/s]"
     ]
    },
    {
     "name": "stdout",
     "output_type": "stream",
     "text": [
      "Feature Extractor Type: <class 'sklearn.feature_extraction.text.TfidfVectorizer'>\n",
      "Using TfidfVectorizer\n"
     ]
    },
    {
     "name": "stderr",
     "output_type": "stream",
     "text": [
      "Screening progress:  95%|██████████████████████████████████▏ | 93/98 [00:41<00:02,  2.29iteration/s]"
     ]
    },
    {
     "name": "stdout",
     "output_type": "stream",
     "text": [
      "Feature Extractor Type: <class 'sklearn.feature_extraction.text.TfidfVectorizer'>\n",
      "Using TfidfVectorizer\n"
     ]
    },
    {
     "name": "stderr",
     "output_type": "stream",
     "text": [
      "Screening progress:  96%|██████████████████████████████████▌ | 94/98 [00:42<00:01,  2.30iteration/s]"
     ]
    },
    {
     "name": "stdout",
     "output_type": "stream",
     "text": [
      "Feature Extractor Type: <class 'sklearn.feature_extraction.text.TfidfVectorizer'>\n",
      "Using TfidfVectorizer\n"
     ]
    },
    {
     "name": "stderr",
     "output_type": "stream",
     "text": [
      "Screening progress:  97%|██████████████████████████████████▉ | 95/98 [00:42<00:01,  2.31iteration/s]"
     ]
    },
    {
     "name": "stdout",
     "output_type": "stream",
     "text": [
      "Feature Extractor Type: <class 'sklearn.feature_extraction.text.TfidfVectorizer'>\n",
      "Using TfidfVectorizer\n"
     ]
    },
    {
     "name": "stderr",
     "output_type": "stream",
     "text": [
      "Screening progress:  98%|███████████████████████████████████▎| 96/98 [00:42<00:00,  2.31iteration/s]"
     ]
    },
    {
     "name": "stdout",
     "output_type": "stream",
     "text": [
      "Feature Extractor Type: <class 'sklearn.feature_extraction.text.TfidfVectorizer'>\n",
      "Using TfidfVectorizer\n"
     ]
    },
    {
     "name": "stderr",
     "output_type": "stream",
     "text": [
      "Screening progress:  99%|███████████████████████████████████▋| 97/98 [00:43<00:00,  2.31iteration/s]"
     ]
    },
    {
     "name": "stdout",
     "output_type": "stream",
     "text": [
      "Feature Extractor Type: <class 'sklearn.feature_extraction.text.TfidfVectorizer'>\n",
      "Using TfidfVectorizer\n"
     ]
    },
    {
     "name": "stderr",
     "output_type": "stream",
     "text": [
      "Screening progress: 100%|████████████████████████████████████| 98/98 [00:43<00:00,  2.24iteration/s]\n",
      "Screening progress:   0%|                                             | 0/98 [00:00<?, ?iteration/s]"
     ]
    },
    {
     "name": "stdout",
     "output_type": "stream",
     "text": [
      "Feature Extractor Type: <class 'sklearn.feature_extraction.text.TfidfVectorizer'>\n",
      "Using TfidfVectorizer\n"
     ]
    },
    {
     "name": "stderr",
     "output_type": "stream",
     "text": [
      "Screening progress:   1%|▍                                    | 1/98 [00:00<00:38,  2.53iteration/s]"
     ]
    },
    {
     "name": "stdout",
     "output_type": "stream",
     "text": [
      "Feature Extractor Type: <class 'sklearn.feature_extraction.text.TfidfVectorizer'>\n",
      "Using TfidfVectorizer\n"
     ]
    },
    {
     "name": "stderr",
     "output_type": "stream",
     "text": [
      "Screening progress:   2%|▊                                    | 2/98 [00:00<00:38,  2.52iteration/s]"
     ]
    },
    {
     "name": "stdout",
     "output_type": "stream",
     "text": [
      "Feature Extractor Type: <class 'sklearn.feature_extraction.text.TfidfVectorizer'>\n",
      "Using TfidfVectorizer\n"
     ]
    },
    {
     "name": "stderr",
     "output_type": "stream",
     "text": [
      "Screening progress:   3%|█▏                                   | 3/98 [00:01<00:38,  2.49iteration/s]"
     ]
    },
    {
     "name": "stdout",
     "output_type": "stream",
     "text": [
      "Feature Extractor Type: <class 'sklearn.feature_extraction.text.TfidfVectorizer'>\n",
      "Using TfidfVectorizer\n"
     ]
    },
    {
     "name": "stderr",
     "output_type": "stream",
     "text": [
      "Screening progress:   4%|█▌                                   | 4/98 [00:01<00:37,  2.48iteration/s]"
     ]
    },
    {
     "name": "stdout",
     "output_type": "stream",
     "text": [
      "Feature Extractor Type: <class 'sklearn.feature_extraction.text.TfidfVectorizer'>\n",
      "Using TfidfVectorizer\n"
     ]
    },
    {
     "name": "stderr",
     "output_type": "stream",
     "text": [
      "Screening progress:   5%|█▉                                   | 5/98 [00:02<00:38,  2.44iteration/s]"
     ]
    },
    {
     "name": "stdout",
     "output_type": "stream",
     "text": [
      "Feature Extractor Type: <class 'sklearn.feature_extraction.text.TfidfVectorizer'>\n",
      "Using TfidfVectorizer\n"
     ]
    },
    {
     "name": "stderr",
     "output_type": "stream",
     "text": [
      "Screening progress:   6%|██▎                                  | 6/98 [00:02<00:37,  2.43iteration/s]"
     ]
    },
    {
     "name": "stdout",
     "output_type": "stream",
     "text": [
      "Feature Extractor Type: <class 'sklearn.feature_extraction.text.TfidfVectorizer'>\n",
      "Using TfidfVectorizer\n"
     ]
    },
    {
     "name": "stderr",
     "output_type": "stream",
     "text": [
      "Screening progress:   7%|██▋                                  | 7/98 [00:02<00:37,  2.41iteration/s]"
     ]
    },
    {
     "name": "stdout",
     "output_type": "stream",
     "text": [
      "Feature Extractor Type: <class 'sklearn.feature_extraction.text.TfidfVectorizer'>\n",
      "Using TfidfVectorizer\n"
     ]
    },
    {
     "name": "stderr",
     "output_type": "stream",
     "text": [
      "Screening progress:   8%|███                                  | 8/98 [00:03<00:37,  2.41iteration/s]"
     ]
    },
    {
     "name": "stdout",
     "output_type": "stream",
     "text": [
      "Feature Extractor Type: <class 'sklearn.feature_extraction.text.TfidfVectorizer'>\n",
      "Using TfidfVectorizer\n"
     ]
    },
    {
     "name": "stderr",
     "output_type": "stream",
     "text": [
      "Screening progress:   9%|███▍                                 | 9/98 [00:03<00:36,  2.41iteration/s]"
     ]
    },
    {
     "name": "stdout",
     "output_type": "stream",
     "text": [
      "Feature Extractor Type: <class 'sklearn.feature_extraction.text.TfidfVectorizer'>\n",
      "Using TfidfVectorizer\n"
     ]
    },
    {
     "name": "stderr",
     "output_type": "stream",
     "text": [
      "Screening progress:  10%|███▋                                | 10/98 [00:04<00:36,  2.40iteration/s]"
     ]
    },
    {
     "name": "stdout",
     "output_type": "stream",
     "text": [
      "Feature Extractor Type: <class 'sklearn.feature_extraction.text.TfidfVectorizer'>\n",
      "Using TfidfVectorizer\n"
     ]
    },
    {
     "name": "stderr",
     "output_type": "stream",
     "text": [
      "Screening progress:  11%|████                                | 11/98 [00:04<00:36,  2.39iteration/s]"
     ]
    },
    {
     "name": "stdout",
     "output_type": "stream",
     "text": [
      "Feature Extractor Type: <class 'sklearn.feature_extraction.text.TfidfVectorizer'>\n",
      "Using TfidfVectorizer\n"
     ]
    },
    {
     "name": "stderr",
     "output_type": "stream",
     "text": [
      "Screening progress:  12%|████▍                               | 12/98 [00:04<00:36,  2.39iteration/s]"
     ]
    },
    {
     "name": "stdout",
     "output_type": "stream",
     "text": [
      "Feature Extractor Type: <class 'sklearn.feature_extraction.text.TfidfVectorizer'>\n",
      "Using TfidfVectorizer\n"
     ]
    },
    {
     "name": "stderr",
     "output_type": "stream",
     "text": [
      "Screening progress:  13%|████▊                               | 13/98 [00:05<00:35,  2.38iteration/s]"
     ]
    },
    {
     "name": "stdout",
     "output_type": "stream",
     "text": [
      "Feature Extractor Type: <class 'sklearn.feature_extraction.text.TfidfVectorizer'>\n",
      "Using TfidfVectorizer\n"
     ]
    },
    {
     "name": "stderr",
     "output_type": "stream",
     "text": [
      "Screening progress:  14%|█████▏                              | 14/98 [00:05<00:35,  2.38iteration/s]"
     ]
    },
    {
     "name": "stdout",
     "output_type": "stream",
     "text": [
      "Feature Extractor Type: <class 'sklearn.feature_extraction.text.TfidfVectorizer'>\n",
      "Using TfidfVectorizer\n"
     ]
    },
    {
     "name": "stderr",
     "output_type": "stream",
     "text": [
      "Screening progress:  15%|█████▌                              | 15/98 [00:06<00:34,  2.37iteration/s]"
     ]
    },
    {
     "name": "stdout",
     "output_type": "stream",
     "text": [
      "Feature Extractor Type: <class 'sklearn.feature_extraction.text.TfidfVectorizer'>\n",
      "Using TfidfVectorizer\n"
     ]
    },
    {
     "name": "stderr",
     "output_type": "stream",
     "text": [
      "Screening progress:  16%|█████▉                              | 16/98 [00:06<00:34,  2.36iteration/s]"
     ]
    },
    {
     "name": "stdout",
     "output_type": "stream",
     "text": [
      "Feature Extractor Type: <class 'sklearn.feature_extraction.text.TfidfVectorizer'>\n",
      "Using TfidfVectorizer\n"
     ]
    },
    {
     "name": "stderr",
     "output_type": "stream",
     "text": [
      "Screening progress:  17%|██████▏                             | 17/98 [00:07<00:34,  2.37iteration/s]"
     ]
    },
    {
     "name": "stdout",
     "output_type": "stream",
     "text": [
      "Feature Extractor Type: <class 'sklearn.feature_extraction.text.TfidfVectorizer'>\n",
      "Using TfidfVectorizer\n"
     ]
    },
    {
     "name": "stderr",
     "output_type": "stream",
     "text": [
      "Screening progress:  18%|██████▌                             | 18/98 [00:07<00:33,  2.37iteration/s]"
     ]
    },
    {
     "name": "stdout",
     "output_type": "stream",
     "text": [
      "Feature Extractor Type: <class 'sklearn.feature_extraction.text.TfidfVectorizer'>\n",
      "Using TfidfVectorizer\n"
     ]
    },
    {
     "name": "stderr",
     "output_type": "stream",
     "text": [
      "Screening progress:  19%|██████▉                             | 19/98 [00:07<00:33,  2.37iteration/s]"
     ]
    },
    {
     "name": "stdout",
     "output_type": "stream",
     "text": [
      "Feature Extractor Type: <class 'sklearn.feature_extraction.text.TfidfVectorizer'>\n",
      "Using TfidfVectorizer\n"
     ]
    },
    {
     "name": "stderr",
     "output_type": "stream",
     "text": [
      "Screening progress:  20%|███████▎                            | 20/98 [00:08<00:32,  2.37iteration/s]"
     ]
    },
    {
     "name": "stdout",
     "output_type": "stream",
     "text": [
      "Feature Extractor Type: <class 'sklearn.feature_extraction.text.TfidfVectorizer'>\n",
      "Using TfidfVectorizer\n"
     ]
    },
    {
     "name": "stderr",
     "output_type": "stream",
     "text": [
      "Screening progress:  21%|███████▋                            | 21/98 [00:08<00:32,  2.37iteration/s]"
     ]
    },
    {
     "name": "stdout",
     "output_type": "stream",
     "text": [
      "Feature Extractor Type: <class 'sklearn.feature_extraction.text.TfidfVectorizer'>\n",
      "Using TfidfVectorizer\n"
     ]
    },
    {
     "name": "stderr",
     "output_type": "stream",
     "text": [
      "Screening progress:  22%|████████                            | 22/98 [00:09<00:32,  2.37iteration/s]"
     ]
    },
    {
     "name": "stdout",
     "output_type": "stream",
     "text": [
      "Feature Extractor Type: <class 'sklearn.feature_extraction.text.TfidfVectorizer'>\n",
      "Using TfidfVectorizer\n"
     ]
    },
    {
     "name": "stderr",
     "output_type": "stream",
     "text": [
      "Screening progress:  23%|████████▍                           | 23/98 [00:09<00:31,  2.37iteration/s]"
     ]
    },
    {
     "name": "stdout",
     "output_type": "stream",
     "text": [
      "Feature Extractor Type: <class 'sklearn.feature_extraction.text.TfidfVectorizer'>\n",
      "Using TfidfVectorizer\n"
     ]
    },
    {
     "name": "stderr",
     "output_type": "stream",
     "text": [
      "Screening progress:  24%|████████▊                           | 24/98 [00:10<00:31,  2.37iteration/s]"
     ]
    },
    {
     "name": "stdout",
     "output_type": "stream",
     "text": [
      "Feature Extractor Type: <class 'sklearn.feature_extraction.text.TfidfVectorizer'>\n",
      "Using TfidfVectorizer\n"
     ]
    },
    {
     "name": "stderr",
     "output_type": "stream",
     "text": [
      "Screening progress:  26%|█████████▏                          | 25/98 [00:10<00:30,  2.37iteration/s]"
     ]
    },
    {
     "name": "stdout",
     "output_type": "stream",
     "text": [
      "Feature Extractor Type: <class 'sklearn.feature_extraction.text.TfidfVectorizer'>\n",
      "Using TfidfVectorizer\n"
     ]
    },
    {
     "name": "stderr",
     "output_type": "stream",
     "text": [
      "Screening progress:  27%|█████████▌                          | 26/98 [00:10<00:30,  2.36iteration/s]"
     ]
    },
    {
     "name": "stdout",
     "output_type": "stream",
     "text": [
      "Feature Extractor Type: <class 'sklearn.feature_extraction.text.TfidfVectorizer'>\n",
      "Using TfidfVectorizer\n"
     ]
    },
    {
     "name": "stderr",
     "output_type": "stream",
     "text": [
      "Screening progress:  28%|█████████▉                          | 27/98 [00:11<00:30,  2.35iteration/s]"
     ]
    },
    {
     "name": "stdout",
     "output_type": "stream",
     "text": [
      "Feature Extractor Type: <class 'sklearn.feature_extraction.text.TfidfVectorizer'>\n",
      "Using TfidfVectorizer\n"
     ]
    },
    {
     "name": "stderr",
     "output_type": "stream",
     "text": [
      "Screening progress:  29%|██████████▎                         | 28/98 [00:11<00:29,  2.35iteration/s]"
     ]
    },
    {
     "name": "stdout",
     "output_type": "stream",
     "text": [
      "Feature Extractor Type: <class 'sklearn.feature_extraction.text.TfidfVectorizer'>\n",
      "Using TfidfVectorizer\n"
     ]
    },
    {
     "name": "stderr",
     "output_type": "stream",
     "text": [
      "Screening progress:  30%|██████████▋                         | 29/98 [00:12<00:29,  2.35iteration/s]"
     ]
    },
    {
     "name": "stdout",
     "output_type": "stream",
     "text": [
      "Feature Extractor Type: <class 'sklearn.feature_extraction.text.TfidfVectorizer'>\n",
      "Using TfidfVectorizer\n"
     ]
    },
    {
     "name": "stderr",
     "output_type": "stream",
     "text": [
      "Screening progress:  31%|███████████                         | 30/98 [00:12<00:29,  2.33iteration/s]"
     ]
    },
    {
     "name": "stdout",
     "output_type": "stream",
     "text": [
      "Feature Extractor Type: <class 'sklearn.feature_extraction.text.TfidfVectorizer'>\n",
      "Using TfidfVectorizer\n"
     ]
    },
    {
     "name": "stderr",
     "output_type": "stream",
     "text": [
      "Screening progress:  32%|███████████▍                        | 31/98 [00:13<00:28,  2.32iteration/s]"
     ]
    },
    {
     "name": "stdout",
     "output_type": "stream",
     "text": [
      "Feature Extractor Type: <class 'sklearn.feature_extraction.text.TfidfVectorizer'>\n",
      "Using TfidfVectorizer\n"
     ]
    },
    {
     "name": "stderr",
     "output_type": "stream",
     "text": [
      "Screening progress:  33%|███████████▊                        | 32/98 [00:13<00:28,  2.33iteration/s]"
     ]
    },
    {
     "name": "stdout",
     "output_type": "stream",
     "text": [
      "Feature Extractor Type: <class 'sklearn.feature_extraction.text.TfidfVectorizer'>\n",
      "Using TfidfVectorizer\n"
     ]
    },
    {
     "name": "stderr",
     "output_type": "stream",
     "text": [
      "Screening progress:  34%|████████████                        | 33/98 [00:13<00:27,  2.34iteration/s]"
     ]
    },
    {
     "name": "stdout",
     "output_type": "stream",
     "text": [
      "Feature Extractor Type: <class 'sklearn.feature_extraction.text.TfidfVectorizer'>\n",
      "Using TfidfVectorizer\n"
     ]
    },
    {
     "name": "stderr",
     "output_type": "stream",
     "text": [
      "Screening progress:  35%|████████████▍                       | 34/98 [00:14<00:27,  2.35iteration/s]"
     ]
    },
    {
     "name": "stdout",
     "output_type": "stream",
     "text": [
      "Feature Extractor Type: <class 'sklearn.feature_extraction.text.TfidfVectorizer'>\n",
      "Using TfidfVectorizer\n"
     ]
    },
    {
     "name": "stderr",
     "output_type": "stream",
     "text": [
      "Screening progress:  36%|████████████▊                       | 35/98 [00:14<00:26,  2.35iteration/s]"
     ]
    },
    {
     "name": "stdout",
     "output_type": "stream",
     "text": [
      "Feature Extractor Type: <class 'sklearn.feature_extraction.text.TfidfVectorizer'>\n",
      "Using TfidfVectorizer\n"
     ]
    },
    {
     "name": "stderr",
     "output_type": "stream",
     "text": [
      "Screening progress:  37%|█████████████▏                      | 36/98 [00:15<00:26,  2.35iteration/s]"
     ]
    },
    {
     "name": "stdout",
     "output_type": "stream",
     "text": [
      "Feature Extractor Type: <class 'sklearn.feature_extraction.text.TfidfVectorizer'>\n",
      "Using TfidfVectorizer\n"
     ]
    },
    {
     "name": "stderr",
     "output_type": "stream",
     "text": [
      "Screening progress:  38%|█████████████▌                      | 37/98 [00:15<00:25,  2.35iteration/s]"
     ]
    },
    {
     "name": "stdout",
     "output_type": "stream",
     "text": [
      "Feature Extractor Type: <class 'sklearn.feature_extraction.text.TfidfVectorizer'>\n",
      "Using TfidfVectorizer\n"
     ]
    },
    {
     "name": "stderr",
     "output_type": "stream",
     "text": [
      "Screening progress:  39%|█████████████▉                      | 38/98 [00:15<00:25,  2.35iteration/s]"
     ]
    },
    {
     "name": "stdout",
     "output_type": "stream",
     "text": [
      "Feature Extractor Type: <class 'sklearn.feature_extraction.text.TfidfVectorizer'>\n",
      "Using TfidfVectorizer\n"
     ]
    },
    {
     "name": "stderr",
     "output_type": "stream",
     "text": [
      "Screening progress:  40%|██████████████▎                     | 39/98 [00:16<00:25,  2.35iteration/s]"
     ]
    },
    {
     "name": "stdout",
     "output_type": "stream",
     "text": [
      "Feature Extractor Type: <class 'sklearn.feature_extraction.text.TfidfVectorizer'>\n",
      "Using TfidfVectorizer\n"
     ]
    },
    {
     "name": "stderr",
     "output_type": "stream",
     "text": [
      "Screening progress:  41%|██████████████▋                     | 40/98 [00:16<00:24,  2.35iteration/s]"
     ]
    },
    {
     "name": "stdout",
     "output_type": "stream",
     "text": [
      "Feature Extractor Type: <class 'sklearn.feature_extraction.text.TfidfVectorizer'>\n",
      "Using TfidfVectorizer\n"
     ]
    },
    {
     "name": "stderr",
     "output_type": "stream",
     "text": [
      "Screening progress:  42%|███████████████                     | 41/98 [00:17<00:24,  2.34iteration/s]"
     ]
    },
    {
     "name": "stdout",
     "output_type": "stream",
     "text": [
      "Feature Extractor Type: <class 'sklearn.feature_extraction.text.TfidfVectorizer'>\n",
      "Using TfidfVectorizer\n"
     ]
    },
    {
     "name": "stderr",
     "output_type": "stream",
     "text": [
      "Screening progress:  43%|███████████████▍                    | 42/98 [00:17<00:23,  2.34iteration/s]"
     ]
    },
    {
     "name": "stdout",
     "output_type": "stream",
     "text": [
      "Feature Extractor Type: <class 'sklearn.feature_extraction.text.TfidfVectorizer'>\n",
      "Using TfidfVectorizer\n"
     ]
    },
    {
     "name": "stderr",
     "output_type": "stream",
     "text": [
      "Screening progress:  44%|███████████████▊                    | 43/98 [00:18<00:23,  2.34iteration/s]"
     ]
    },
    {
     "name": "stdout",
     "output_type": "stream",
     "text": [
      "Feature Extractor Type: <class 'sklearn.feature_extraction.text.TfidfVectorizer'>\n",
      "Using TfidfVectorizer\n"
     ]
    },
    {
     "name": "stderr",
     "output_type": "stream",
     "text": [
      "Screening progress:  45%|████████████████▏                   | 44/98 [00:18<00:23,  2.34iteration/s]"
     ]
    },
    {
     "name": "stdout",
     "output_type": "stream",
     "text": [
      "Feature Extractor Type: <class 'sklearn.feature_extraction.text.TfidfVectorizer'>\n",
      "Using TfidfVectorizer\n"
     ]
    },
    {
     "name": "stderr",
     "output_type": "stream",
     "text": [
      "Screening progress:  46%|████████████████▌                   | 45/98 [00:18<00:22,  2.34iteration/s]"
     ]
    },
    {
     "name": "stdout",
     "output_type": "stream",
     "text": [
      "Feature Extractor Type: <class 'sklearn.feature_extraction.text.TfidfVectorizer'>\n",
      "Using TfidfVectorizer\n"
     ]
    },
    {
     "name": "stderr",
     "output_type": "stream",
     "text": [
      "Screening progress:  47%|████████████████▉                   | 46/98 [00:19<00:22,  2.34iteration/s]"
     ]
    },
    {
     "name": "stdout",
     "output_type": "stream",
     "text": [
      "Feature Extractor Type: <class 'sklearn.feature_extraction.text.TfidfVectorizer'>\n",
      "Using TfidfVectorizer\n"
     ]
    },
    {
     "name": "stderr",
     "output_type": "stream",
     "text": [
      "Screening progress:  48%|█████████████████▎                  | 47/98 [00:19<00:21,  2.34iteration/s]"
     ]
    },
    {
     "name": "stdout",
     "output_type": "stream",
     "text": [
      "Feature Extractor Type: <class 'sklearn.feature_extraction.text.TfidfVectorizer'>\n",
      "Using TfidfVectorizer\n"
     ]
    },
    {
     "name": "stderr",
     "output_type": "stream",
     "text": [
      "Screening progress:  49%|█████████████████▋                  | 48/98 [00:20<00:21,  2.34iteration/s]"
     ]
    },
    {
     "name": "stdout",
     "output_type": "stream",
     "text": [
      "Feature Extractor Type: <class 'sklearn.feature_extraction.text.TfidfVectorizer'>\n",
      "Using TfidfVectorizer\n"
     ]
    },
    {
     "name": "stderr",
     "output_type": "stream",
     "text": [
      "Screening progress:  50%|██████████████████                  | 49/98 [00:20<00:20,  2.35iteration/s]"
     ]
    },
    {
     "name": "stdout",
     "output_type": "stream",
     "text": [
      "Feature Extractor Type: <class 'sklearn.feature_extraction.text.TfidfVectorizer'>\n",
      "Using TfidfVectorizer\n"
     ]
    },
    {
     "name": "stderr",
     "output_type": "stream",
     "text": [
      "Screening progress:  51%|██████████████████▎                 | 50/98 [00:21<00:20,  2.35iteration/s]"
     ]
    },
    {
     "name": "stdout",
     "output_type": "stream",
     "text": [
      "Feature Extractor Type: <class 'sklearn.feature_extraction.text.TfidfVectorizer'>\n",
      "Using TfidfVectorizer\n"
     ]
    },
    {
     "name": "stderr",
     "output_type": "stream",
     "text": [
      "Screening progress:  52%|██████████████████▋                 | 51/98 [00:21<00:20,  2.34iteration/s]"
     ]
    },
    {
     "name": "stdout",
     "output_type": "stream",
     "text": [
      "Feature Extractor Type: <class 'sklearn.feature_extraction.text.TfidfVectorizer'>\n",
      "Using TfidfVectorizer\n"
     ]
    },
    {
     "name": "stderr",
     "output_type": "stream",
     "text": [
      "Screening progress:  53%|███████████████████                 | 52/98 [00:21<00:19,  2.34iteration/s]"
     ]
    },
    {
     "name": "stdout",
     "output_type": "stream",
     "text": [
      "Feature Extractor Type: <class 'sklearn.feature_extraction.text.TfidfVectorizer'>\n",
      "Using TfidfVectorizer\n"
     ]
    },
    {
     "name": "stderr",
     "output_type": "stream",
     "text": [
      "Screening progress:  54%|███████████████████▍                | 53/98 [00:22<00:19,  2.34iteration/s]"
     ]
    },
    {
     "name": "stdout",
     "output_type": "stream",
     "text": [
      "Feature Extractor Type: <class 'sklearn.feature_extraction.text.TfidfVectorizer'>\n",
      "Using TfidfVectorizer\n"
     ]
    },
    {
     "name": "stderr",
     "output_type": "stream",
     "text": [
      "Screening progress:  55%|███████████████████▊                | 54/98 [00:22<00:18,  2.34iteration/s]"
     ]
    },
    {
     "name": "stdout",
     "output_type": "stream",
     "text": [
      "Feature Extractor Type: <class 'sklearn.feature_extraction.text.TfidfVectorizer'>\n",
      "Using TfidfVectorizer\n"
     ]
    },
    {
     "name": "stderr",
     "output_type": "stream",
     "text": [
      "Screening progress:  56%|████████████████████▏               | 55/98 [00:23<00:18,  2.34iteration/s]"
     ]
    },
    {
     "name": "stdout",
     "output_type": "stream",
     "text": [
      "Feature Extractor Type: <class 'sklearn.feature_extraction.text.TfidfVectorizer'>\n",
      "Using TfidfVectorizer\n"
     ]
    },
    {
     "name": "stderr",
     "output_type": "stream",
     "text": [
      "Screening progress:  57%|████████████████████▌               | 56/98 [00:23<00:17,  2.34iteration/s]"
     ]
    },
    {
     "name": "stdout",
     "output_type": "stream",
     "text": [
      "Feature Extractor Type: <class 'sklearn.feature_extraction.text.TfidfVectorizer'>\n",
      "Using TfidfVectorizer\n"
     ]
    },
    {
     "name": "stderr",
     "output_type": "stream",
     "text": [
      "Screening progress:  58%|████████████████████▉               | 57/98 [00:24<00:17,  2.34iteration/s]"
     ]
    },
    {
     "name": "stdout",
     "output_type": "stream",
     "text": [
      "Feature Extractor Type: <class 'sklearn.feature_extraction.text.TfidfVectorizer'>\n",
      "Using TfidfVectorizer\n"
     ]
    },
    {
     "name": "stderr",
     "output_type": "stream",
     "text": [
      "Screening progress:  59%|█████████████████████▎              | 58/98 [00:24<00:17,  2.34iteration/s]"
     ]
    },
    {
     "name": "stdout",
     "output_type": "stream",
     "text": [
      "Feature Extractor Type: <class 'sklearn.feature_extraction.text.TfidfVectorizer'>\n",
      "Using TfidfVectorizer\n"
     ]
    },
    {
     "name": "stderr",
     "output_type": "stream",
     "text": [
      "Screening progress:  60%|█████████████████████▋              | 59/98 [00:24<00:16,  2.34iteration/s]"
     ]
    },
    {
     "name": "stdout",
     "output_type": "stream",
     "text": [
      "Feature Extractor Type: <class 'sklearn.feature_extraction.text.TfidfVectorizer'>\n",
      "Using TfidfVectorizer\n"
     ]
    },
    {
     "name": "stderr",
     "output_type": "stream",
     "text": [
      "Screening progress:  61%|██████████████████████              | 60/98 [00:25<00:16,  2.34iteration/s]"
     ]
    },
    {
     "name": "stdout",
     "output_type": "stream",
     "text": [
      "Feature Extractor Type: <class 'sklearn.feature_extraction.text.TfidfVectorizer'>\n",
      "Using TfidfVectorizer\n"
     ]
    },
    {
     "name": "stderr",
     "output_type": "stream",
     "text": [
      "Screening progress:  62%|██████████████████████▍             | 61/98 [00:25<00:15,  2.34iteration/s]"
     ]
    },
    {
     "name": "stdout",
     "output_type": "stream",
     "text": [
      "Feature Extractor Type: <class 'sklearn.feature_extraction.text.TfidfVectorizer'>\n",
      "Using TfidfVectorizer\n"
     ]
    },
    {
     "name": "stderr",
     "output_type": "stream",
     "text": [
      "Screening progress:  63%|██████████████████████▊             | 62/98 [00:26<00:15,  2.34iteration/s]"
     ]
    },
    {
     "name": "stdout",
     "output_type": "stream",
     "text": [
      "Feature Extractor Type: <class 'sklearn.feature_extraction.text.TfidfVectorizer'>\n",
      "Using TfidfVectorizer\n"
     ]
    },
    {
     "name": "stderr",
     "output_type": "stream",
     "text": [
      "Screening progress:  64%|███████████████████████▏            | 63/98 [00:26<00:14,  2.34iteration/s]"
     ]
    },
    {
     "name": "stdout",
     "output_type": "stream",
     "text": [
      "Feature Extractor Type: <class 'sklearn.feature_extraction.text.TfidfVectorizer'>\n",
      "Using TfidfVectorizer\n"
     ]
    },
    {
     "name": "stderr",
     "output_type": "stream",
     "text": [
      "Screening progress:  65%|███████████████████████▌            | 64/98 [00:27<00:14,  2.34iteration/s]"
     ]
    },
    {
     "name": "stdout",
     "output_type": "stream",
     "text": [
      "Feature Extractor Type: <class 'sklearn.feature_extraction.text.TfidfVectorizer'>\n",
      "Using TfidfVectorizer\n"
     ]
    },
    {
     "name": "stderr",
     "output_type": "stream",
     "text": [
      "Screening progress:  66%|███████████████████████▉            | 65/98 [00:27<00:14,  2.34iteration/s]"
     ]
    },
    {
     "name": "stdout",
     "output_type": "stream",
     "text": [
      "Feature Extractor Type: <class 'sklearn.feature_extraction.text.TfidfVectorizer'>\n",
      "Using TfidfVectorizer\n"
     ]
    },
    {
     "name": "stderr",
     "output_type": "stream",
     "text": [
      "Screening progress:  67%|████████████████████████▏           | 66/98 [00:27<00:13,  2.33iteration/s]"
     ]
    },
    {
     "name": "stdout",
     "output_type": "stream",
     "text": [
      "Feature Extractor Type: <class 'sklearn.feature_extraction.text.TfidfVectorizer'>\n",
      "Using TfidfVectorizer\n"
     ]
    },
    {
     "name": "stderr",
     "output_type": "stream",
     "text": [
      "Screening progress:  68%|████████████████████████▌           | 67/98 [00:28<00:13,  2.31iteration/s]"
     ]
    },
    {
     "name": "stdout",
     "output_type": "stream",
     "text": [
      "Feature Extractor Type: <class 'sklearn.feature_extraction.text.TfidfVectorizer'>\n",
      "Using TfidfVectorizer\n"
     ]
    },
    {
     "name": "stderr",
     "output_type": "stream",
     "text": [
      "Screening progress:  69%|████████████████████████▉           | 68/98 [00:28<00:13,  2.28iteration/s]"
     ]
    },
    {
     "name": "stdout",
     "output_type": "stream",
     "text": [
      "Feature Extractor Type: <class 'sklearn.feature_extraction.text.TfidfVectorizer'>\n",
      "Using TfidfVectorizer\n"
     ]
    },
    {
     "name": "stderr",
     "output_type": "stream",
     "text": [
      "Screening progress:  70%|█████████████████████████▎          | 69/98 [00:29<00:12,  2.29iteration/s]"
     ]
    },
    {
     "name": "stdout",
     "output_type": "stream",
     "text": [
      "Feature Extractor Type: <class 'sklearn.feature_extraction.text.TfidfVectorizer'>\n",
      "Using TfidfVectorizer\n"
     ]
    },
    {
     "name": "stderr",
     "output_type": "stream",
     "text": [
      "Screening progress:  71%|█████████████████████████▋          | 70/98 [00:29<00:12,  2.29iteration/s]"
     ]
    },
    {
     "name": "stdout",
     "output_type": "stream",
     "text": [
      "Feature Extractor Type: <class 'sklearn.feature_extraction.text.TfidfVectorizer'>\n",
      "Using TfidfVectorizer\n"
     ]
    },
    {
     "name": "stderr",
     "output_type": "stream",
     "text": [
      "Screening progress:  72%|██████████████████████████          | 71/98 [00:30<00:11,  2.29iteration/s]"
     ]
    },
    {
     "name": "stdout",
     "output_type": "stream",
     "text": [
      "Feature Extractor Type: <class 'sklearn.feature_extraction.text.TfidfVectorizer'>\n",
      "Using TfidfVectorizer\n"
     ]
    },
    {
     "name": "stderr",
     "output_type": "stream",
     "text": [
      "Screening progress:  73%|██████████████████████████▍         | 72/98 [00:30<00:11,  2.29iteration/s]"
     ]
    },
    {
     "name": "stdout",
     "output_type": "stream",
     "text": [
      "Feature Extractor Type: <class 'sklearn.feature_extraction.text.TfidfVectorizer'>\n",
      "Using TfidfVectorizer\n"
     ]
    },
    {
     "name": "stderr",
     "output_type": "stream",
     "text": [
      "Screening progress:  74%|██████████████████████████▊         | 73/98 [00:31<00:10,  2.30iteration/s]"
     ]
    },
    {
     "name": "stdout",
     "output_type": "stream",
     "text": [
      "Feature Extractor Type: <class 'sklearn.feature_extraction.text.TfidfVectorizer'>\n",
      "Using TfidfVectorizer\n"
     ]
    },
    {
     "name": "stderr",
     "output_type": "stream",
     "text": [
      "Screening progress:  76%|███████████████████████████▏        | 74/98 [00:31<00:10,  2.30iteration/s]"
     ]
    },
    {
     "name": "stdout",
     "output_type": "stream",
     "text": [
      "Feature Extractor Type: <class 'sklearn.feature_extraction.text.TfidfVectorizer'>\n",
      "Using TfidfVectorizer\n"
     ]
    },
    {
     "name": "stderr",
     "output_type": "stream",
     "text": [
      "Screening progress:  77%|███████████████████████████▌        | 75/98 [00:31<00:09,  2.30iteration/s]"
     ]
    },
    {
     "name": "stdout",
     "output_type": "stream",
     "text": [
      "Feature Extractor Type: <class 'sklearn.feature_extraction.text.TfidfVectorizer'>\n",
      "Using TfidfVectorizer\n"
     ]
    },
    {
     "name": "stderr",
     "output_type": "stream",
     "text": [
      "Screening progress:  78%|███████████████████████████▉        | 76/98 [00:32<00:09,  2.30iteration/s]"
     ]
    },
    {
     "name": "stdout",
     "output_type": "stream",
     "text": [
      "Feature Extractor Type: <class 'sklearn.feature_extraction.text.TfidfVectorizer'>\n",
      "Using TfidfVectorizer\n"
     ]
    },
    {
     "name": "stderr",
     "output_type": "stream",
     "text": [
      "Screening progress:  79%|████████████████████████████▎       | 77/98 [00:32<00:09,  2.31iteration/s]"
     ]
    },
    {
     "name": "stdout",
     "output_type": "stream",
     "text": [
      "Feature Extractor Type: <class 'sklearn.feature_extraction.text.TfidfVectorizer'>\n",
      "Using TfidfVectorizer\n"
     ]
    },
    {
     "name": "stderr",
     "output_type": "stream",
     "text": [
      "Screening progress:  80%|████████████████████████████▋       | 78/98 [00:33<00:08,  2.31iteration/s]"
     ]
    },
    {
     "name": "stdout",
     "output_type": "stream",
     "text": [
      "Feature Extractor Type: <class 'sklearn.feature_extraction.text.TfidfVectorizer'>\n",
      "Using TfidfVectorizer\n"
     ]
    },
    {
     "name": "stderr",
     "output_type": "stream",
     "text": [
      "Screening progress:  81%|█████████████████████████████       | 79/98 [00:33<00:08,  2.30iteration/s]"
     ]
    },
    {
     "name": "stdout",
     "output_type": "stream",
     "text": [
      "Feature Extractor Type: <class 'sklearn.feature_extraction.text.TfidfVectorizer'>\n",
      "Using TfidfVectorizer\n"
     ]
    },
    {
     "name": "stderr",
     "output_type": "stream",
     "text": [
      "Screening progress:  82%|█████████████████████████████▍      | 80/98 [00:34<00:07,  2.30iteration/s]"
     ]
    },
    {
     "name": "stdout",
     "output_type": "stream",
     "text": [
      "Feature Extractor Type: <class 'sklearn.feature_extraction.text.TfidfVectorizer'>\n",
      "Using TfidfVectorizer\n"
     ]
    },
    {
     "name": "stderr",
     "output_type": "stream",
     "text": [
      "Screening progress:  83%|█████████████████████████████▊      | 81/98 [00:34<00:07,  2.30iteration/s]"
     ]
    },
    {
     "name": "stdout",
     "output_type": "stream",
     "text": [
      "Feature Extractor Type: <class 'sklearn.feature_extraction.text.TfidfVectorizer'>\n",
      "Using TfidfVectorizer\n"
     ]
    },
    {
     "name": "stderr",
     "output_type": "stream",
     "text": [
      "Screening progress:  84%|██████████████████████████████      | 82/98 [00:34<00:06,  2.30iteration/s]"
     ]
    },
    {
     "name": "stdout",
     "output_type": "stream",
     "text": [
      "Feature Extractor Type: <class 'sklearn.feature_extraction.text.TfidfVectorizer'>\n",
      "Using TfidfVectorizer\n"
     ]
    },
    {
     "name": "stderr",
     "output_type": "stream",
     "text": [
      "Screening progress:  85%|██████████████████████████████▍     | 83/98 [00:35<00:06,  2.30iteration/s]"
     ]
    },
    {
     "name": "stdout",
     "output_type": "stream",
     "text": [
      "Feature Extractor Type: <class 'sklearn.feature_extraction.text.TfidfVectorizer'>\n",
      "Using TfidfVectorizer\n"
     ]
    },
    {
     "name": "stderr",
     "output_type": "stream",
     "text": [
      "Screening progress:  86%|██████████████████████████████▊     | 84/98 [00:35<00:06,  2.30iteration/s]"
     ]
    },
    {
     "name": "stdout",
     "output_type": "stream",
     "text": [
      "Feature Extractor Type: <class 'sklearn.feature_extraction.text.TfidfVectorizer'>\n",
      "Using TfidfVectorizer\n"
     ]
    },
    {
     "name": "stderr",
     "output_type": "stream",
     "text": [
      "Screening progress:  87%|███████████████████████████████▏    | 85/98 [00:36<00:05,  2.29iteration/s]"
     ]
    },
    {
     "name": "stdout",
     "output_type": "stream",
     "text": [
      "Feature Extractor Type: <class 'sklearn.feature_extraction.text.TfidfVectorizer'>\n",
      "Using TfidfVectorizer\n"
     ]
    },
    {
     "name": "stderr",
     "output_type": "stream",
     "text": [
      "Screening progress:  88%|███████████████████████████████▌    | 86/98 [00:36<00:05,  2.30iteration/s]"
     ]
    },
    {
     "name": "stdout",
     "output_type": "stream",
     "text": [
      "Feature Extractor Type: <class 'sklearn.feature_extraction.text.TfidfVectorizer'>\n",
      "Using TfidfVectorizer\n"
     ]
    },
    {
     "name": "stderr",
     "output_type": "stream",
     "text": [
      "Screening progress:  89%|███████████████████████████████▉    | 87/98 [00:37<00:04,  2.27iteration/s]"
     ]
    },
    {
     "name": "stdout",
     "output_type": "stream",
     "text": [
      "Feature Extractor Type: <class 'sklearn.feature_extraction.text.TfidfVectorizer'>\n",
      "Using TfidfVectorizer\n"
     ]
    },
    {
     "name": "stderr",
     "output_type": "stream",
     "text": [
      "Screening progress:  90%|████████████████████████████████▎   | 88/98 [00:37<00:04,  2.27iteration/s]"
     ]
    },
    {
     "name": "stdout",
     "output_type": "stream",
     "text": [
      "Feature Extractor Type: <class 'sklearn.feature_extraction.text.TfidfVectorizer'>\n",
      "Using TfidfVectorizer\n"
     ]
    },
    {
     "name": "stderr",
     "output_type": "stream",
     "text": [
      "Screening progress:  91%|████████████████████████████████▋   | 89/98 [00:38<00:03,  2.27iteration/s]"
     ]
    },
    {
     "name": "stdout",
     "output_type": "stream",
     "text": [
      "Feature Extractor Type: <class 'sklearn.feature_extraction.text.TfidfVectorizer'>\n",
      "Using TfidfVectorizer\n"
     ]
    },
    {
     "name": "stderr",
     "output_type": "stream",
     "text": [
      "Screening progress:  92%|█████████████████████████████████   | 90/98 [00:38<00:03,  2.28iteration/s]"
     ]
    },
    {
     "name": "stdout",
     "output_type": "stream",
     "text": [
      "Feature Extractor Type: <class 'sklearn.feature_extraction.text.TfidfVectorizer'>\n",
      "Using TfidfVectorizer\n"
     ]
    },
    {
     "name": "stderr",
     "output_type": "stream",
     "text": [
      "Screening progress:  93%|█████████████████████████████████▍  | 91/98 [00:38<00:03,  2.29iteration/s]"
     ]
    },
    {
     "name": "stdout",
     "output_type": "stream",
     "text": [
      "Feature Extractor Type: <class 'sklearn.feature_extraction.text.TfidfVectorizer'>\n",
      "Using TfidfVectorizer\n"
     ]
    },
    {
     "name": "stderr",
     "output_type": "stream",
     "text": [
      "Screening progress:  94%|█████████████████████████████████▊  | 92/98 [00:39<00:02,  2.30iteration/s]"
     ]
    },
    {
     "name": "stdout",
     "output_type": "stream",
     "text": [
      "Feature Extractor Type: <class 'sklearn.feature_extraction.text.TfidfVectorizer'>\n",
      "Using TfidfVectorizer\n"
     ]
    },
    {
     "name": "stderr",
     "output_type": "stream",
     "text": [
      "Screening progress:  95%|██████████████████████████████████▏ | 93/98 [00:39<00:02,  2.30iteration/s]"
     ]
    },
    {
     "name": "stdout",
     "output_type": "stream",
     "text": [
      "Feature Extractor Type: <class 'sklearn.feature_extraction.text.TfidfVectorizer'>\n",
      "Using TfidfVectorizer\n"
     ]
    },
    {
     "name": "stderr",
     "output_type": "stream",
     "text": [
      "Screening progress:  96%|██████████████████████████████████▌ | 94/98 [00:40<00:01,  2.29iteration/s]"
     ]
    },
    {
     "name": "stdout",
     "output_type": "stream",
     "text": [
      "Feature Extractor Type: <class 'sklearn.feature_extraction.text.TfidfVectorizer'>\n",
      "Using TfidfVectorizer\n"
     ]
    },
    {
     "name": "stderr",
     "output_type": "stream",
     "text": [
      "Screening progress:  97%|██████████████████████████████████▉ | 95/98 [00:40<00:01,  2.30iteration/s]"
     ]
    },
    {
     "name": "stdout",
     "output_type": "stream",
     "text": [
      "Feature Extractor Type: <class 'sklearn.feature_extraction.text.TfidfVectorizer'>\n",
      "Using TfidfVectorizer\n"
     ]
    },
    {
     "name": "stderr",
     "output_type": "stream",
     "text": [
      "Screening progress:  98%|███████████████████████████████████▎| 96/98 [00:41<00:00,  2.30iteration/s]"
     ]
    },
    {
     "name": "stdout",
     "output_type": "stream",
     "text": [
      "Feature Extractor Type: <class 'sklearn.feature_extraction.text.TfidfVectorizer'>\n",
      "Using TfidfVectorizer\n"
     ]
    },
    {
     "name": "stderr",
     "output_type": "stream",
     "text": [
      "Screening progress:  99%|███████████████████████████████████▋| 97/98 [00:41<00:00,  2.31iteration/s]"
     ]
    },
    {
     "name": "stdout",
     "output_type": "stream",
     "text": [
      "Feature Extractor Type: <class 'sklearn.feature_extraction.text.TfidfVectorizer'>\n",
      "Using TfidfVectorizer\n"
     ]
    },
    {
     "name": "stderr",
     "output_type": "stream",
     "text": [
      "Screening progress: 100%|████████████████████████████████████| 98/98 [00:41<00:00,  2.34iteration/s]\n"
     ]
    }
   ],
   "source": [
    "import os\n",
    "import pandas as pd\n",
    "import numpy as np\n",
    "from tqdm import tqdm\n",
    "from sklearn.linear_model import LogisticRegression\n",
    "from transformers import AutoModel, AutoTokenizer\n",
    "from sentence_transformers import SentenceTransformer\n",
    "import torch\n",
    "from sklearn.feature_extraction.text import TfidfVectorizer\n",
    "from transformers import BertModel\n",
    "\n",
    "os.environ[\"TRANSFORMERS_CACHE\"] = \"./models/transformers/cache/\"\n",
    "\n",
    "class ComputeRankings:\n",
    "    def __init__(self, dataset, feature_extractor, classifier, initial_inclusions=10, initial_exclusions=10,\n",
    "                 batch_size=10, random_seed=None):\n",
    "        self.dataset = dataset\n",
    "        self.feature_extractor = feature_extractor\n",
    "        self.classifier = classifier\n",
    "        self.initial_inclusions = initial_inclusions\n",
    "        self.initial_exclusions = initial_exclusions\n",
    "        self.batch_size = batch_size\n",
    "        self.random_seed = random_seed\n",
    "        self.rng = np.random.default_rng(self.random_seed)\n",
    "\n",
    "        if 'abstract' not in self.dataset.columns or 'label_included' not in self.dataset.columns:\n",
    "            raise ValueError(\"Dataset must have 'abstract' and 'label_included' columns.\")\n",
    "\n",
    "        # Initialize data storage\n",
    "        self.original_order = list(self.dataset.index)\n",
    "        self.final_order = []\n",
    "        self.training_data = None\n",
    "        self.training_labels = None\n",
    "        self.remaining_data = None\n",
    "\n",
    "    def initialize_training_data(self):\n",
    "        \"\"\"Randomly selects initial inclusions and exclusions for training.\"\"\"\n",
    "        available_inclusions = self.dataset[self.dataset['label_included'] == 1]\n",
    "        available_exclusions = self.dataset[self.dataset['label_included'] == 0]\n",
    "\n",
    "        if len(available_inclusions) < self.initial_inclusions or len(available_exclusions) < self.initial_exclusions:\n",
    "            raise ValueError(\"Not enough inclusions or exclusions in the dataset.\")\n",
    "\n",
    "        inclusions = available_inclusions.sample(n=self.initial_inclusions, random_state=self.random_seed)\n",
    "        exclusions = available_exclusions.sample(n=self.initial_exclusions, random_state=self.random_seed)\n",
    "\n",
    "        self.training_data = pd.concat([inclusions, exclusions])\n",
    "        self.training_labels = self.training_data['label_included']\n",
    "\n",
    "        # Store remaining records\n",
    "        self.remaining_data = self.dataset.drop(self.training_data.index)\n",
    "        self.final_order = self.training_data.index.tolist()\n",
    "\n",
    "    def preprocess(self):\n",
    "        \"\"\"Converts text abstracts into features based on the feature extractor.\"\"\"\n",
    "        self.training_data['abstract'] = self.training_data['abstract'].fillna('NA').astype(str)\n",
    "        self.remaining_data['abstract'] = self.remaining_data['abstract'].fillna('NA').astype(str)\n",
    "\n",
    "        # Initialize X_train and X_remaining in case no condition matches\n",
    "        X_train, X_remaining = None, None\n",
    "\n",
    "        # Print feature extractor type to debug\n",
    "        print(f\"Feature Extractor Type: {type(self.feature_extractor)}\")  # Debugging line\n",
    "\n",
    "        # Handle the feature extractor types\n",
    "        if isinstance(self.feature_extractor, TfidfVectorizer):\n",
    "            print(\"Using TfidfVectorizer\")  # Debugging line\n",
    "            X_train = self.feature_extractor.fit_transform(self.training_data['abstract'])\n",
    "            X_remaining = self.feature_extractor.transform(self.remaining_data['abstract'])\n",
    "\n",
    "        elif isinstance(self.feature_extractor, SentenceTransformer):\n",
    "            print(\"Using SentenceTransformer\")  # Debugging line\n",
    "            X_train = np.array(self.feature_extractor.encode(self.training_data['abstract'].tolist()))\n",
    "            X_remaining = np.array(self.feature_extractor.encode(self.remaining_data['abstract'].tolist()))\n",
    "\n",
    "        elif isinstance(self.feature_extractor, BertModel):  # Check specifically for BertModel\n",
    "            print(\"Using BERT Model\")  # Debugging line\n",
    "            X_train = self._get_huggingface_embeddings(self.training_data['abstract'])\n",
    "            X_remaining = self._get_huggingface_embeddings(self.remaining_data['abstract'])\n",
    "\n",
    "        elif isinstance(self.feature_extractor, AutoModel):  # For other Hugging Face models\n",
    "            print(\"Using Hugging Face Model (AutoModel)\")  # Debugging line\n",
    "            X_train = self._get_huggingface_embeddings(self.training_data['abstract'])\n",
    "            X_remaining = self._get_huggingface_embeddings(self.remaining_data['abstract'])\n",
    "\n",
    "        else:\n",
    "            # If no known feature extractor is passed, raise an error\n",
    "            raise ValueError(f\"Feature extractor type '{type(self.feature_extractor)}' is not recognized.\")\n",
    "\n",
    "        # If no valid extractor was found, raise an error\n",
    "        if X_train is None or X_remaining is None:\n",
    "            raise ValueError(\"Feature extractor type is not recognized or is incorrectly configured.\")\n",
    "\n",
    "        return X_train, X_remaining\n",
    "\n",
    "    def train_model(self, X_train):\n",
    "        \"\"\"Trains the classifier on the training data.\"\"\"\n",
    "        self.classifier.fit(X_train, self.training_labels)\n",
    "\n",
    "    def predict_and_rank(self, X_remaining):\n",
    "        \"\"\"Predicts probabilities and sorts remaining data by relevance.\"\"\"\n",
    "        probabilities = self.classifier.predict_proba(X_remaining)[:, 1]\n",
    "        self.remaining_data['probability'] = probabilities\n",
    "        self.remaining_data = self.remaining_data.sort_values(by='probability', ascending=False)\n",
    "\n",
    "    def expand_training_data(self):\n",
    "        \"\"\"Moves the top-ranked batch of records into training data.\"\"\"\n",
    "        batch_size = min(self.batch_size, len(self.remaining_data))\n",
    "        if batch_size == 0:\n",
    "            return\n",
    "\n",
    "        top_data = self.remaining_data.head(batch_size)\n",
    "        self.training_data = pd.concat([self.training_data, top_data])\n",
    "        self.training_labels = self.training_data['label_included']\n",
    "        self.remaining_data = self.remaining_data.iloc[batch_size:]\n",
    "\n",
    "        new_indices = top_data.index.tolist()\n",
    "        self.final_order.extend(new_indices)\n",
    "        \n",
    "    def iterative_training(self):\n",
    "        \"\"\"Runs the active learning loop to iteratively improve rankings.\"\"\"\n",
    "        total_remaining = len(self.remaining_data)\n",
    "        total_iterations = -(-total_remaining // self.batch_size)\n",
    "    \n",
    "        # Initialize the progress bar\n",
    "        with tqdm(total=total_iterations, desc=\"Screening progress\", unit=\"iteration\", ncols=100, leave=True) as pbar:\n",
    "            for _ in range(total_iterations):\n",
    "                X_train, X_remaining = self.preprocess()\n",
    "                self.train_model(X_train)\n",
    "                self.predict_and_rank(X_remaining)\n",
    "                self.expand_training_data()\n",
    "    \n",
    "                # Update the progress bar\n",
    "                pbar.update(1)\n",
    "    \n",
    "        # Ensure all original indices are in final order (fix missing values issue)\n",
    "        missing_indices = set(self.original_order) - set(self.final_order)\n",
    "        self.final_order.extend(missing_indices)\n",
    "\n",
    "        return self.original_order, self.final_order\n",
    "\n",
    "    def _get_huggingface_embeddings(self, texts):\n",
    "        \"\"\"Generates Hugging Face model embeddings for a given set of texts.\"\"\"\n",
    "        tokenizer = AutoTokenizer.from_pretrained('bert-base-uncased')  # Example model: BERT\n",
    "        model = self.feature_extractor  # Hugging Face model passed here\n",
    "\n",
    "        # Ensure texts is a list of strings\n",
    "        texts = texts.tolist() if isinstance(texts, pd.Series) else texts\n",
    "\n",
    "        # Tokenize the texts (ensure the input is in the correct format)\n",
    "        inputs = tokenizer(texts, padding=True, truncation=True, return_tensors=\"pt\", max_length=512)\n",
    "\n",
    "        with torch.no_grad():\n",
    "            outputs = model(**inputs)\n",
    "\n",
    "        embeddings = outputs.last_hidden_state.mean(dim=1)  # Mean pooling\n",
    "        return embeddings.numpy()\n",
    "\n",
    "# Example Usage:\n",
    "if __name__ == \"__main__\":\n",
    "    data_path = \"./data/processed/\"\n",
    "    output_path = \"./output/rankings/\"\n",
    "    os.makedirs(output_path, exist_ok=True)\n",
    "\n",
    "\n",
    "    def load_dataset(file_path):\n",
    "        \"\"\"Loads a dataset from CSV or Excel.\"\"\"\n",
    "        if file_path.endswith('.xlsx'):\n",
    "            return pd.read_excel(file_path)\n",
    "        elif file_path.endswith('.csv'):\n",
    "            df = pd.read_csv(file_path)\n",
    "            df['abstract'] = df['abstract'].fillna('NA').astype(str)\n",
    "            return df\n",
    "        return None\n",
    "\n",
    "\n",
    "    # Loop over all datasets\n",
    "    for filename in os.listdir(data_path):\n",
    "        file_path = os.path.join(data_path, filename)\n",
    "        dataset = load_dataset(file_path)\n",
    "\n",
    "        if dataset is None:\n",
    "            continue  # Skip if not a valid dataset\n",
    "\n",
    "        # Define parameters\n",
    "        initial_inclusions = 10\n",
    "        initial_exclusions = 10\n",
    "        batch_size = 50\n",
    "        random_seeds = range(1, 4)\n",
    "\n",
    "        # Define list of feature extractors to loop over\n",
    "        feature_extractors = [\n",
    "            #('huggingface', AutoModel.from_pretrained('bert-base-uncased')),\n",
    "            #('sentence_transformer', SentenceTransformer('paraphrase-MiniLM-L6-v2')),\n",
    "            ('tfidf', TfidfVectorizer(stop_words='english', max_features=5000))\n",
    "        ]\n",
    "\n",
    "        # Loop over different feature extractors\n",
    "        for feature_name, feature_extractor in feature_extractors:\n",
    "            for random_seed in random_seeds:\n",
    "                compute_rankings = ComputeRankings(\n",
    "                    dataset,\n",
    "                    feature_extractor,\n",
    "                    LogisticRegression(),\n",
    "                    initial_inclusions=initial_inclusions,\n",
    "                    initial_exclusions=initial_exclusions,\n",
    "                    batch_size=batch_size,\n",
    "                    random_seed=random_seed\n",
    "                )\n",
    "\n",
    "                # Run ranking algorithm\n",
    "                compute_rankings.initialize_training_data()\n",
    "                original_order, final_order = compute_rankings.iterative_training()\n",
    "\n",
    "                # Convert ranking outputs to DataFrames\n",
    "                original_df = pd.DataFrame({'Original_Index': original_order})\n",
    "                original_df['Original_Label'] = dataset.loc[original_df['Original_Index'], 'label_included'].values\n",
    "\n",
    "                final_df = pd.DataFrame({'Final_Index': final_order})\n",
    "                final_df['Final_Label'] = dataset.loc[final_df['Final_Index'], 'label_included'].values\n",
    "\n",
    "                # Merge original and final rankings\n",
    "                ranking_output = pd.concat([original_df, final_df], axis=1)\n",
    "\n",
    "                # Save rankings to CSV\n",
    "                output_file = f\"{output_path}{os.path.splitext(filename)[0]}_rankings_{feature_name}_{random_seed}.csv\"\n",
    "                ranking_output.to_csv(output_file, index=False)\n"
   ]
  },
  {
   "cell_type": "code",
   "execution_count": 47,
   "id": "6a60b70b-f02f-44e3-9543-be3fa17c3aae",
   "metadata": {},
   "outputs": [
    {
     "data": {
      "text/html": [
       "<div>\n",
       "<style scoped>\n",
       "    .dataframe tbody tr th:only-of-type {\n",
       "        vertical-align: middle;\n",
       "    }\n",
       "\n",
       "    .dataframe tbody tr th {\n",
       "        vertical-align: top;\n",
       "    }\n",
       "\n",
       "    .dataframe thead th {\n",
       "        text-align: right;\n",
       "    }\n",
       "</style>\n",
       "<table border=\"1\" class=\"dataframe\">\n",
       "  <thead>\n",
       "    <tr style=\"text-align: right;\">\n",
       "      <th></th>\n",
       "      <th>Unnamed: 0</th>\n",
       "      <th>type</th>\n",
       "      <th>authors</th>\n",
       "      <th>year</th>\n",
       "      <th>title</th>\n",
       "      <th>journal</th>\n",
       "      <th>pmid</th>\n",
       "      <th>keywords</th>\n",
       "      <th>abstract</th>\n",
       "      <th>label_included</th>\n",
       "      <th>...</th>\n",
       "      <th>tripod5</th>\n",
       "      <th>word_count</th>\n",
       "      <th>avg_sentence_length</th>\n",
       "      <th>structured</th>\n",
       "      <th>tfidf_mean</th>\n",
       "      <th>tfidf_deviation</th>\n",
       "      <th>Ranking_1</th>\n",
       "      <th>Ranking_2</th>\n",
       "      <th>Ranking_3</th>\n",
       "      <th>Ranking_Avg</th>\n",
       "    </tr>\n",
       "  </thead>\n",
       "  <tbody>\n",
       "    <tr>\n",
       "      <th>1447</th>\n",
       "      <td>0</td>\n",
       "      <td>JOUR</td>\n",
       "      <td>['Abbatangelo M', 'Nunez-Carmona E', 'Duina G'...</td>\n",
       "      <td>2019.0</td>\n",
       "      <td>Multidisciplinary Approach to Characterizing t...</td>\n",
       "      <td>NaN</td>\n",
       "      <td>NaN</td>\n",
       "      <td>['eppi-reviewer4', 'Gas Chromatography-Mass Sp...</td>\n",
       "      <td>Extra virgin olive oil (EVOO) is characterized...</td>\n",
       "      <td>0</td>\n",
       "      <td>...</td>\n",
       "      <td>0.395602</td>\n",
       "      <td>198</td>\n",
       "      <td>28.285714</td>\n",
       "      <td>0</td>\n",
       "      <td>0.000224</td>\n",
       "      <td>-0.000009</td>\n",
       "      <td>2088</td>\n",
       "      <td>1706</td>\n",
       "      <td>1447</td>\n",
       "      <td>1747.000000</td>\n",
       "    </tr>\n",
       "    <tr>\n",
       "      <th>54</th>\n",
       "      <td>1</td>\n",
       "      <td>JOUR</td>\n",
       "      <td>['Accetturo M', \"D'Uggento AM\", 'Portincasa P'...</td>\n",
       "      <td>2019.0</td>\n",
       "      <td>Improvement of MEFV gene variants classificati...</td>\n",
       "      <td>NaN</td>\n",
       "      <td>NaN</td>\n",
       "      <td>['eppi-reviewer4', 'MEFV', 'familial Mediterra...</td>\n",
       "      <td>OBJECTIVE: FMF is an inherited autoinflammator...</td>\n",
       "      <td>0</td>\n",
       "      <td>...</td>\n",
       "      <td>0.822498</td>\n",
       "      <td>258</td>\n",
       "      <td>23.454545</td>\n",
       "      <td>1</td>\n",
       "      <td>0.000189</td>\n",
       "      <td>-0.000044</td>\n",
       "      <td>1767</td>\n",
       "      <td>1271</td>\n",
       "      <td>54</td>\n",
       "      <td>1030.666667</td>\n",
       "    </tr>\n",
       "    <tr>\n",
       "      <th>1462</th>\n",
       "      <td>2</td>\n",
       "      <td>JOUR</td>\n",
       "      <td>['Aguilar-Velazquez JA', 'Martinez-Cortes G', ...</td>\n",
       "      <td>2018.0</td>\n",
       "      <td>Forensic parameters and admixture in Mestizos ...</td>\n",
       "      <td>NaN</td>\n",
       "      <td>NaN</td>\n",
       "      <td>['eppi-reviewer4', '*DNA Fingerprinting', 'Eth...</td>\n",
       "      <td>We analyzed Mestizo (admixed) population sampl...</td>\n",
       "      <td>0</td>\n",
       "      <td>...</td>\n",
       "      <td>0.363561</td>\n",
       "      <td>238</td>\n",
       "      <td>26.444444</td>\n",
       "      <td>0</td>\n",
       "      <td>0.000170</td>\n",
       "      <td>-0.000063</td>\n",
       "      <td>1679</td>\n",
       "      <td>1994</td>\n",
       "      <td>1462</td>\n",
       "      <td>1711.666667</td>\n",
       "    </tr>\n",
       "    <tr>\n",
       "      <th>395</th>\n",
       "      <td>3</td>\n",
       "      <td>JOUR</td>\n",
       "      <td>['Ahmad AU', 'Starkey A']</td>\n",
       "      <td>2018.0</td>\n",
       "      <td>Application of feature selection methods for a...</td>\n",
       "      <td>NaN</td>\n",
       "      <td>NaN</td>\n",
       "      <td>['eppi-reviewer4', 'Automation', 'Clustering',...</td>\n",
       "      <td>The effective modelling of high-dimensional da...</td>\n",
       "      <td>0</td>\n",
       "      <td>...</td>\n",
       "      <td>0.452092</td>\n",
       "      <td>278</td>\n",
       "      <td>34.750000</td>\n",
       "      <td>0</td>\n",
       "      <td>0.000000</td>\n",
       "      <td>-0.000233</td>\n",
       "      <td>1882</td>\n",
       "      <td>1320</td>\n",
       "      <td>395</td>\n",
       "      <td>1199.000000</td>\n",
       "    </tr>\n",
       "    <tr>\n",
       "      <th>1247</th>\n",
       "      <td>4</td>\n",
       "      <td>JOUR</td>\n",
       "      <td>['Alanni R', 'Hou J', 'Azzawi H', 'Xiang Y']</td>\n",
       "      <td>2019.0</td>\n",
       "      <td>Cancer adjuvant chemotherapy prediction model ...</td>\n",
       "      <td>NaN</td>\n",
       "      <td>NaN</td>\n",
       "      <td>['eppi-reviewer4']</td>\n",
       "      <td>Non-small cell lung cancer (NSCLC) is the most...</td>\n",
       "      <td>0</td>\n",
       "      <td>...</td>\n",
       "      <td>0.265725</td>\n",
       "      <td>199</td>\n",
       "      <td>16.583333</td>\n",
       "      <td>0</td>\n",
       "      <td>0.000256</td>\n",
       "      <td>0.000024</td>\n",
       "      <td>674</td>\n",
       "      <td>1357</td>\n",
       "      <td>1247</td>\n",
       "      <td>1092.666667</td>\n",
       "    </tr>\n",
       "    <tr>\n",
       "      <th>...</th>\n",
       "      <td>...</td>\n",
       "      <td>...</td>\n",
       "      <td>...</td>\n",
       "      <td>...</td>\n",
       "      <td>...</td>\n",
       "      <td>...</td>\n",
       "      <td>...</td>\n",
       "      <td>...</td>\n",
       "      <td>...</td>\n",
       "      <td>...</td>\n",
       "      <td>...</td>\n",
       "      <td>...</td>\n",
       "      <td>...</td>\n",
       "      <td>...</td>\n",
       "      <td>...</td>\n",
       "      <td>...</td>\n",
       "      <td>...</td>\n",
       "      <td>...</td>\n",
       "      <td>...</td>\n",
       "      <td>...</td>\n",
       "      <td>...</td>\n",
       "    </tr>\n",
       "    <tr>\n",
       "      <th>1700</th>\n",
       "      <td>2477</td>\n",
       "      <td>JOUR</td>\n",
       "      <td>['Zhang J', 'Cong Q', 'Shen J', 'Brockmann E',...</td>\n",
       "      <td>2019.0</td>\n",
       "      <td>Three new subfamilies of skipper butterflies (...</td>\n",
       "      <td>NaN</td>\n",
       "      <td>NaN</td>\n",
       "      <td>['eppi-reviewer4', 'Africa', 'Asia', 'genomics...</td>\n",
       "      <td>We obtained and analyzed whole genome data for...</td>\n",
       "      <td>0</td>\n",
       "      <td>...</td>\n",
       "      <td>0.723129</td>\n",
       "      <td>194</td>\n",
       "      <td>21.555556</td>\n",
       "      <td>0</td>\n",
       "      <td>0.000202</td>\n",
       "      <td>-0.000031</td>\n",
       "      <td>2370</td>\n",
       "      <td>2246</td>\n",
       "      <td>1700</td>\n",
       "      <td>2105.333333</td>\n",
       "    </tr>\n",
       "    <tr>\n",
       "      <th>1653</th>\n",
       "      <td>2478</td>\n",
       "      <td>JOUR</td>\n",
       "      <td>['Zhao F', 'Wu B', 'Chen F', 'Cao X', 'Yi H', ...</td>\n",
       "      <td>2019.0</td>\n",
       "      <td>An automatic multi-class coronary atherosclero...</td>\n",
       "      <td>NaN</td>\n",
       "      <td>NaN</td>\n",
       "      <td>['eppi-reviewer4', 'Algorithms', 'Automation',...</td>\n",
       "      <td>Detection of different classes of atherosclero...</td>\n",
       "      <td>0</td>\n",
       "      <td>...</td>\n",
       "      <td>0.182771</td>\n",
       "      <td>213</td>\n",
       "      <td>17.750000</td>\n",
       "      <td>0</td>\n",
       "      <td>0.000271</td>\n",
       "      <td>0.000038</td>\n",
       "      <td>1609</td>\n",
       "      <td>1424</td>\n",
       "      <td>1653</td>\n",
       "      <td>1562.000000</td>\n",
       "    </tr>\n",
       "    <tr>\n",
       "      <th>306</th>\n",
       "      <td>2479</td>\n",
       "      <td>JOUR</td>\n",
       "      <td>['Zhu Q', 'Deng X', 'Zhang SB', 'Mei SY', 'Che...</td>\n",
       "      <td>2018.0</td>\n",
       "      <td>[Genetic diversity of 6 species in Polygonatum...</td>\n",
       "      <td>NaN</td>\n",
       "      <td>NaN</td>\n",
       "      <td>['eppi-reviewer4', 'Alleles', 'China', 'Geneti...</td>\n",
       "      <td>Polygonatum is a genus of the perennial herb f...</td>\n",
       "      <td>0</td>\n",
       "      <td>...</td>\n",
       "      <td>0.961709</td>\n",
       "      <td>295</td>\n",
       "      <td>24.583333</td>\n",
       "      <td>0</td>\n",
       "      <td>0.000228</td>\n",
       "      <td>-0.000005</td>\n",
       "      <td>11</td>\n",
       "      <td>1338</td>\n",
       "      <td>306</td>\n",
       "      <td>551.666667</td>\n",
       "    </tr>\n",
       "    <tr>\n",
       "      <th>519</th>\n",
       "      <td>2480</td>\n",
       "      <td>JOUR</td>\n",
       "      <td>['Zhu Q', 'Frierson S', 'Francis A', 'Rogers L...</td>\n",
       "      <td>2019.0</td>\n",
       "      <td>Multi-layer framework of identifying placenta ...</td>\n",
       "      <td>NaN</td>\n",
       "      <td>NaN</td>\n",
       "      <td>['eppi-reviewer4', 'MeSH', 'Naive Bayes classi...</td>\n",
       "      <td>BACKGROUND: The placenta is a maternal-fetal o...</td>\n",
       "      <td>0</td>\n",
       "      <td>...</td>\n",
       "      <td>0.058667</td>\n",
       "      <td>302</td>\n",
       "      <td>25.166667</td>\n",
       "      <td>1</td>\n",
       "      <td>0.000254</td>\n",
       "      <td>0.000021</td>\n",
       "      <td>1571</td>\n",
       "      <td>2145</td>\n",
       "      <td>519</td>\n",
       "      <td>1411.666667</td>\n",
       "    </tr>\n",
       "    <tr>\n",
       "      <th>1968</th>\n",
       "      <td>2481</td>\n",
       "      <td>JOUR</td>\n",
       "      <td>['Zuniga-Reinoso A', 'Mendez MA']</td>\n",
       "      <td>2018.0</td>\n",
       "      <td>Hidden and cryptic species reflect parallel an...</td>\n",
       "      <td>NaN</td>\n",
       "      <td>NaN</td>\n",
       "      <td>['eppi-reviewer4', 'Animals', 'Base Sequence',...</td>\n",
       "      <td>The origin of cryptic species has traditionall...</td>\n",
       "      <td>0</td>\n",
       "      <td>...</td>\n",
       "      <td>0.161276</td>\n",
       "      <td>212</td>\n",
       "      <td>23.555556</td>\n",
       "      <td>0</td>\n",
       "      <td>0.000244</td>\n",
       "      <td>0.000011</td>\n",
       "      <td>2463</td>\n",
       "      <td>796</td>\n",
       "      <td>1968</td>\n",
       "      <td>1742.333333</td>\n",
       "    </tr>\n",
       "  </tbody>\n",
       "</table>\n",
       "<p>2482 rows × 25 columns</p>\n",
       "</div>"
      ],
      "text/plain": [
       "      Unnamed: 0  type                                            authors  \\\n",
       "1447           0  JOUR  ['Abbatangelo M', 'Nunez-Carmona E', 'Duina G'...   \n",
       "54             1  JOUR  ['Accetturo M', \"D'Uggento AM\", 'Portincasa P'...   \n",
       "1462           2  JOUR  ['Aguilar-Velazquez JA', 'Martinez-Cortes G', ...   \n",
       "395            3  JOUR                          ['Ahmad AU', 'Starkey A']   \n",
       "1247           4  JOUR       ['Alanni R', 'Hou J', 'Azzawi H', 'Xiang Y']   \n",
       "...          ...   ...                                                ...   \n",
       "1700        2477  JOUR  ['Zhang J', 'Cong Q', 'Shen J', 'Brockmann E',...   \n",
       "1653        2478  JOUR  ['Zhao F', 'Wu B', 'Chen F', 'Cao X', 'Yi H', ...   \n",
       "306         2479  JOUR  ['Zhu Q', 'Deng X', 'Zhang SB', 'Mei SY', 'Che...   \n",
       "519         2480  JOUR  ['Zhu Q', 'Frierson S', 'Francis A', 'Rogers L...   \n",
       "1968        2481  JOUR                  ['Zuniga-Reinoso A', 'Mendez MA']   \n",
       "\n",
       "        year                                              title  journal  \\\n",
       "1447  2019.0  Multidisciplinary Approach to Characterizing t...      NaN   \n",
       "54    2019.0  Improvement of MEFV gene variants classificati...      NaN   \n",
       "1462  2018.0  Forensic parameters and admixture in Mestizos ...      NaN   \n",
       "395   2018.0  Application of feature selection methods for a...      NaN   \n",
       "1247  2019.0  Cancer adjuvant chemotherapy prediction model ...      NaN   \n",
       "...      ...                                                ...      ...   \n",
       "1700  2019.0  Three new subfamilies of skipper butterflies (...      NaN   \n",
       "1653  2019.0  An automatic multi-class coronary atherosclero...      NaN   \n",
       "306   2018.0  [Genetic diversity of 6 species in Polygonatum...      NaN   \n",
       "519   2019.0  Multi-layer framework of identifying placenta ...      NaN   \n",
       "1968  2018.0  Hidden and cryptic species reflect parallel an...      NaN   \n",
       "\n",
       "      pmid                                           keywords  \\\n",
       "1447   NaN  ['eppi-reviewer4', 'Gas Chromatography-Mass Sp...   \n",
       "54     NaN  ['eppi-reviewer4', 'MEFV', 'familial Mediterra...   \n",
       "1462   NaN  ['eppi-reviewer4', '*DNA Fingerprinting', 'Eth...   \n",
       "395    NaN  ['eppi-reviewer4', 'Automation', 'Clustering',...   \n",
       "1247   NaN                                 ['eppi-reviewer4']   \n",
       "...    ...                                                ...   \n",
       "1700   NaN  ['eppi-reviewer4', 'Africa', 'Asia', 'genomics...   \n",
       "1653   NaN  ['eppi-reviewer4', 'Algorithms', 'Automation',...   \n",
       "306    NaN  ['eppi-reviewer4', 'Alleles', 'China', 'Geneti...   \n",
       "519    NaN  ['eppi-reviewer4', 'MeSH', 'Naive Bayes classi...   \n",
       "1968   NaN  ['eppi-reviewer4', 'Animals', 'Base Sequence',...   \n",
       "\n",
       "                                               abstract  label_included  ...  \\\n",
       "1447  Extra virgin olive oil (EVOO) is characterized...               0  ...   \n",
       "54    OBJECTIVE: FMF is an inherited autoinflammator...               0  ...   \n",
       "1462  We analyzed Mestizo (admixed) population sampl...               0  ...   \n",
       "395   The effective modelling of high-dimensional da...               0  ...   \n",
       "1247  Non-small cell lung cancer (NSCLC) is the most...               0  ...   \n",
       "...                                                 ...             ...  ...   \n",
       "1700  We obtained and analyzed whole genome data for...               0  ...   \n",
       "1653  Detection of different classes of atherosclero...               0  ...   \n",
       "306   Polygonatum is a genus of the perennial herb f...               0  ...   \n",
       "519   BACKGROUND: The placenta is a maternal-fetal o...               0  ...   \n",
       "1968  The origin of cryptic species has traditionall...               0  ...   \n",
       "\n",
       "       tripod5  word_count  avg_sentence_length  structured  tfidf_mean  \\\n",
       "1447  0.395602         198            28.285714           0    0.000224   \n",
       "54    0.822498         258            23.454545           1    0.000189   \n",
       "1462  0.363561         238            26.444444           0    0.000170   \n",
       "395   0.452092         278            34.750000           0    0.000000   \n",
       "1247  0.265725         199            16.583333           0    0.000256   \n",
       "...        ...         ...                  ...         ...         ...   \n",
       "1700  0.723129         194            21.555556           0    0.000202   \n",
       "1653  0.182771         213            17.750000           0    0.000271   \n",
       "306   0.961709         295            24.583333           0    0.000228   \n",
       "519   0.058667         302            25.166667           1    0.000254   \n",
       "1968  0.161276         212            23.555556           0    0.000244   \n",
       "\n",
       "      tfidf_deviation  Ranking_1  Ranking_2  Ranking_3  Ranking_Avg  \n",
       "1447        -0.000009       2088       1706       1447  1747.000000  \n",
       "54          -0.000044       1767       1271         54  1030.666667  \n",
       "1462        -0.000063       1679       1994       1462  1711.666667  \n",
       "395         -0.000233       1882       1320        395  1199.000000  \n",
       "1247         0.000024        674       1357       1247  1092.666667  \n",
       "...               ...        ...        ...        ...          ...  \n",
       "1700        -0.000031       2370       2246       1700  2105.333333  \n",
       "1653         0.000038       1609       1424       1653  1562.000000  \n",
       "306         -0.000005         11       1338        306   551.666667  \n",
       "519          0.000021       1571       2145        519  1411.666667  \n",
       "1968         0.000011       2463        796       1968  1742.333333  \n",
       "\n",
       "[2482 rows x 25 columns]"
      ]
     },
     "execution_count": 47,
     "metadata": {},
     "output_type": "execute_result"
    }
   ],
   "source": [
    "import pandas as pd\n",
    "\n",
    "# Load the original dataframe\n",
    "df = df_r.copy()  # Ensure you are not modifying the original data\n",
    "\n",
    "# List of ranking files\n",
    "ranking_files = [\n",
    "    \"./output/rankings/Prog_reporting_rankings_tfidf_1.csv\",\n",
    "    \"./output/rankings/Prog_reporting_rankings_tfidf_2.csv\",\n",
    "    \"./output/rankings/Prog_reporting_rankings_tfidf_3.csv\"\n",
    "]\n",
    "\n",
    "# Process each ranking file and merge rankings into separate columns\n",
    "for i, file in enumerate(ranking_files, start=1):\n",
    "    ranking_df = pd.read_csv(file)\n",
    "    \n",
    "    # Merge the ranking data with df based on Final_Index\n",
    "    df = df.merge(ranking_df[['Final_Index', 'Original_Index']], \n",
    "                  left_index=True, right_on='Final_Index', \n",
    "                  how='left')\n",
    "\n",
    "    # Rename the ranking column for clarity\n",
    "    df.rename(columns={'Original_Index': f'Ranking_{i}'}, inplace=True)\n",
    "\n",
    "    # Drop 'Final_Index' column after merge to keep the DataFrame clean\n",
    "    df.drop(columns=['Final_Index'], inplace=True)\n",
    "\n",
    "# Calculate the average ranking across Ranking_1, Ranking_2, and Ranking_3\n",
    "df['Ranking_Avg'] = df[['Ranking_1', 'Ranking_2', 'Ranking_3']].mean(axis=1)\n",
    "df"
   ]
  },
  {
   "cell_type": "code",
   "execution_count": 49,
   "id": "41427e19-d6f4-441d-97b4-f6531d7e1644",
   "metadata": {},
   "outputs": [
    {
     "data": {
      "image/png": "[encoded data removed]",
      "text/plain": [
       "<Figure size 800x500 with 1 Axes>"
      ]
     },
     "metadata": {},
     "output_type": "display_data"
    }
   ],
   "source": [
    "import matplotlib.pyplot as plt\n",
    "\n",
    "df = df[df['label_included'] == 1].copy()\n",
    "\n",
    "# Choose a variable for the y-axis (replace 'Some_Column' with your actual column name)\n",
    "y_variable = 'word_count'  \n",
    "\n",
    "# Create the scatter plot\n",
    "plt.figure(figsize=(8, 5))\n",
    "plt.scatter(df['Ranking_Avg'], df[y_variable], alpha=0.7)\n",
    "\n",
    "# Add labels and title\n",
    "plt.xlabel(\"Ranking_Avg\")\n",
    "plt.ylabel(y_variable)\n",
    "plt.title(f\"Scatter plot of {y_variable} vs. Ranking_Avg\")\n",
    "\n",
    "# Show the plot\n",
    "plt.show()\n"
   ]
  },
  {
   "cell_type": "markdown",
   "id": "f13ff300-9a3f-40d0-bca5-3d490d88915a",
   "metadata": {},
   "source": [
    "#### **Part II: Applying stopping methods**"
   ]
  },
  {
   "cell_type": "markdown",
   "id": "f2c9d7eb-f5e9-4e83-b977-a4abb81667cd",
   "metadata": {},
   "source": [
    "Stopping after encountering x consecutive irrelevant records"
   ]
  },
  {
   "cell_type": "code",
   "execution_count": null,
   "id": "c15f0c4f-b08e-480a-ab89-869772a03d64",
   "metadata": {},
   "outputs": [],
   "source": [
    "import pandas as pd\n",
    "\n",
    "class StoppingAfterConsecutiveIrrelevant:\n",
    "    def __init__(self):\n",
    "        \"\"\"\n",
    "        Initializes the termination condition. Does not require `hyperparameter `\n",
    "        during initialization.\n",
    "        \"\"\"\n",
    "        self.hyperparameter = None\n",
    "\n",
    "    def set_hyperparameter (self, hyperparameter ):\n",
    "        \"\"\"\n",
    "        Sets the hyperparameter after object initialization.\n",
    "\n",
    "        :param hyperparameter : The number of consecutive observations with label 0 \n",
    "                                  that will trigger early termination.\n",
    "        \"\"\"\n",
    "        self.hyperparameter  = hyperparameter \n",
    "\n",
    "    def __hash__(self):\n",
    "        return hash('StoppingAfterConsecutiveIrrelevant')  \n",
    "\n",
    "    def __eq__(self, other):\n",
    "        return isinstance(other, StoppingAfterConsecutiveIrrelevant)\n",
    "\n",
    "    def evaluate_ranking(self, rankings_df):\n",
    "        \"\"\"\n",
    "        Evaluates when the stopping condition is met and computes recall based on rankings.\n",
    "        \n",
    "        :param rankings_df: A pandas DataFrame containing the columns:\n",
    "                            'Original_Index', 'Original_Label', 'Final_Index', 'Final_Label'\n",
    "        :return: A dictionary containing termination point, TP, FP, FN, TN, and recall.\n",
    "        \"\"\"\n",
    "        if self.hyperparameter  is None:\n",
    "            raise ValueError(\"hyperparameter must be set before evaluating rankings\")\n",
    "\n",
    "        consecutive_zeros = 0\n",
    "        termination_point = None\n",
    "\n",
    "        # Iterate through the Final_Label column to find the termination point\n",
    "        for i, label in enumerate(rankings_df['Final_Label']):\n",
    "            if label == 0:\n",
    "                consecutive_zeros += 1\n",
    "            else:\n",
    "                consecutive_zeros = 0  \n",
    "            \n",
    "            if consecutive_zeros == self.hyperparameter :\n",
    "                termination_point = i + 1 \n",
    "                break\n",
    "\n",
    "        # If the condition is never met, recall should be 1\n",
    "        if termination_point is None:\n",
    "            TP = rankings_df['Final_Label'].sum()  \n",
    "            TN = (rankings_df['Final_Label'] == 0).sum() \n",
    "            termination_target = len(list(rankings_df['Final_Label'])) - 1 - list(rankings_df['Final_Label'])[::-1].index(1)\n",
    "            return {\n",
    "                \"Termination_Point\": len(rankings_df),\n",
    "                \"Termination_Target\": termination_target,\n",
    "                \"TP\": TP,\n",
    "                \"FP\": 0,\n",
    "                \"FN\": 0,\n",
    "                \"TN\": TN,\n",
    "                \"Recall\": 1.0\n",
    "            }\n",
    "        else:\n",
    "            # Compute TP, FP, FN, and TN based on termination point\n",
    "            TP = rankings_df['Final_Label'][:termination_point].sum()\n",
    "            FP = (rankings_df['Final_Label'][:termination_point] == 0).sum()\n",
    "            FN = rankings_df['Final_Label'][termination_point:].sum()\n",
    "            TN = (rankings_df['Final_Label'][termination_point:] == 0).sum()\n",
    "    \n",
    "            # Compute recall\n",
    "            recall = TP / (TP + FN) if (TP + FN) > 0 else 0\n",
    "    \n",
    "            # Retrieve the ideal termination point\n",
    "            termination_target = len(list(rankings_df['Final_Label'])) - 1 - list(rankings_df['Final_Label'])[::-1].index(1)\n",
    "            \n",
    "            return {\n",
    "                \"Termination_Point\": termination_point,\n",
    "                \"Termination_Target\": termination_target,\n",
    "                \"TP\": TP,\n",
    "                \"FP\": FP,\n",
    "                \"FN\": FN,\n",
    "                \"TN\": TN,\n",
    "                \"Recall\": recall,\n",
    "                \"Ranking_df\": rankings_df\n",
    "            }\n",
    "\n",
    "# Example\n",
    "if __name__ == \"__main__\":\n",
    "    rankings_df = pd.read_csv('../../output/rankings/Int_CD005139_rankings_1.csv') \n",
    "    evaluator = StoppingAfterConsecutiveIrrelevant()  \n",
    "    evaluator.set_hyperparameter(50) \n",
    "    result = evaluator.evaluate_ranking(rankings_df)\n",
    "\n",
    "    print(result)"
   ]
  },
  {
   "cell_type": "markdown",
   "id": "b02845f7-fab9-4ef2-b626-713a37d2dc6d",
   "metadata": {},
   "source": [
    "Stopping after having screened a percentage of x records"
   ]
  },
  {
   "cell_type": "code",
   "execution_count": null,
   "id": "2cc43b58-0631-4b95-8a82-7c8525ea4098",
   "metadata": {},
   "outputs": [],
   "source": [
    "import pandas as pd\n",
    "\n",
    "class StoppingAfterPercentage:\n",
    "    def __init__(self):\n",
    "        \"\"\"\n",
    "        Initializes the termination condition based on percentage.\n",
    "        Does not require `hyperparameter` during initialization.\n",
    "        \"\"\"\n",
    "        self.hyperparameter = None \n",
    "        self.termination_point = None\n",
    "\n",
    "    def set_hyperparameter(self, hyperparameter):\n",
    "        \"\"\"\n",
    "        Sets the hyperparameter after object initialization.\n",
    "\n",
    "        :param hyperparameter: The percentage of the total rows to process before terminating.\n",
    "        \"\"\"\n",
    "        self.hyperparameter = hyperparameter\n",
    "\n",
    "    def __hash__(self):\n",
    "        return hash('StoppingAfterPercentage')\n",
    "\n",
    "    def __eq__(self, other):\n",
    "        return isinstance(other, StoppingAfterPercentage)\n",
    "        \n",
    "    def evaluate_ranking(self, rankings_df):\n",
    "        \"\"\"\n",
    "        Evaluates the rankings and calculates the termination point based on hyperparameter.\n",
    "        \n",
    "        :param rankings_df: DataFrame containing 'Original_Index', 'Original_Label', 'Final_Index', 'Final_Label'.\n",
    "        :return: Dictionary with the evaluation metrics, or None if termination condition is not met.\n",
    "        \"\"\"\n",
    "        if self.hyperparameter is None:\n",
    "            raise ValueError(\"hyperparameter must be set before evaluating rankings\")\n",
    "\n",
    "        total_rows = len(rankings_df)\n",
    "        rows_to_process = int(self.hyperparameter * total_rows / 100)\n",
    "        self.termination_point = rows_to_process\n",
    "\n",
    "        return self.calculate_metrics(rankings_df)\n",
    "    \n",
    "    def calculate_metrics(self, rankings_df, all_processed=False):\n",
    "        \"\"\"\n",
    "        Calculate TP, FP, FN, TN and recall based on the termination point.\n",
    "        \n",
    "        :param rankings_df: DataFrame containing the ranking results.\n",
    "        :param all_processed: Flag to indicate if we are considering all data without termination.\n",
    "        :return: Dictionary with the evaluation metrics.\n",
    "        \"\"\"\n",
    "\n",
    "        if not all_processed:\n",
    "            termination_point = self.termination_point\n",
    "            TP = rankings_df['Final_Label'][:termination_point].sum()\n",
    "            FP = (rankings_df['Final_Label'][:termination_point] == 0).sum()\n",
    "            FN = rankings_df['Final_Label'][termination_point:].sum()\n",
    "            TN = (rankings_df['Final_Label'][termination_point:] == 0).sum()\n",
    "\n",
    "        recall = TP / (TP + FN) if TP + FN > 0 else 0\n",
    "\n",
    "        # Retrieve the ideal termination point\n",
    "        termination_target = len(list(rankings_df['Final_Label'])) - 1 - list(rankings_df['Final_Label'])[::-1].index(1)\n",
    "\n",
    "        return {\n",
    "            \"Termination_Point\": self.termination_point,\n",
    "            \"Termination_Target\": termination_target,\n",
    "            \"TP\": TP,\n",
    "            \"FP\": FP,\n",
    "            \"FN\": FN,\n",
    "            \"TN\": TN,\n",
    "            \"Recall\": recall,\n",
    "            \"Ranking_df\": rankings_df\n",
    "        }\n",
    "\n",
    "# Example        \n",
    "if __name__ == \"__main__\":\n",
    "    rankings_df = pd.read_csv('../../output/rankings/Int_CD005139_rankings_1.csv') \n",
    "    evaluator = StoppingAfterPercentage() \n",
    "    evaluator.set_hyperparameter(80)\n",
    "    result = evaluator.evaluate_ranking(rankings_df)\n",
    "\n",
    "    print(result)"
   ]
  },
  {
   "cell_type": "markdown",
   "id": "c32b7b36-02d0-4c09-8d50-6863390ed08e",
   "metadata": {},
   "source": [
    "Choose the stopping methods and set the hyperparameter values. Loop over all combinations for all datasets"
   ]
  },
  {
   "cell_type": "code",
   "execution_count": null,
   "id": "08f63bbb-4446-478e-b4a9-a606835a28cc",
   "metadata": {},
   "outputs": [],
   "source": [
    "import os\n",
    "data_path = \"../../output/rankings/\"\n",
    "\n",
    "methods_dict = {\n",
    "    StoppingAfterPercentage(): [10, 20, 30],\n",
    "    StoppingAfterConsecutiveIrrelevant(): [25, 50, 100, 200, 400, 800, 1600]\n",
    "}\n",
    "\n",
    "all_results = {}\n",
    "for key,values in methods_dict.items():\n",
    "    method = key.__class__.__name__  \n",
    "    all_results[method] = {}\n",
    "    \n",
    "    for filename in os.listdir(data_path):\n",
    "        if filename.endswith('.csv'):\n",
    "            file_path = os.path.join(data_path, filename)               \n",
    "            rankings_df = pd.read_csv(file_path)  \n",
    "            df_name = str(os.path.splitext(filename)[0])\n",
    "            all_results[method][df_name] = {} \n",
    " \n",
    "            for hyperparameter in values:\n",
    "                hyperparameter = int(hyperparameter)\n",
    "                evaluator = key\n",
    "                evaluator.set_hyperparameter(hyperparameter) \n",
    "                result = evaluator.evaluate_ranking(rankings_df)\n",
    "                all_results[method][df_name][hyperparameter]=result\n",
    "                \n",
    "#print(all_results)"
   ]
  },
  {
   "cell_type": "markdown",
   "id": "9036771d-db5d-43be-b88f-5f24c48e42a5",
   "metadata": {},
   "source": [
    "#### **Part III: Evaluation**"
   ]
  },
  {
   "cell_type": "markdown",
   "id": "7895ea49-f7d7-4a32-a833-3c5b0c9260fe",
   "metadata": {},
   "source": [
    "Convert the results into tabular format for further evaluation and presenting of the results"
   ]
  },
  {
   "cell_type": "code",
   "execution_count": null,
   "id": "77e21d51-8dc1-4e92-a5d5-a1af7c3796c4",
   "metadata": {},
   "outputs": [],
   "source": [
    "import pandas as pd\n",
    "import numpy as np\n",
    "from scipy import stats\n",
    "\n",
    "# Construct DataFrame from nested dictionary\n",
    "table_rows = [\n",
    "    {\n",
    "        'Method': method,\n",
    "        'Dataset': '_'.join(dataset.split('_')[:-1]),\n",
    "        'Rankings': dataset,\n",
    "        'Seed': dataset.split('_')[-1],\n",
    "        'Hyperparameter': hyperparam,\n",
    "        'Termination_Point': metrics.get('Termination_Point'),\n",
    "        'Termination_Target': metrics.get('Termination_Target'),\n",
    "        'TP': metrics.get('TP'),\n",
    "        'FP': metrics.get('FP'),\n",
    "        'FN': metrics.get('FN'),\n",
    "        'TN': metrics.get('TN'),\n",
    "        'Recall': metrics.get('Recall'),\n",
    "        'Ranking_df': metrics.get('Ranking_df')\n",
    "    }\n",
    "    for method, datasets in all_results.items()\n",
    "    for dataset, hyperparameters in datasets.items()\n",
    "    for hyperparam, metrics in hyperparameters.items()\n",
    "]\n",
    "\n",
    "raw_results = pd.DataFrame(table_rows)\n",
    "raw_results[['Hyperparameter', 'Seed']] = raw_results[['Hyperparameter', 'Seed']].apply(pd.to_numeric, errors='coerce')\n",
    "evaluation_results = raw_results.sort_values(by=['Method', 'Hyperparameter', 'Dataset', 'Seed'])"
   ]
  },
  {
   "cell_type": "markdown",
   "id": "41ab4702-4c10-4d49-955a-8fee09f3d3e2",
   "metadata": {},
   "source": [
    "Visualize per dataset and stopping method the target recall and achieved recall per hyperparameter"
   ]
  },
  {
   "cell_type": "code",
   "execution_count": null,
   "id": "766f05a4-cea2-4f41-90d9-1fb43d9fac03",
   "metadata": {},
   "outputs": [],
   "source": [
    "import pandas as pd\n",
    "import numpy as np\n",
    "import matplotlib.pyplot as plt\n",
    "from matplotlib.backends.backend_pdf import PdfPages\n",
    "\n",
    "# Create a PDF file to store all plots\n",
    "with PdfPages(\"../../results/figures/results_plots.pdf\") as pdf:\n",
    "    for method, datasets in all_results.items():\n",
    "        method_name = method\n",
    "        \n",
    "        for ranking, results in all_results[method].items():\n",
    "            rankings_name = ranking\n",
    "\n",
    "            method_and_dataset = evaluation_results[\n",
    "                (evaluation_results['Method'] == method_name) & \n",
    "                (evaluation_results['Rankings'] == rankings_name)\n",
    "            ]\n",
    "            termination_limits = list(method_and_dataset['Termination_Point'])\n",
    "            termination_target = list(method_and_dataset['Termination_Target'])[0]\n",
    "            hyperparameters = list(method_and_dataset['Hyperparameter'])\n",
    "            dataset_name = list(method_and_dataset['Dataset'])[0]  \n",
    "            labels = method_and_dataset['Ranking_df'].iloc[0]['Final_Label']\n",
    "             \n",
    "            labels_series = pd.Series(labels)\n",
    "            total_ones = labels_series.sum()\n",
    "            cumulative_sum = labels_series.cumsum()\n",
    "            proportion_ones = cumulative_sum / total_ones\n",
    "            \n",
    "            fig, ax = plt.subplots(figsize=(10, 7))  \n",
    "            ax.plot(np.arange(1, len(labels) + 1), proportion_ones, color='blue')\n",
    "            ax.set_xlabel(\"Number of records screened\")\n",
    "            ax.set_ylabel(\"Recall\")\n",
    "            \n",
    "            for i in range(len(termination_limits)):\n",
    "                stopping_point = termination_limits[i] - 1  # Adjust for zero-based indexing\n",
    "                hyperparameter = hyperparameters[i]\n",
    "                ax.axvline(x=stopping_point, color='r', linestyle='--')\n",
    "                target_met = round(proportion_ones[stopping_point] - 0.95, 2)\n",
    "                ax.text(stopping_point, 1.07, str(target_met), fontsize=5, ha='center')\n",
    "                ax.text(stopping_point, 1.1, str(hyperparameter), fontsize=6, ha='center')\n",
    "                \n",
    "            ax.axvline(termination_target, color='g', linestyle='-')\n",
    "            ax.grid(True)\n",
    "            \n",
    "            # Set the plot title and move it below the plot\n",
    "            title = f\"{method_name} | {rankings_name}\"\n",
    "            ax.set_title(title, fontsize=8, pad=25)  \n",
    "            fig.subplots_adjust(bottom=0.2)  \n",
    "\n",
    "            # Save the current figure to the PDF\n",
    "            pdf.savefig(fig)\n",
    "            plt.show(fig)\n",
    "            plt.close(fig)\n",
    "\n",
    "print(\"All plots saved to results_plots.pdf\")\n"
   ]
  },
  {
   "cell_type": "markdown",
   "id": "f92ba6ef-0f0f-4b51-98b9-86e5ec4fab2b",
   "metadata": {},
   "source": [
    "#### **Part IV: Aggregation and conclusion**"
   ]
  },
  {
   "cell_type": "markdown",
   "id": "495ee4d4-c048-4f73-9843-24b6045e4125",
   "metadata": {},
   "source": [
    "Visualize for each stopping method the achieved recalls per dataset, with the colors corresponding to the hyperparameters that was used for the simulation. This enables users to see: (1) which stopping methods generally reach the target recall, (2) which hyperparameters for an individual stopping method generally reach the target recall, (3) the variation of hyperparameter performance (i.e. spread of the data points with the same color), and (4) the worst case scenario (i.e. the lowest dot for a given stopping method/hyperparameter). "
   ]
  },
  {
   "cell_type": "code",
   "execution_count": null,
   "id": "c4a7db3a-9b60-468f-aa69-a2fcb5d6c997",
   "metadata": {},
   "outputs": [],
   "source": [
    "with PdfPages(\"../../results/figures/plots_individual_methods.pdf\") as pdf:\n",
    "    plt.figure(figsize=(10, 6))\n",
    "    g = sns.FacetGrid(evaluation_results, col='Method', height=5, aspect=1)\n",
    "    g.map(sns.stripplot, 'Dataset', 'Recall', jitter=True)\n",
    "    g.map_dataframe(sns.stripplot, x='Dataset', y='Recall', hue='Hyperparameter', jitter=True, palette='tab10')\n",
    "    g.map(lambda **kwargs: plt.axhline(0.95, color='black', linestyle='--'))\n",
    "    g.set_xticklabels(rotation=90)\n",
    "    g.set_axis_labels('Dataset', 'Recall')\n",
    "    g.set_titles(\"{col_name}\")\n",
    "\n",
    "\n",
    "    for ax in g.axes.flat:\n",
    "        handles, labels = ax.get_legend_handles_labels()\n",
    "        ax.legend(handles, labels, title='Hyperparameter', bbox_to_anchor=(1.05, 1), loc='upper left')\n",
    "\n",
    "    plt.tight_layout()\n",
    "\n",
    "    pdf.savefig(g.fig)\n",
    "    plt.show(g.fig)\n",
    "    plt.close(g.fig)\n",
    "\n",
    "print(\"All plots saved to plot_individual_methods.pdf\")"
   ]
  },
  {
   "cell_type": "code",
   "execution_count": null,
   "id": "05731d30-e1c1-4710-8f99-fe646ba124e9",
   "metadata": {},
   "outputs": [],
   "source": [
    "# Function to compute overshooting, undershooting, and recall statistics\n",
    "def calculate_overshooting_undershooting(recalls, target):\n",
    "    overshooting = recalls[recalls > target] - target  \n",
    "    undershooting = target - recalls[recalls < target]  \n",
    "    exact_match = recalls[recalls == target]  \n",
    "    \n",
    "    return pd.Series({\n",
    "        'count_undershooting': undershooting.count(),\n",
    "        'count_exact': exact_match.count(),\n",
    "        'count_overshooting': overshooting.count(),\n",
    "        'avg_undershooting': -undershooting.mean() if not undershooting.empty else 0,\n",
    "        'std_undershooting': undershooting.std() if not undershooting.empty else 0,\n",
    "        'avg_overshooting': overshooting.mean() if not overshooting.empty else 0,\n",
    "        'std_overshooting': overshooting.std() if not overshooting.empty else 0,\n",
    "        'mean_recalls': recalls.mean(),\n",
    "        'confidence_interval_lower': stats.norm.interval(0.95, loc=recalls.mean(), scale=recalls.std()/np.sqrt(len(recalls)))[0],\n",
    "        'confidence_interval_upper': stats.norm.interval(0.95, loc=recalls.mean(), scale=recalls.std()/np.sqrt(len(recalls)))[1]\n",
    "    })\n",
    "\n",
    "# Compute overshooting/undershooting statistics\n",
    "target_value = 0.95\n",
    "result_df = (\n",
    "    evaluation_results.groupby(['Dataset', 'Method', 'Hyperparameter'])['Recall']\n",
    "    .apply(lambda x: calculate_overshooting_undershooting(x, target_value))\n",
    "    .reset_index()\n",
    ")\n",
    "\n",
    "# Pivot results\n",
    "pivot_result = result_df.pivot(index=['Dataset', 'Method', 'Hyperparameter'], columns='level_3')\n",
    "pivot_result.columns = pivot_result.columns.droplevel(0)\n",
    "pivot_result.reset_index(inplace=True)\n",
    "\n",
    "# Find lowest positive avg_overshooting per (Dataset, Method)\n",
    "filtered_df = pivot_result[pivot_result['avg_overshooting'] > 0]\n",
    "min_overshooting_df = filtered_df.loc[filtered_df.groupby(['Dataset', 'Method'])['avg_overshooting'].idxmin()]\n",
    "\n",
    "# Get most frequent Hyperparameter for each Method (handling ties)\n",
    "selected_hyperparameters = (\n",
    "    min_overshooting_df.groupby('Method')['Hyperparameter']\n",
    "    .agg(lambda x: ', '.join(map(str, x.mode())))\n",
    "    .reset_index()\n",
    ")\n",
    "\n",
    "selected_hyperparameters.to_csv(\"../../results/tables/selected_hyperparameters.csv\", index=False)\n",
    "\n",
    "selected_hyperparameters"
   ]
  }
 ],
 "metadata": {
  "kernelspec": {
   "display_name": "Python 3 (ipykernel)",
   "language": "python",
   "name": "python3"
  },
  "language_info": {
   "codemirror_mode": {
    "name": "ipython",
    "version": 3
   },
   "file_extension": ".py",
   "mimetype": "text/x-python",
   "name": "python",
   "nbconvert_exporter": "python",
   "pygments_lexer": "ipython3",
   "version": "3.12.2"
  }
 },
 "nbformat": 4,
 "nbformat_minor": 5
}
