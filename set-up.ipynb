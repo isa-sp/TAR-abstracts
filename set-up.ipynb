{
 "cells": [
  {
   "cell_type": "markdown",
   "id": "ed9154e6-8f98-481b-973a-e6007662c986",
   "metadata": {},
   "source": [
    "# **Association between Abstract Characteristics and Ranking Position in Technology-Assisted Reviewing (TAR): coding set-up**\n",
    "\n",
    "### **by Isa Spiero <br>**\n",
    "\n",
    "#### **Part I: Data**\n",
    "\n",
    "#### **Part II: Ranking** \n",
    "\n",
    "#### **Part III: Evaluation**\n",
    "------------------------------------------------------------------------------------------------------------------------------------------"
   ]
  },
  {
   "cell_type": "code",
   "execution_count": 3,
   "id": "4e0880c0-d93e-4df1-a831-302471432a97",
   "metadata": {},
   "outputs": [],
   "source": [
    "import pandas as pd\n",
    "import matplotlib.pyplot as plt"
   ]
  },
  {
   "cell_type": "markdown",
   "id": "627598d2-0479-4e03-89ba-2456436aec7d",
   "metadata": {},
   "source": [
    "#### **Part I: Dataprocessing**\n",
    "Load the data that were preprocessed with the data_preprocessing.ipynb notebook:"
   ]
  },
  {
   "cell_type": "code",
   "execution_count": 6,
   "id": "5b68d9f6-2638-47a1-bedc-14678e843ff8",
   "metadata": {},
   "outputs": [],
   "source": [
    "df1 = pd.read_csv(\"./data/processed/Prog_reporting.csv\")\n",
    "#df2 = pd.read_csv(\"./data/processed/Prog_tripod.csv\")"
   ]
  },
  {
   "cell_type": "markdown",
   "id": "12f394c8-fbd3-422e-9c96-b907041d75c1",
   "metadata": {},
   "source": [
    "#### **Part II: Ranking**"
   ]
  },
  {
   "cell_type": "code",
   "execution_count": 131,
   "id": "f5c80cee-456d-4941-be96-acb68ba5c5d7",
   "metadata": {},
   "outputs": [
    {
     "name": "stderr",
     "output_type": "stream",
     "text": [
      "Screening progress:   0%|                                            | 0/247 [00:00<?, ?iteration/s]"
     ]
    },
    {
     "name": "stdout",
     "output_type": "stream",
     "text": [
      "Feature Extractor Type: <class 'sklearn.feature_extraction.text.TfidfVectorizer'>\n",
      "Using TfidfVectorizer\n"
     ]
    },
    {
     "name": "stderr",
     "output_type": "stream",
     "text": [
      "Screening progress:   1%|▎                                   | 2/247 [00:00<00:53,  4.59iteration/s]"
     ]
    },
    {
     "name": "stdout",
     "output_type": "stream",
     "text": [
      "Feature Extractor Type: <class 'sklearn.feature_extraction.text.TfidfVectorizer'>\n",
      "Using TfidfVectorizer\n",
      "Feature Extractor Type: <class 'sklearn.feature_extraction.text.TfidfVectorizer'>\n",
      "Using TfidfVectorizer\n"
     ]
    },
    {
     "name": "stderr",
     "output_type": "stream",
     "text": [
      "Screening progress:   2%|▌                                   | 4/247 [00:00<00:51,  4.72iteration/s]"
     ]
    },
    {
     "name": "stdout",
     "output_type": "stream",
     "text": [
      "Feature Extractor Type: <class 'sklearn.feature_extraction.text.TfidfVectorizer'>\n",
      "Using TfidfVectorizer\n",
      "Feature Extractor Type: <class 'sklearn.feature_extraction.text.TfidfVectorizer'>\n",
      "Using TfidfVectorizer\n"
     ]
    },
    {
     "name": "stderr",
     "output_type": "stream",
     "text": [
      "Screening progress:   2%|▊                                   | 6/247 [00:01<00:49,  4.82iteration/s]"
     ]
    },
    {
     "name": "stdout",
     "output_type": "stream",
     "text": [
      "Feature Extractor Type: <class 'sklearn.feature_extraction.text.TfidfVectorizer'>\n",
      "Using TfidfVectorizer\n",
      "Feature Extractor Type: <class 'sklearn.feature_extraction.text.TfidfVectorizer'>\n",
      "Using TfidfVectorizer\n"
     ]
    },
    {
     "name": "stderr",
     "output_type": "stream",
     "text": [
      "Screening progress:   3%|█                                   | 7/247 [00:01<00:50,  4.78iteration/s]"
     ]
    },
    {
     "name": "stdout",
     "output_type": "stream",
     "text": [
      "Feature Extractor Type: <class 'sklearn.feature_extraction.text.TfidfVectorizer'>\n",
      "Using TfidfVectorizer\n"
     ]
    },
    {
     "name": "stderr",
     "output_type": "stream",
     "text": [
      "Screening progress:   3%|█▏                                  | 8/247 [00:01<00:50,  4.75iteration/s]"
     ]
    },
    {
     "name": "stdout",
     "output_type": "stream",
     "text": [
      "Feature Extractor Type: <class 'sklearn.feature_extraction.text.TfidfVectorizer'>\n",
      "Using TfidfVectorizer\n"
     ]
    },
    {
     "name": "stderr",
     "output_type": "stream",
     "text": [
      "Screening progress:   4%|█▍                                 | 10/247 [00:02<00:50,  4.67iteration/s]"
     ]
    },
    {
     "name": "stdout",
     "output_type": "stream",
     "text": [
      "Feature Extractor Type: <class 'sklearn.feature_extraction.text.TfidfVectorizer'>\n",
      "Using TfidfVectorizer\n",
      "Feature Extractor Type: <class 'sklearn.feature_extraction.text.TfidfVectorizer'>\n",
      "Using TfidfVectorizer\n"
     ]
    },
    {
     "name": "stderr",
     "output_type": "stream",
     "text": [
      "Screening progress:   4%|█▌                                 | 11/247 [00:02<00:50,  4.68iteration/s]"
     ]
    },
    {
     "name": "stdout",
     "output_type": "stream",
     "text": [
      "Feature Extractor Type: <class 'sklearn.feature_extraction.text.TfidfVectorizer'>\n",
      "Using TfidfVectorizer\n"
     ]
    },
    {
     "name": "stderr",
     "output_type": "stream",
     "text": [
      "Screening progress:   5%|█▊                                 | 13/247 [00:02<00:49,  4.71iteration/s]"
     ]
    },
    {
     "name": "stdout",
     "output_type": "stream",
     "text": [
      "Feature Extractor Type: <class 'sklearn.feature_extraction.text.TfidfVectorizer'>\n",
      "Using TfidfVectorizer\n",
      "Feature Extractor Type: <class 'sklearn.feature_extraction.text.TfidfVectorizer'>\n",
      "Using TfidfVectorizer\n"
     ]
    },
    {
     "name": "stderr",
     "output_type": "stream",
     "text": [
      "Screening progress:   6%|██▏                                | 15/247 [00:03<00:49,  4.73iteration/s]"
     ]
    },
    {
     "name": "stdout",
     "output_type": "stream",
     "text": [
      "Feature Extractor Type: <class 'sklearn.feature_extraction.text.TfidfVectorizer'>\n",
      "Using TfidfVectorizer\n",
      "Feature Extractor Type: <class 'sklearn.feature_extraction.text.TfidfVectorizer'>\n",
      "Using TfidfVectorizer\n"
     ]
    },
    {
     "name": "stderr",
     "output_type": "stream",
     "text": [
      "Screening progress:   7%|██▍                                | 17/247 [00:03<00:48,  4.70iteration/s]"
     ]
    },
    {
     "name": "stdout",
     "output_type": "stream",
     "text": [
      "Feature Extractor Type: <class 'sklearn.feature_extraction.text.TfidfVectorizer'>\n",
      "Using TfidfVectorizer\n",
      "Feature Extractor Type: <class 'sklearn.feature_extraction.text.TfidfVectorizer'>\n",
      "Using TfidfVectorizer\n"
     ]
    },
    {
     "name": "stderr",
     "output_type": "stream",
     "text": [
      "Screening progress:   8%|██▋                                | 19/247 [00:04<00:48,  4.73iteration/s]"
     ]
    },
    {
     "name": "stdout",
     "output_type": "stream",
     "text": [
      "Feature Extractor Type: <class 'sklearn.feature_extraction.text.TfidfVectorizer'>\n",
      "Using TfidfVectorizer\n",
      "Feature Extractor Type: <class 'sklearn.feature_extraction.text.TfidfVectorizer'>\n",
      "Using TfidfVectorizer\n"
     ]
    },
    {
     "name": "stderr",
     "output_type": "stream",
     "text": [
      "Screening progress:   9%|██▉                                | 21/247 [00:04<00:48,  4.71iteration/s]"
     ]
    },
    {
     "name": "stdout",
     "output_type": "stream",
     "text": [
      "Feature Extractor Type: <class 'sklearn.feature_extraction.text.TfidfVectorizer'>\n",
      "Using TfidfVectorizer\n",
      "Feature Extractor Type: <class 'sklearn.feature_extraction.text.TfidfVectorizer'>\n",
      "Using TfidfVectorizer\n"
     ]
    },
    {
     "name": "stderr",
     "output_type": "stream",
     "text": [
      "Screening progress:   9%|███▎                               | 23/247 [00:04<00:47,  4.68iteration/s]"
     ]
    },
    {
     "name": "stdout",
     "output_type": "stream",
     "text": [
      "Feature Extractor Type: <class 'sklearn.feature_extraction.text.TfidfVectorizer'>\n",
      "Using TfidfVectorizer\n",
      "Feature Extractor Type: <class 'sklearn.feature_extraction.text.TfidfVectorizer'>\n",
      "Using TfidfVectorizer\n"
     ]
    },
    {
     "name": "stderr",
     "output_type": "stream",
     "text": [
      "Screening progress:  10%|███▌                               | 25/247 [00:05<00:47,  4.68iteration/s]"
     ]
    },
    {
     "name": "stdout",
     "output_type": "stream",
     "text": [
      "Feature Extractor Type: <class 'sklearn.feature_extraction.text.TfidfVectorizer'>\n",
      "Using TfidfVectorizer\n",
      "Feature Extractor Type: <class 'sklearn.feature_extraction.text.TfidfVectorizer'>\n",
      "Using TfidfVectorizer\n"
     ]
    },
    {
     "name": "stderr",
     "output_type": "stream",
     "text": [
      "Screening progress:  11%|███▊                               | 27/247 [00:05<00:46,  4.73iteration/s]"
     ]
    },
    {
     "name": "stdout",
     "output_type": "stream",
     "text": [
      "Feature Extractor Type: <class 'sklearn.feature_extraction.text.TfidfVectorizer'>\n",
      "Using TfidfVectorizer\n",
      "Feature Extractor Type: <class 'sklearn.feature_extraction.text.TfidfVectorizer'>\n",
      "Using TfidfVectorizer\n"
     ]
    },
    {
     "name": "stderr",
     "output_type": "stream",
     "text": [
      "Screening progress:  12%|████                               | 29/247 [00:06<00:46,  4.67iteration/s]"
     ]
    },
    {
     "name": "stdout",
     "output_type": "stream",
     "text": [
      "Feature Extractor Type: <class 'sklearn.feature_extraction.text.TfidfVectorizer'>\n",
      "Using TfidfVectorizer\n",
      "Feature Extractor Type: <class 'sklearn.feature_extraction.text.TfidfVectorizer'>\n",
      "Using TfidfVectorizer\n"
     ]
    },
    {
     "name": "stderr",
     "output_type": "stream",
     "text": [
      "Screening progress:  13%|████▍                              | 31/247 [00:06<00:45,  4.74iteration/s]"
     ]
    },
    {
     "name": "stdout",
     "output_type": "stream",
     "text": [
      "Feature Extractor Type: <class 'sklearn.feature_extraction.text.TfidfVectorizer'>\n",
      "Using TfidfVectorizer\n",
      "Feature Extractor Type: <class 'sklearn.feature_extraction.text.TfidfVectorizer'>\n",
      "Using TfidfVectorizer\n"
     ]
    },
    {
     "name": "stderr",
     "output_type": "stream",
     "text": [
      "Screening progress:  13%|████▋                              | 33/247 [00:07<00:45,  4.75iteration/s]"
     ]
    },
    {
     "name": "stdout",
     "output_type": "stream",
     "text": [
      "Feature Extractor Type: <class 'sklearn.feature_extraction.text.TfidfVectorizer'>\n",
      "Using TfidfVectorizer\n",
      "Feature Extractor Type: <class 'sklearn.feature_extraction.text.TfidfVectorizer'>\n",
      "Using TfidfVectorizer\n"
     ]
    },
    {
     "name": "stderr",
     "output_type": "stream",
     "text": [
      "Screening progress:  14%|████▉                              | 35/247 [00:07<00:44,  4.75iteration/s]"
     ]
    },
    {
     "name": "stdout",
     "output_type": "stream",
     "text": [
      "Feature Extractor Type: <class 'sklearn.feature_extraction.text.TfidfVectorizer'>\n",
      "Using TfidfVectorizer\n",
      "Feature Extractor Type: <class 'sklearn.feature_extraction.text.TfidfVectorizer'>\n",
      "Using TfidfVectorizer\n"
     ]
    },
    {
     "name": "stderr",
     "output_type": "stream",
     "text": [
      "Screening progress:  15%|█████▏                             | 37/247 [00:07<00:43,  4.79iteration/s]"
     ]
    },
    {
     "name": "stdout",
     "output_type": "stream",
     "text": [
      "Feature Extractor Type: <class 'sklearn.feature_extraction.text.TfidfVectorizer'>\n",
      "Using TfidfVectorizer\n",
      "Feature Extractor Type: <class 'sklearn.feature_extraction.text.TfidfVectorizer'>\n",
      "Using TfidfVectorizer\n"
     ]
    },
    {
     "name": "stderr",
     "output_type": "stream",
     "text": [
      "Screening progress:  16%|█████▌                             | 39/247 [00:08<00:43,  4.78iteration/s]"
     ]
    },
    {
     "name": "stdout",
     "output_type": "stream",
     "text": [
      "Feature Extractor Type: <class 'sklearn.feature_extraction.text.TfidfVectorizer'>\n",
      "Using TfidfVectorizer\n",
      "Feature Extractor Type: <class 'sklearn.feature_extraction.text.TfidfVectorizer'>\n",
      "Using TfidfVectorizer\n"
     ]
    },
    {
     "name": "stderr",
     "output_type": "stream",
     "text": [
      "Screening progress:  17%|█████▊                             | 41/247 [00:08<00:43,  4.77iteration/s]"
     ]
    },
    {
     "name": "stdout",
     "output_type": "stream",
     "text": [
      "Feature Extractor Type: <class 'sklearn.feature_extraction.text.TfidfVectorizer'>\n",
      "Using TfidfVectorizer\n"
     ]
    },
    {
     "name": "stderr",
     "output_type": "stream",
     "text": [
      "Screening progress:  17%|█████▉                             | 42/247 [00:08<00:42,  4.77iteration/s]"
     ]
    },
    {
     "name": "stdout",
     "output_type": "stream",
     "text": [
      "Feature Extractor Type: <class 'sklearn.feature_extraction.text.TfidfVectorizer'>\n",
      "Using TfidfVectorizer\n",
      "Feature Extractor Type: <class 'sklearn.feature_extraction.text.TfidfVectorizer'>\n",
      "Using TfidfVectorizer\n"
     ]
    },
    {
     "name": "stderr",
     "output_type": "stream",
     "text": [
      "Screening progress:  18%|██████▏                            | 44/247 [00:09<00:42,  4.78iteration/s]"
     ]
    },
    {
     "name": "stdout",
     "output_type": "stream",
     "text": [
      "Feature Extractor Type: <class 'sklearn.feature_extraction.text.TfidfVectorizer'>\n",
      "Using TfidfVectorizer\n",
      "Feature Extractor Type: <class 'sklearn.feature_extraction.text.TfidfVectorizer'>\n",
      "Using TfidfVectorizer\n"
     ]
    },
    {
     "name": "stderr",
     "output_type": "stream",
     "text": [
      "Screening progress:  19%|██████▌                            | 46/247 [00:09<00:42,  4.78iteration/s]"
     ]
    },
    {
     "name": "stdout",
     "output_type": "stream",
     "text": [
      "Feature Extractor Type: <class 'sklearn.feature_extraction.text.TfidfVectorizer'>\n",
      "Using TfidfVectorizer\n",
      "Feature Extractor Type: <class 'sklearn.feature_extraction.text.TfidfVectorizer'>\n",
      "Using TfidfVectorizer\n"
     ]
    },
    {
     "name": "stderr",
     "output_type": "stream",
     "text": [
      "Screening progress:  19%|██████▊                            | 48/247 [00:10<00:41,  4.80iteration/s]"
     ]
    },
    {
     "name": "stdout",
     "output_type": "stream",
     "text": [
      "Feature Extractor Type: <class 'sklearn.feature_extraction.text.TfidfVectorizer'>\n",
      "Using TfidfVectorizer\n",
      "Feature Extractor Type: <class 'sklearn.feature_extraction.text.TfidfVectorizer'>\n",
      "Using TfidfVectorizer\n"
     ]
    },
    {
     "name": "stderr",
     "output_type": "stream",
     "text": [
      "Screening progress:  20%|██████▉                            | 49/247 [00:10<00:41,  4.80iteration/s]"
     ]
    },
    {
     "name": "stdout",
     "output_type": "stream",
     "text": [
      "Feature Extractor Type: <class 'sklearn.feature_extraction.text.TfidfVectorizer'>\n",
      "Using TfidfVectorizer\n"
     ]
    },
    {
     "name": "stderr",
     "output_type": "stream",
     "text": [
      "Screening progress:  21%|███████▏                           | 51/247 [00:10<00:40,  4.78iteration/s]"
     ]
    },
    {
     "name": "stdout",
     "output_type": "stream",
     "text": [
      "Feature Extractor Type: <class 'sklearn.feature_extraction.text.TfidfVectorizer'>\n",
      "Using TfidfVectorizer\n",
      "Feature Extractor Type: <class 'sklearn.feature_extraction.text.TfidfVectorizer'>\n",
      "Using TfidfVectorizer\n"
     ]
    },
    {
     "name": "stderr",
     "output_type": "stream",
     "text": [
      "Screening progress:  21%|███████▌                           | 53/247 [00:11<00:41,  4.69iteration/s]"
     ]
    },
    {
     "name": "stdout",
     "output_type": "stream",
     "text": [
      "Feature Extractor Type: <class 'sklearn.feature_extraction.text.TfidfVectorizer'>\n",
      "Using TfidfVectorizer\n",
      "Feature Extractor Type: <class 'sklearn.feature_extraction.text.TfidfVectorizer'>\n",
      "Using TfidfVectorizer\n"
     ]
    },
    {
     "name": "stderr",
     "output_type": "stream",
     "text": [
      "Screening progress:  22%|███████▊                           | 55/247 [00:11<00:41,  4.62iteration/s]"
     ]
    },
    {
     "name": "stdout",
     "output_type": "stream",
     "text": [
      "Feature Extractor Type: <class 'sklearn.feature_extraction.text.TfidfVectorizer'>\n",
      "Using TfidfVectorizer\n",
      "Feature Extractor Type: <class 'sklearn.feature_extraction.text.TfidfVectorizer'>\n",
      "Using TfidfVectorizer\n"
     ]
    },
    {
     "name": "stderr",
     "output_type": "stream",
     "text": [
      "Screening progress:  23%|████████                           | 57/247 [00:12<00:40,  4.70iteration/s]"
     ]
    },
    {
     "name": "stdout",
     "output_type": "stream",
     "text": [
      "Feature Extractor Type: <class 'sklearn.feature_extraction.text.TfidfVectorizer'>\n",
      "Using TfidfVectorizer\n",
      "Feature Extractor Type: <class 'sklearn.feature_extraction.text.TfidfVectorizer'>\n",
      "Using TfidfVectorizer\n"
     ]
    },
    {
     "name": "stderr",
     "output_type": "stream",
     "text": [
      "Screening progress:  24%|████████▎                          | 59/247 [00:12<00:39,  4.75iteration/s]"
     ]
    },
    {
     "name": "stdout",
     "output_type": "stream",
     "text": [
      "Feature Extractor Type: <class 'sklearn.feature_extraction.text.TfidfVectorizer'>\n",
      "Using TfidfVectorizer\n",
      "Feature Extractor Type: <class 'sklearn.feature_extraction.text.TfidfVectorizer'>\n",
      "Using TfidfVectorizer\n"
     ]
    },
    {
     "name": "stderr",
     "output_type": "stream",
     "text": [
      "Screening progress:  25%|████████▋                          | 61/247 [00:12<00:38,  4.77iteration/s]"
     ]
    },
    {
     "name": "stdout",
     "output_type": "stream",
     "text": [
      "Feature Extractor Type: <class 'sklearn.feature_extraction.text.TfidfVectorizer'>\n",
      "Using TfidfVectorizer\n",
      "Feature Extractor Type: <class 'sklearn.feature_extraction.text.TfidfVectorizer'>\n",
      "Using TfidfVectorizer\n"
     ]
    },
    {
     "name": "stderr",
     "output_type": "stream",
     "text": [
      "Screening progress:  26%|████████▉                          | 63/247 [00:13<00:38,  4.79iteration/s]"
     ]
    },
    {
     "name": "stdout",
     "output_type": "stream",
     "text": [
      "Feature Extractor Type: <class 'sklearn.feature_extraction.text.TfidfVectorizer'>\n",
      "Using TfidfVectorizer\n",
      "Feature Extractor Type: <class 'sklearn.feature_extraction.text.TfidfVectorizer'>\n",
      "Using TfidfVectorizer\n"
     ]
    },
    {
     "name": "stderr",
     "output_type": "stream",
     "text": [
      "Screening progress:  26%|█████████▏                         | 65/247 [00:13<00:37,  4.79iteration/s]"
     ]
    },
    {
     "name": "stdout",
     "output_type": "stream",
     "text": [
      "Feature Extractor Type: <class 'sklearn.feature_extraction.text.TfidfVectorizer'>\n",
      "Using TfidfVectorizer\n",
      "Feature Extractor Type: <class 'sklearn.feature_extraction.text.TfidfVectorizer'>\n",
      "Using TfidfVectorizer\n"
     ]
    },
    {
     "name": "stderr",
     "output_type": "stream",
     "text": [
      "Screening progress:  27%|█████████▍                         | 67/247 [00:14<00:37,  4.82iteration/s]"
     ]
    },
    {
     "name": "stdout",
     "output_type": "stream",
     "text": [
      "Feature Extractor Type: <class 'sklearn.feature_extraction.text.TfidfVectorizer'>\n",
      "Using TfidfVectorizer\n",
      "Feature Extractor Type: <class 'sklearn.feature_extraction.text.TfidfVectorizer'>\n",
      "Using TfidfVectorizer\n"
     ]
    },
    {
     "name": "stderr",
     "output_type": "stream",
     "text": [
      "Screening progress:  28%|█████████▊                         | 69/247 [00:14<00:37,  4.81iteration/s]"
     ]
    },
    {
     "name": "stdout",
     "output_type": "stream",
     "text": [
      "Feature Extractor Type: <class 'sklearn.feature_extraction.text.TfidfVectorizer'>\n",
      "Using TfidfVectorizer\n",
      "Feature Extractor Type: <class 'sklearn.feature_extraction.text.TfidfVectorizer'>\n",
      "Using TfidfVectorizer\n"
     ]
    },
    {
     "name": "stderr",
     "output_type": "stream",
     "text": [
      "Screening progress:  29%|██████████                         | 71/247 [00:14<00:36,  4.78iteration/s]"
     ]
    },
    {
     "name": "stdout",
     "output_type": "stream",
     "text": [
      "Feature Extractor Type: <class 'sklearn.feature_extraction.text.TfidfVectorizer'>\n",
      "Using TfidfVectorizer\n",
      "Feature Extractor Type: <class 'sklearn.feature_extraction.text.TfidfVectorizer'>\n",
      "Using TfidfVectorizer\n"
     ]
    },
    {
     "name": "stderr",
     "output_type": "stream",
     "text": [
      "Screening progress:  30%|██████████▎                        | 73/247 [00:15<00:36,  4.74iteration/s]"
     ]
    },
    {
     "name": "stdout",
     "output_type": "stream",
     "text": [
      "Feature Extractor Type: <class 'sklearn.feature_extraction.text.TfidfVectorizer'>\n",
      "Using TfidfVectorizer\n",
      "Feature Extractor Type: <class 'sklearn.feature_extraction.text.TfidfVectorizer'>\n",
      "Using TfidfVectorizer\n"
     ]
    },
    {
     "name": "stderr",
     "output_type": "stream",
     "text": [
      "Screening progress:  30%|██████████▋                        | 75/247 [00:15<00:36,  4.72iteration/s]"
     ]
    },
    {
     "name": "stdout",
     "output_type": "stream",
     "text": [
      "Feature Extractor Type: <class 'sklearn.feature_extraction.text.TfidfVectorizer'>\n",
      "Using TfidfVectorizer\n",
      "Feature Extractor Type: <class 'sklearn.feature_extraction.text.TfidfVectorizer'>\n",
      "Using TfidfVectorizer\n"
     ]
    },
    {
     "name": "stderr",
     "output_type": "stream",
     "text": [
      "Screening progress:  31%|██████████▉                        | 77/247 [00:16<00:36,  4.71iteration/s]"
     ]
    },
    {
     "name": "stdout",
     "output_type": "stream",
     "text": [
      "Feature Extractor Type: <class 'sklearn.feature_extraction.text.TfidfVectorizer'>\n",
      "Using TfidfVectorizer\n",
      "Feature Extractor Type: <class 'sklearn.feature_extraction.text.TfidfVectorizer'>\n",
      "Using TfidfVectorizer\n"
     ]
    },
    {
     "name": "stderr",
     "output_type": "stream",
     "text": [
      "Screening progress:  32%|███████████                        | 78/247 [00:16<00:35,  4.71iteration/s]"
     ]
    },
    {
     "name": "stdout",
     "output_type": "stream",
     "text": [
      "Feature Extractor Type: <class 'sklearn.feature_extraction.text.TfidfVectorizer'>\n",
      "Using TfidfVectorizer\n"
     ]
    },
    {
     "name": "stderr",
     "output_type": "stream",
     "text": [
      "Screening progress:  32%|███████████▎                       | 80/247 [00:16<00:35,  4.70iteration/s]"
     ]
    },
    {
     "name": "stdout",
     "output_type": "stream",
     "text": [
      "Feature Extractor Type: <class 'sklearn.feature_extraction.text.TfidfVectorizer'>\n",
      "Using TfidfVectorizer\n",
      "Feature Extractor Type: <class 'sklearn.feature_extraction.text.TfidfVectorizer'>\n",
      "Using TfidfVectorizer\n"
     ]
    },
    {
     "name": "stderr",
     "output_type": "stream",
     "text": [
      "Screening progress:  33%|███████████▌                       | 82/247 [00:17<00:35,  4.69iteration/s]"
     ]
    },
    {
     "name": "stdout",
     "output_type": "stream",
     "text": [
      "Feature Extractor Type: <class 'sklearn.feature_extraction.text.TfidfVectorizer'>\n",
      "Using TfidfVectorizer\n",
      "Feature Extractor Type: <class 'sklearn.feature_extraction.text.TfidfVectorizer'>\n",
      "Using TfidfVectorizer\n"
     ]
    },
    {
     "name": "stderr",
     "output_type": "stream",
     "text": [
      "Screening progress:  34%|███████████▉                       | 84/247 [00:17<00:34,  4.67iteration/s]"
     ]
    },
    {
     "name": "stdout",
     "output_type": "stream",
     "text": [
      "Feature Extractor Type: <class 'sklearn.feature_extraction.text.TfidfVectorizer'>\n",
      "Using TfidfVectorizer\n",
      "Feature Extractor Type: <class 'sklearn.feature_extraction.text.TfidfVectorizer'>\n",
      "Using TfidfVectorizer\n"
     ]
    },
    {
     "name": "stderr",
     "output_type": "stream",
     "text": [
      "Screening progress:  35%|████████████▏                      | 86/247 [00:18<00:34,  4.69iteration/s]"
     ]
    },
    {
     "name": "stdout",
     "output_type": "stream",
     "text": [
      "Feature Extractor Type: <class 'sklearn.feature_extraction.text.TfidfVectorizer'>\n",
      "Using TfidfVectorizer\n",
      "Feature Extractor Type: <class 'sklearn.feature_extraction.text.TfidfVectorizer'>\n",
      "Using TfidfVectorizer\n"
     ]
    },
    {
     "name": "stderr",
     "output_type": "stream",
     "text": [
      "Screening progress:  36%|████████████▍                      | 88/247 [00:18<00:33,  4.69iteration/s]"
     ]
    },
    {
     "name": "stdout",
     "output_type": "stream",
     "text": [
      "Feature Extractor Type: <class 'sklearn.feature_extraction.text.TfidfVectorizer'>\n",
      "Using TfidfVectorizer\n",
      "Feature Extractor Type: <class 'sklearn.feature_extraction.text.TfidfVectorizer'>\n",
      "Using TfidfVectorizer\n"
     ]
    },
    {
     "name": "stderr",
     "output_type": "stream",
     "text": [
      "Screening progress:  36%|████████████▊                      | 90/247 [00:19<00:33,  4.68iteration/s]"
     ]
    },
    {
     "name": "stdout",
     "output_type": "stream",
     "text": [
      "Feature Extractor Type: <class 'sklearn.feature_extraction.text.TfidfVectorizer'>\n",
      "Using TfidfVectorizer\n",
      "Feature Extractor Type: <class 'sklearn.feature_extraction.text.TfidfVectorizer'>\n",
      "Using TfidfVectorizer\n"
     ]
    },
    {
     "name": "stderr",
     "output_type": "stream",
     "text": [
      "Screening progress:  37%|█████████████                      | 92/247 [00:19<00:33,  4.68iteration/s]"
     ]
    },
    {
     "name": "stdout",
     "output_type": "stream",
     "text": [
      "Feature Extractor Type: <class 'sklearn.feature_extraction.text.TfidfVectorizer'>\n",
      "Using TfidfVectorizer\n",
      "Feature Extractor Type: <class 'sklearn.feature_extraction.text.TfidfVectorizer'>\n",
      "Using TfidfVectorizer\n"
     ]
    },
    {
     "name": "stderr",
     "output_type": "stream",
     "text": [
      "Screening progress:  38%|█████████████▎                     | 94/247 [00:19<00:32,  4.65iteration/s]"
     ]
    },
    {
     "name": "stdout",
     "output_type": "stream",
     "text": [
      "Feature Extractor Type: <class 'sklearn.feature_extraction.text.TfidfVectorizer'>\n",
      "Using TfidfVectorizer\n",
      "Feature Extractor Type: <class 'sklearn.feature_extraction.text.TfidfVectorizer'>\n",
      "Using TfidfVectorizer\n"
     ]
    },
    {
     "name": "stderr",
     "output_type": "stream",
     "text": [
      "Screening progress:  39%|█████████████▌                     | 96/247 [00:20<00:32,  4.64iteration/s]"
     ]
    },
    {
     "name": "stdout",
     "output_type": "stream",
     "text": [
      "Feature Extractor Type: <class 'sklearn.feature_extraction.text.TfidfVectorizer'>\n",
      "Using TfidfVectorizer\n",
      "Feature Extractor Type: <class 'sklearn.feature_extraction.text.TfidfVectorizer'>\n",
      "Using TfidfVectorizer\n"
     ]
    },
    {
     "name": "stderr",
     "output_type": "stream",
     "text": [
      "Screening progress:  40%|█████████████▉                     | 98/247 [00:20<00:32,  4.61iteration/s]"
     ]
    },
    {
     "name": "stdout",
     "output_type": "stream",
     "text": [
      "Feature Extractor Type: <class 'sklearn.feature_extraction.text.TfidfVectorizer'>\n",
      "Using TfidfVectorizer\n",
      "Feature Extractor Type: <class 'sklearn.feature_extraction.text.TfidfVectorizer'>\n",
      "Using TfidfVectorizer\n"
     ]
    },
    {
     "name": "stderr",
     "output_type": "stream",
     "text": [
      "Screening progress:  40%|██████████████                     | 99/247 [00:20<00:32,  4.59iteration/s]"
     ]
    },
    {
     "name": "stdout",
     "output_type": "stream",
     "text": [
      "Feature Extractor Type: <class 'sklearn.feature_extraction.text.TfidfVectorizer'>\n",
      "Using TfidfVectorizer\n"
     ]
    },
    {
     "name": "stderr",
     "output_type": "stream",
     "text": [
      "Screening progress:  40%|█████████████▊                    | 100/247 [00:21<00:32,  4.57iteration/s]"
     ]
    },
    {
     "name": "stdout",
     "output_type": "stream",
     "text": [
      "Feature Extractor Type: <class 'sklearn.feature_extraction.text.TfidfVectorizer'>\n",
      "Using TfidfVectorizer\n"
     ]
    },
    {
     "name": "stderr",
     "output_type": "stream",
     "text": [
      "Screening progress:  41%|██████████████                    | 102/247 [00:21<00:31,  4.59iteration/s]"
     ]
    },
    {
     "name": "stdout",
     "output_type": "stream",
     "text": [
      "Feature Extractor Type: <class 'sklearn.feature_extraction.text.TfidfVectorizer'>\n",
      "Using TfidfVectorizer\n",
      "Feature Extractor Type: <class 'sklearn.feature_extraction.text.TfidfVectorizer'>\n",
      "Using TfidfVectorizer\n"
     ]
    },
    {
     "name": "stderr",
     "output_type": "stream",
     "text": [
      "Screening progress:  42%|██████████████▎                   | 104/247 [00:22<00:31,  4.56iteration/s]"
     ]
    },
    {
     "name": "stdout",
     "output_type": "stream",
     "text": [
      "Feature Extractor Type: <class 'sklearn.feature_extraction.text.TfidfVectorizer'>\n",
      "Using TfidfVectorizer\n",
      "Feature Extractor Type: <class 'sklearn.feature_extraction.text.TfidfVectorizer'>\n",
      "Using TfidfVectorizer\n"
     ]
    },
    {
     "name": "stderr",
     "output_type": "stream",
     "text": [
      "Screening progress:  43%|██████████████▌                   | 106/247 [00:22<00:30,  4.60iteration/s]"
     ]
    },
    {
     "name": "stdout",
     "output_type": "stream",
     "text": [
      "Feature Extractor Type: <class 'sklearn.feature_extraction.text.TfidfVectorizer'>\n",
      "Using TfidfVectorizer\n",
      "Feature Extractor Type: <class 'sklearn.feature_extraction.text.TfidfVectorizer'>\n",
      "Using TfidfVectorizer\n"
     ]
    },
    {
     "name": "stderr",
     "output_type": "stream",
     "text": [
      "Screening progress:  44%|██████████████▊                   | 108/247 [00:22<00:30,  4.53iteration/s]"
     ]
    },
    {
     "name": "stdout",
     "output_type": "stream",
     "text": [
      "Feature Extractor Type: <class 'sklearn.feature_extraction.text.TfidfVectorizer'>\n",
      "Using TfidfVectorizer\n",
      "Feature Extractor Type: <class 'sklearn.feature_extraction.text.TfidfVectorizer'>\n",
      "Using TfidfVectorizer\n"
     ]
    },
    {
     "name": "stderr",
     "output_type": "stream",
     "text": [
      "Screening progress:  45%|███████████████▏                  | 110/247 [00:23<00:30,  4.54iteration/s]"
     ]
    },
    {
     "name": "stdout",
     "output_type": "stream",
     "text": [
      "Feature Extractor Type: <class 'sklearn.feature_extraction.text.TfidfVectorizer'>\n",
      "Using TfidfVectorizer\n",
      "Feature Extractor Type: <class 'sklearn.feature_extraction.text.TfidfVectorizer'>\n",
      "Using TfidfVectorizer\n"
     ]
    },
    {
     "name": "stderr",
     "output_type": "stream",
     "text": [
      "Screening progress:  45%|███████████████▎                  | 111/247 [00:23<00:29,  4.60iteration/s]"
     ]
    },
    {
     "name": "stdout",
     "output_type": "stream",
     "text": [
      "Feature Extractor Type: <class 'sklearn.feature_extraction.text.TfidfVectorizer'>\n",
      "Using TfidfVectorizer\n"
     ]
    },
    {
     "name": "stderr",
     "output_type": "stream",
     "text": [
      "Screening progress:  46%|███████████████▌                  | 113/247 [00:24<00:28,  4.63iteration/s]"
     ]
    },
    {
     "name": "stdout",
     "output_type": "stream",
     "text": [
      "Feature Extractor Type: <class 'sklearn.feature_extraction.text.TfidfVectorizer'>\n",
      "Using TfidfVectorizer\n",
      "Feature Extractor Type: <class 'sklearn.feature_extraction.text.TfidfVectorizer'>\n",
      "Using TfidfVectorizer\n"
     ]
    },
    {
     "name": "stderr",
     "output_type": "stream",
     "text": [
      "Screening progress:  47%|███████████████▊                  | 115/247 [00:24<00:28,  4.65iteration/s]"
     ]
    },
    {
     "name": "stdout",
     "output_type": "stream",
     "text": [
      "Feature Extractor Type: <class 'sklearn.feature_extraction.text.TfidfVectorizer'>\n",
      "Using TfidfVectorizer\n",
      "Feature Extractor Type: <class 'sklearn.feature_extraction.text.TfidfVectorizer'>\n",
      "Using TfidfVectorizer\n"
     ]
    },
    {
     "name": "stderr",
     "output_type": "stream",
     "text": [
      "Screening progress:  47%|████████████████                  | 117/247 [00:24<00:27,  4.67iteration/s]"
     ]
    },
    {
     "name": "stdout",
     "output_type": "stream",
     "text": [
      "Feature Extractor Type: <class 'sklearn.feature_extraction.text.TfidfVectorizer'>\n",
      "Using TfidfVectorizer\n",
      "Feature Extractor Type: <class 'sklearn.feature_extraction.text.TfidfVectorizer'>\n",
      "Using TfidfVectorizer\n"
     ]
    },
    {
     "name": "stderr",
     "output_type": "stream",
     "text": [
      "Screening progress:  48%|████████████████▍                 | 119/247 [00:25<00:27,  4.65iteration/s]"
     ]
    },
    {
     "name": "stdout",
     "output_type": "stream",
     "text": [
      "Feature Extractor Type: <class 'sklearn.feature_extraction.text.TfidfVectorizer'>\n",
      "Using TfidfVectorizer\n",
      "Feature Extractor Type: <class 'sklearn.feature_extraction.text.TfidfVectorizer'>\n",
      "Using TfidfVectorizer\n"
     ]
    },
    {
     "name": "stderr",
     "output_type": "stream",
     "text": [
      "Screening progress:  49%|████████████████▋                 | 121/247 [00:25<00:27,  4.66iteration/s]"
     ]
    },
    {
     "name": "stdout",
     "output_type": "stream",
     "text": [
      "Feature Extractor Type: <class 'sklearn.feature_extraction.text.TfidfVectorizer'>\n",
      "Using TfidfVectorizer\n",
      "Feature Extractor Type: <class 'sklearn.feature_extraction.text.TfidfVectorizer'>\n",
      "Using TfidfVectorizer\n"
     ]
    },
    {
     "name": "stderr",
     "output_type": "stream",
     "text": [
      "Screening progress:  50%|████████████████▉                 | 123/247 [00:26<00:26,  4.67iteration/s]"
     ]
    },
    {
     "name": "stdout",
     "output_type": "stream",
     "text": [
      "Feature Extractor Type: <class 'sklearn.feature_extraction.text.TfidfVectorizer'>\n",
      "Using TfidfVectorizer\n",
      "Feature Extractor Type: <class 'sklearn.feature_extraction.text.TfidfVectorizer'>\n",
      "Using TfidfVectorizer\n"
     ]
    },
    {
     "name": "stderr",
     "output_type": "stream",
     "text": [
      "Screening progress:  51%|█████████████████▏                | 125/247 [00:26<00:26,  4.65iteration/s]"
     ]
    },
    {
     "name": "stdout",
     "output_type": "stream",
     "text": [
      "Feature Extractor Type: <class 'sklearn.feature_extraction.text.TfidfVectorizer'>\n",
      "Using TfidfVectorizer\n",
      "Feature Extractor Type: <class 'sklearn.feature_extraction.text.TfidfVectorizer'>\n",
      "Using TfidfVectorizer\n"
     ]
    },
    {
     "name": "stderr",
     "output_type": "stream",
     "text": [
      "Screening progress:  51%|█████████████████▍                | 127/247 [00:27<00:26,  4.60iteration/s]"
     ]
    },
    {
     "name": "stdout",
     "output_type": "stream",
     "text": [
      "Feature Extractor Type: <class 'sklearn.feature_extraction.text.TfidfVectorizer'>\n",
      "Using TfidfVectorizer\n",
      "Feature Extractor Type: <class 'sklearn.feature_extraction.text.TfidfVectorizer'>\n",
      "Using TfidfVectorizer\n"
     ]
    },
    {
     "name": "stderr",
     "output_type": "stream",
     "text": [
      "Screening progress:  52%|█████████████████▌                | 128/247 [00:27<00:26,  4.54iteration/s]"
     ]
    },
    {
     "name": "stdout",
     "output_type": "stream",
     "text": [
      "Feature Extractor Type: <class 'sklearn.feature_extraction.text.TfidfVectorizer'>\n",
      "Using TfidfVectorizer\n"
     ]
    },
    {
     "name": "stderr",
     "output_type": "stream",
     "text": [
      "Screening progress:  53%|█████████████████▉                | 130/247 [00:27<00:25,  4.55iteration/s]"
     ]
    },
    {
     "name": "stdout",
     "output_type": "stream",
     "text": [
      "Feature Extractor Type: <class 'sklearn.feature_extraction.text.TfidfVectorizer'>\n",
      "Using TfidfVectorizer\n",
      "Feature Extractor Type: <class 'sklearn.feature_extraction.text.TfidfVectorizer'>\n",
      "Using TfidfVectorizer\n"
     ]
    },
    {
     "name": "stderr",
     "output_type": "stream",
     "text": [
      "Screening progress:  53%|██████████████████▏               | 132/247 [00:28<00:24,  4.62iteration/s]"
     ]
    },
    {
     "name": "stdout",
     "output_type": "stream",
     "text": [
      "Feature Extractor Type: <class 'sklearn.feature_extraction.text.TfidfVectorizer'>\n",
      "Using TfidfVectorizer\n",
      "Feature Extractor Type: <class 'sklearn.feature_extraction.text.TfidfVectorizer'>\n",
      "Using TfidfVectorizer\n"
     ]
    },
    {
     "name": "stderr",
     "output_type": "stream",
     "text": [
      "Screening progress:  54%|██████████████████▍               | 134/247 [00:28<00:24,  4.65iteration/s]"
     ]
    },
    {
     "name": "stdout",
     "output_type": "stream",
     "text": [
      "Feature Extractor Type: <class 'sklearn.feature_extraction.text.TfidfVectorizer'>\n",
      "Using TfidfVectorizer\n",
      "Feature Extractor Type: <class 'sklearn.feature_extraction.text.TfidfVectorizer'>\n",
      "Using TfidfVectorizer\n"
     ]
    },
    {
     "name": "stderr",
     "output_type": "stream",
     "text": [
      "Screening progress:  55%|██████████████████▋               | 136/247 [00:28<00:23,  4.66iteration/s]"
     ]
    },
    {
     "name": "stdout",
     "output_type": "stream",
     "text": [
      "Feature Extractor Type: <class 'sklearn.feature_extraction.text.TfidfVectorizer'>\n",
      "Using TfidfVectorizer\n",
      "Feature Extractor Type: <class 'sklearn.feature_extraction.text.TfidfVectorizer'>\n",
      "Using TfidfVectorizer\n"
     ]
    },
    {
     "name": "stderr",
     "output_type": "stream",
     "text": [
      "Screening progress:  56%|██████████████████▉               | 138/247 [00:29<00:23,  4.67iteration/s]"
     ]
    },
    {
     "name": "stdout",
     "output_type": "stream",
     "text": [
      "Feature Extractor Type: <class 'sklearn.feature_extraction.text.TfidfVectorizer'>\n",
      "Using TfidfVectorizer\n",
      "Feature Extractor Type: <class 'sklearn.feature_extraction.text.TfidfVectorizer'>\n",
      "Using TfidfVectorizer\n"
     ]
    },
    {
     "name": "stderr",
     "output_type": "stream",
     "text": [
      "Screening progress:  57%|███████████████████▎              | 140/247 [00:29<00:22,  4.67iteration/s]"
     ]
    },
    {
     "name": "stdout",
     "output_type": "stream",
     "text": [
      "Feature Extractor Type: <class 'sklearn.feature_extraction.text.TfidfVectorizer'>\n",
      "Using TfidfVectorizer\n",
      "Feature Extractor Type: <class 'sklearn.feature_extraction.text.TfidfVectorizer'>\n",
      "Using TfidfVectorizer\n"
     ]
    },
    {
     "name": "stderr",
     "output_type": "stream",
     "text": [
      "Screening progress:  57%|███████████████████▌              | 142/247 [00:30<00:22,  4.68iteration/s]"
     ]
    },
    {
     "name": "stdout",
     "output_type": "stream",
     "text": [
      "Feature Extractor Type: <class 'sklearn.feature_extraction.text.TfidfVectorizer'>\n",
      "Using TfidfVectorizer\n",
      "Feature Extractor Type: <class 'sklearn.feature_extraction.text.TfidfVectorizer'>\n",
      "Using TfidfVectorizer\n"
     ]
    },
    {
     "name": "stderr",
     "output_type": "stream",
     "text": [
      "Screening progress:  58%|███████████████████▊              | 144/247 [00:30<00:21,  4.69iteration/s]"
     ]
    },
    {
     "name": "stdout",
     "output_type": "stream",
     "text": [
      "Feature Extractor Type: <class 'sklearn.feature_extraction.text.TfidfVectorizer'>\n",
      "Using TfidfVectorizer\n",
      "Feature Extractor Type: <class 'sklearn.feature_extraction.text.TfidfVectorizer'>\n",
      "Using TfidfVectorizer\n"
     ]
    },
    {
     "name": "stderr",
     "output_type": "stream",
     "text": [
      "Screening progress:  59%|███████████████████▉              | 145/247 [00:30<00:22,  4.62iteration/s]"
     ]
    },
    {
     "name": "stdout",
     "output_type": "stream",
     "text": [
      "Feature Extractor Type: <class 'sklearn.feature_extraction.text.TfidfVectorizer'>\n",
      "Using TfidfVectorizer\n"
     ]
    },
    {
     "name": "stderr",
     "output_type": "stream",
     "text": [
      "Screening progress:  60%|████████████████████▏             | 147/247 [00:31<00:21,  4.63iteration/s]"
     ]
    },
    {
     "name": "stdout",
     "output_type": "stream",
     "text": [
      "Feature Extractor Type: <class 'sklearn.feature_extraction.text.TfidfVectorizer'>\n",
      "Using TfidfVectorizer\n",
      "Feature Extractor Type: <class 'sklearn.feature_extraction.text.TfidfVectorizer'>\n",
      "Using TfidfVectorizer\n"
     ]
    },
    {
     "name": "stderr",
     "output_type": "stream",
     "text": [
      "Screening progress:  60%|████████████████████▎             | 148/247 [00:31<00:21,  4.63iteration/s]"
     ]
    },
    {
     "name": "stdout",
     "output_type": "stream",
     "text": [
      "Feature Extractor Type: <class 'sklearn.feature_extraction.text.TfidfVectorizer'>\n",
      "Using TfidfVectorizer\n"
     ]
    },
    {
     "name": "stderr",
     "output_type": "stream",
     "text": [
      "Screening progress:  61%|████████████████████▋             | 150/247 [00:32<00:20,  4.63iteration/s]"
     ]
    },
    {
     "name": "stdout",
     "output_type": "stream",
     "text": [
      "Feature Extractor Type: <class 'sklearn.feature_extraction.text.TfidfVectorizer'>\n",
      "Using TfidfVectorizer\n",
      "Feature Extractor Type: <class 'sklearn.feature_extraction.text.TfidfVectorizer'>\n",
      "Using TfidfVectorizer\n"
     ]
    },
    {
     "name": "stderr",
     "output_type": "stream",
     "text": [
      "Screening progress:  62%|████████████████████▉             | 152/247 [00:32<00:20,  4.62iteration/s]"
     ]
    },
    {
     "name": "stdout",
     "output_type": "stream",
     "text": [
      "Feature Extractor Type: <class 'sklearn.feature_extraction.text.TfidfVectorizer'>\n",
      "Using TfidfVectorizer\n",
      "Feature Extractor Type: <class 'sklearn.feature_extraction.text.TfidfVectorizer'>\n",
      "Using TfidfVectorizer\n"
     ]
    },
    {
     "name": "stderr",
     "output_type": "stream",
     "text": [
      "Screening progress:  62%|█████████████████████             | 153/247 [00:32<00:25,  3.63iteration/s]"
     ]
    },
    {
     "name": "stdout",
     "output_type": "stream",
     "text": [
      "Feature Extractor Type: <class 'sklearn.feature_extraction.text.TfidfVectorizer'>\n",
      "Using TfidfVectorizer\n"
     ]
    },
    {
     "name": "stderr",
     "output_type": "stream",
     "text": [
      "Screening progress:  63%|█████████████████████▎            | 155/247 [00:33<00:24,  3.77iteration/s]"
     ]
    },
    {
     "name": "stdout",
     "output_type": "stream",
     "text": [
      "Feature Extractor Type: <class 'sklearn.feature_extraction.text.TfidfVectorizer'>\n",
      "Using TfidfVectorizer\n",
      "Feature Extractor Type: <class 'sklearn.feature_extraction.text.TfidfVectorizer'>\n",
      "Using TfidfVectorizer\n"
     ]
    },
    {
     "name": "stderr",
     "output_type": "stream",
     "text": [
      "Screening progress:  64%|█████████████████████▌            | 157/247 [00:33<00:22,  3.95iteration/s]"
     ]
    },
    {
     "name": "stdout",
     "output_type": "stream",
     "text": [
      "Feature Extractor Type: <class 'sklearn.feature_extraction.text.TfidfVectorizer'>\n",
      "Using TfidfVectorizer\n",
      "Feature Extractor Type: <class 'sklearn.feature_extraction.text.TfidfVectorizer'>\n",
      "Using TfidfVectorizer\n"
     ]
    },
    {
     "name": "stderr",
     "output_type": "stream",
     "text": [
      "Screening progress:  64%|█████████████████████▉            | 159/247 [00:34<00:21,  4.17iteration/s]"
     ]
    },
    {
     "name": "stdout",
     "output_type": "stream",
     "text": [
      "Feature Extractor Type: <class 'sklearn.feature_extraction.text.TfidfVectorizer'>\n",
      "Using TfidfVectorizer\n",
      "Feature Extractor Type: <class 'sklearn.feature_extraction.text.TfidfVectorizer'>\n",
      "Using TfidfVectorizer\n"
     ]
    },
    {
     "name": "stderr",
     "output_type": "stream",
     "text": [
      "Screening progress:  65%|██████████████████████▏           | 161/247 [00:34<00:19,  4.33iteration/s]"
     ]
    },
    {
     "name": "stdout",
     "output_type": "stream",
     "text": [
      "Feature Extractor Type: <class 'sklearn.feature_extraction.text.TfidfVectorizer'>\n",
      "Using TfidfVectorizer\n",
      "Feature Extractor Type: <class 'sklearn.feature_extraction.text.TfidfVectorizer'>\n",
      "Using TfidfVectorizer\n"
     ]
    },
    {
     "name": "stderr",
     "output_type": "stream",
     "text": [
      "Screening progress:  66%|██████████████████████▎           | 162/247 [00:34<00:19,  4.40iteration/s]"
     ]
    },
    {
     "name": "stdout",
     "output_type": "stream",
     "text": [
      "Feature Extractor Type: <class 'sklearn.feature_extraction.text.TfidfVectorizer'>\n",
      "Using TfidfVectorizer\n"
     ]
    },
    {
     "name": "stderr",
     "output_type": "stream",
     "text": [
      "Screening progress:  66%|██████████████████████▍           | 163/247 [00:35<00:18,  4.44iteration/s]"
     ]
    },
    {
     "name": "stdout",
     "output_type": "stream",
     "text": [
      "Feature Extractor Type: <class 'sklearn.feature_extraction.text.TfidfVectorizer'>\n",
      "Using TfidfVectorizer\n"
     ]
    },
    {
     "name": "stderr",
     "output_type": "stream",
     "text": [
      "Screening progress:  67%|██████████████████████▋           | 165/247 [00:35<00:18,  4.54iteration/s]"
     ]
    },
    {
     "name": "stdout",
     "output_type": "stream",
     "text": [
      "Feature Extractor Type: <class 'sklearn.feature_extraction.text.TfidfVectorizer'>\n",
      "Using TfidfVectorizer\n",
      "Feature Extractor Type: <class 'sklearn.feature_extraction.text.TfidfVectorizer'>\n",
      "Using TfidfVectorizer\n"
     ]
    },
    {
     "name": "stderr",
     "output_type": "stream",
     "text": [
      "Screening progress:  68%|██████████████████████▉           | 167/247 [00:36<00:17,  4.54iteration/s]"
     ]
    },
    {
     "name": "stdout",
     "output_type": "stream",
     "text": [
      "Feature Extractor Type: <class 'sklearn.feature_extraction.text.TfidfVectorizer'>\n",
      "Using TfidfVectorizer\n",
      "Feature Extractor Type: <class 'sklearn.feature_extraction.text.TfidfVectorizer'>\n",
      "Using TfidfVectorizer\n"
     ]
    },
    {
     "name": "stderr",
     "output_type": "stream",
     "text": [
      "Screening progress:  68%|███████████████████████▏          | 168/247 [00:36<00:17,  4.55iteration/s]"
     ]
    },
    {
     "name": "stdout",
     "output_type": "stream",
     "text": [
      "Feature Extractor Type: <class 'sklearn.feature_extraction.text.TfidfVectorizer'>\n",
      "Using TfidfVectorizer\n"
     ]
    },
    {
     "name": "stderr",
     "output_type": "stream",
     "text": [
      "Screening progress:  69%|███████████████████████▍          | 170/247 [00:36<00:16,  4.61iteration/s]"
     ]
    },
    {
     "name": "stdout",
     "output_type": "stream",
     "text": [
      "Feature Extractor Type: <class 'sklearn.feature_extraction.text.TfidfVectorizer'>\n",
      "Using TfidfVectorizer\n",
      "Feature Extractor Type: <class 'sklearn.feature_extraction.text.TfidfVectorizer'>\n",
      "Using TfidfVectorizer\n"
     ]
    },
    {
     "name": "stderr",
     "output_type": "stream",
     "text": [
      "Screening progress:  70%|███████████████████████▋          | 172/247 [00:37<00:16,  4.61iteration/s]"
     ]
    },
    {
     "name": "stdout",
     "output_type": "stream",
     "text": [
      "Feature Extractor Type: <class 'sklearn.feature_extraction.text.TfidfVectorizer'>\n",
      "Using TfidfVectorizer\n",
      "Feature Extractor Type: <class 'sklearn.feature_extraction.text.TfidfVectorizer'>\n",
      "Using TfidfVectorizer\n"
     ]
    },
    {
     "name": "stderr",
     "output_type": "stream",
     "text": [
      "Screening progress:  70%|███████████████████████▊          | 173/247 [00:37<00:16,  4.61iteration/s]"
     ]
    },
    {
     "name": "stdout",
     "output_type": "stream",
     "text": [
      "Feature Extractor Type: <class 'sklearn.feature_extraction.text.TfidfVectorizer'>\n",
      "Using TfidfVectorizer\n"
     ]
    },
    {
     "name": "stderr",
     "output_type": "stream",
     "text": [
      "Screening progress:  71%|████████████████████████          | 175/247 [00:37<00:16,  4.40iteration/s]"
     ]
    },
    {
     "name": "stdout",
     "output_type": "stream",
     "text": [
      "Feature Extractor Type: <class 'sklearn.feature_extraction.text.TfidfVectorizer'>\n",
      "Using TfidfVectorizer\n",
      "Feature Extractor Type: <class 'sklearn.feature_extraction.text.TfidfVectorizer'>\n",
      "Using TfidfVectorizer\n"
     ]
    },
    {
     "name": "stderr",
     "output_type": "stream",
     "text": [
      "Screening progress:  72%|████████████████████████▎         | 177/247 [00:38<00:15,  4.51iteration/s]"
     ]
    },
    {
     "name": "stdout",
     "output_type": "stream",
     "text": [
      "Feature Extractor Type: <class 'sklearn.feature_extraction.text.TfidfVectorizer'>\n",
      "Using TfidfVectorizer\n",
      "Feature Extractor Type: <class 'sklearn.feature_extraction.text.TfidfVectorizer'>\n",
      "Using TfidfVectorizer\n"
     ]
    },
    {
     "name": "stderr",
     "output_type": "stream",
     "text": [
      "Screening progress:  72%|████████████████████████▋         | 179/247 [00:38<00:14,  4.56iteration/s]"
     ]
    },
    {
     "name": "stdout",
     "output_type": "stream",
     "text": [
      "Feature Extractor Type: <class 'sklearn.feature_extraction.text.TfidfVectorizer'>\n",
      "Using TfidfVectorizer\n",
      "Feature Extractor Type: <class 'sklearn.feature_extraction.text.TfidfVectorizer'>\n",
      "Using TfidfVectorizer\n"
     ]
    },
    {
     "name": "stderr",
     "output_type": "stream",
     "text": [
      "Screening progress:  73%|████████████████████████▉         | 181/247 [00:39<00:14,  4.56iteration/s]"
     ]
    },
    {
     "name": "stdout",
     "output_type": "stream",
     "text": [
      "Feature Extractor Type: <class 'sklearn.feature_extraction.text.TfidfVectorizer'>\n",
      "Using TfidfVectorizer\n",
      "Feature Extractor Type: <class 'sklearn.feature_extraction.text.TfidfVectorizer'>\n",
      "Using TfidfVectorizer\n"
     ]
    },
    {
     "name": "stderr",
     "output_type": "stream",
     "text": [
      "Screening progress:  74%|█████████████████████████▏        | 183/247 [00:39<00:13,  4.57iteration/s]"
     ]
    },
    {
     "name": "stdout",
     "output_type": "stream",
     "text": [
      "Feature Extractor Type: <class 'sklearn.feature_extraction.text.TfidfVectorizer'>\n",
      "Using TfidfVectorizer\n",
      "Feature Extractor Type: <class 'sklearn.feature_extraction.text.TfidfVectorizer'>\n",
      "Using TfidfVectorizer\n"
     ]
    },
    {
     "name": "stderr",
     "output_type": "stream",
     "text": [
      "Screening progress:  75%|█████████████████████████▍        | 185/247 [00:40<00:13,  4.59iteration/s]"
     ]
    },
    {
     "name": "stdout",
     "output_type": "stream",
     "text": [
      "Feature Extractor Type: <class 'sklearn.feature_extraction.text.TfidfVectorizer'>\n",
      "Using TfidfVectorizer\n",
      "Feature Extractor Type: <class 'sklearn.feature_extraction.text.TfidfVectorizer'>\n",
      "Using TfidfVectorizer\n"
     ]
    },
    {
     "name": "stderr",
     "output_type": "stream",
     "text": [
      "Screening progress:  76%|█████████████████████████▋        | 187/247 [00:40<00:13,  4.59iteration/s]"
     ]
    },
    {
     "name": "stdout",
     "output_type": "stream",
     "text": [
      "Feature Extractor Type: <class 'sklearn.feature_extraction.text.TfidfVectorizer'>\n",
      "Using TfidfVectorizer\n",
      "Feature Extractor Type: <class 'sklearn.feature_extraction.text.TfidfVectorizer'>\n",
      "Using TfidfVectorizer\n"
     ]
    },
    {
     "name": "stderr",
     "output_type": "stream",
     "text": [
      "Screening progress:  77%|██████████████████████████        | 189/247 [00:40<00:12,  4.58iteration/s]"
     ]
    },
    {
     "name": "stdout",
     "output_type": "stream",
     "text": [
      "Feature Extractor Type: <class 'sklearn.feature_extraction.text.TfidfVectorizer'>\n",
      "Using TfidfVectorizer\n",
      "Feature Extractor Type: <class 'sklearn.feature_extraction.text.TfidfVectorizer'>\n",
      "Using TfidfVectorizer\n"
     ]
    },
    {
     "name": "stderr",
     "output_type": "stream",
     "text": [
      "Screening progress:  77%|██████████████████████████▎       | 191/247 [00:41<00:12,  4.56iteration/s]"
     ]
    },
    {
     "name": "stdout",
     "output_type": "stream",
     "text": [
      "Feature Extractor Type: <class 'sklearn.feature_extraction.text.TfidfVectorizer'>\n",
      "Using TfidfVectorizer\n",
      "Feature Extractor Type: <class 'sklearn.feature_extraction.text.TfidfVectorizer'>\n",
      "Using TfidfVectorizer\n"
     ]
    },
    {
     "name": "stderr",
     "output_type": "stream",
     "text": [
      "Screening progress:  78%|██████████████████████████▌       | 193/247 [00:41<00:11,  4.59iteration/s]"
     ]
    },
    {
     "name": "stdout",
     "output_type": "stream",
     "text": [
      "Feature Extractor Type: <class 'sklearn.feature_extraction.text.TfidfVectorizer'>\n",
      "Using TfidfVectorizer\n",
      "Feature Extractor Type: <class 'sklearn.feature_extraction.text.TfidfVectorizer'>\n",
      "Using TfidfVectorizer\n"
     ]
    },
    {
     "name": "stderr",
     "output_type": "stream",
     "text": [
      "Screening progress:  79%|██████████████████████████▊       | 195/247 [00:42<00:11,  4.59iteration/s]"
     ]
    },
    {
     "name": "stdout",
     "output_type": "stream",
     "text": [
      "Feature Extractor Type: <class 'sklearn.feature_extraction.text.TfidfVectorizer'>\n",
      "Using TfidfVectorizer\n",
      "Feature Extractor Type: <class 'sklearn.feature_extraction.text.TfidfVectorizer'>\n",
      "Using TfidfVectorizer\n"
     ]
    },
    {
     "name": "stderr",
     "output_type": "stream",
     "text": [
      "Screening progress:  80%|███████████████████████████       | 197/247 [00:42<00:10,  4.59iteration/s]"
     ]
    },
    {
     "name": "stdout",
     "output_type": "stream",
     "text": [
      "Feature Extractor Type: <class 'sklearn.feature_extraction.text.TfidfVectorizer'>\n",
      "Using TfidfVectorizer\n",
      "Feature Extractor Type: <class 'sklearn.feature_extraction.text.TfidfVectorizer'>\n",
      "Using TfidfVectorizer\n"
     ]
    },
    {
     "name": "stderr",
     "output_type": "stream",
     "text": [
      "Screening progress:  81%|███████████████████████████▍      | 199/247 [00:43<00:10,  4.52iteration/s]"
     ]
    },
    {
     "name": "stdout",
     "output_type": "stream",
     "text": [
      "Feature Extractor Type: <class 'sklearn.feature_extraction.text.TfidfVectorizer'>\n",
      "Using TfidfVectorizer\n",
      "Feature Extractor Type: <class 'sklearn.feature_extraction.text.TfidfVectorizer'>\n",
      "Using TfidfVectorizer\n"
     ]
    },
    {
     "name": "stderr",
     "output_type": "stream",
     "text": [
      "Screening progress:  81%|███████████████████████████▌      | 200/247 [00:43<00:10,  4.48iteration/s]"
     ]
    },
    {
     "name": "stdout",
     "output_type": "stream",
     "text": [
      "Feature Extractor Type: <class 'sklearn.feature_extraction.text.TfidfVectorizer'>\n",
      "Using TfidfVectorizer\n"
     ]
    },
    {
     "name": "stderr",
     "output_type": "stream",
     "text": [
      "Screening progress:  82%|███████████████████████████▊      | 202/247 [00:43<00:10,  4.30iteration/s]"
     ]
    },
    {
     "name": "stdout",
     "output_type": "stream",
     "text": [
      "Feature Extractor Type: <class 'sklearn.feature_extraction.text.TfidfVectorizer'>\n",
      "Using TfidfVectorizer\n",
      "Feature Extractor Type: <class 'sklearn.feature_extraction.text.TfidfVectorizer'>\n",
      "Using TfidfVectorizer\n"
     ]
    },
    {
     "name": "stderr",
     "output_type": "stream",
     "text": [
      "Screening progress:  83%|████████████████████████████      | 204/247 [00:44<00:09,  4.37iteration/s]"
     ]
    },
    {
     "name": "stdout",
     "output_type": "stream",
     "text": [
      "Feature Extractor Type: <class 'sklearn.feature_extraction.text.TfidfVectorizer'>\n",
      "Using TfidfVectorizer\n",
      "Feature Extractor Type: <class 'sklearn.feature_extraction.text.TfidfVectorizer'>\n",
      "Using TfidfVectorizer\n"
     ]
    },
    {
     "name": "stderr",
     "output_type": "stream",
     "text": [
      "Screening progress:  83%|████████████████████████████▎     | 206/247 [00:44<00:09,  4.47iteration/s]"
     ]
    },
    {
     "name": "stdout",
     "output_type": "stream",
     "text": [
      "Feature Extractor Type: <class 'sklearn.feature_extraction.text.TfidfVectorizer'>\n",
      "Using TfidfVectorizer\n",
      "Feature Extractor Type: <class 'sklearn.feature_extraction.text.TfidfVectorizer'>\n",
      "Using TfidfVectorizer\n"
     ]
    },
    {
     "name": "stderr",
     "output_type": "stream",
     "text": [
      "Screening progress:  84%|████████████████████████████▋     | 208/247 [00:45<00:08,  4.52iteration/s]"
     ]
    },
    {
     "name": "stdout",
     "output_type": "stream",
     "text": [
      "Feature Extractor Type: <class 'sklearn.feature_extraction.text.TfidfVectorizer'>\n",
      "Using TfidfVectorizer\n",
      "Feature Extractor Type: <class 'sklearn.feature_extraction.text.TfidfVectorizer'>\n",
      "Using TfidfVectorizer\n"
     ]
    },
    {
     "name": "stderr",
     "output_type": "stream",
     "text": [
      "Screening progress:  85%|████████████████████████████▉     | 210/247 [00:45<00:08,  4.51iteration/s]"
     ]
    },
    {
     "name": "stdout",
     "output_type": "stream",
     "text": [
      "Feature Extractor Type: <class 'sklearn.feature_extraction.text.TfidfVectorizer'>\n",
      "Using TfidfVectorizer\n",
      "Feature Extractor Type: <class 'sklearn.feature_extraction.text.TfidfVectorizer'>\n",
      "Using TfidfVectorizer\n"
     ]
    },
    {
     "name": "stderr",
     "output_type": "stream",
     "text": [
      "Screening progress:  86%|█████████████████████████████▏    | 212/247 [00:46<00:07,  4.51iteration/s]"
     ]
    },
    {
     "name": "stdout",
     "output_type": "stream",
     "text": [
      "Feature Extractor Type: <class 'sklearn.feature_extraction.text.TfidfVectorizer'>\n",
      "Using TfidfVectorizer\n",
      "Feature Extractor Type: <class 'sklearn.feature_extraction.text.TfidfVectorizer'>\n",
      "Using TfidfVectorizer\n"
     ]
    },
    {
     "name": "stderr",
     "output_type": "stream",
     "text": [
      "Screening progress:  87%|█████████████████████████████▍    | 214/247 [00:46<00:07,  4.54iteration/s]"
     ]
    },
    {
     "name": "stdout",
     "output_type": "stream",
     "text": [
      "Feature Extractor Type: <class 'sklearn.feature_extraction.text.TfidfVectorizer'>\n",
      "Using TfidfVectorizer\n",
      "Feature Extractor Type: <class 'sklearn.feature_extraction.text.TfidfVectorizer'>\n",
      "Using TfidfVectorizer\n"
     ]
    },
    {
     "name": "stderr",
     "output_type": "stream",
     "text": [
      "Screening progress:  87%|█████████████████████████████▋    | 216/247 [00:46<00:06,  4.54iteration/s]"
     ]
    },
    {
     "name": "stdout",
     "output_type": "stream",
     "text": [
      "Feature Extractor Type: <class 'sklearn.feature_extraction.text.TfidfVectorizer'>\n",
      "Using TfidfVectorizer\n",
      "Feature Extractor Type: <class 'sklearn.feature_extraction.text.TfidfVectorizer'>\n",
      "Using TfidfVectorizer\n"
     ]
    },
    {
     "name": "stderr",
     "output_type": "stream",
     "text": [
      "Screening progress:  88%|██████████████████████████████    | 218/247 [00:47<00:06,  4.56iteration/s]"
     ]
    },
    {
     "name": "stdout",
     "output_type": "stream",
     "text": [
      "Feature Extractor Type: <class 'sklearn.feature_extraction.text.TfidfVectorizer'>\n",
      "Using TfidfVectorizer\n",
      "Feature Extractor Type: <class 'sklearn.feature_extraction.text.TfidfVectorizer'>\n",
      "Using TfidfVectorizer\n"
     ]
    },
    {
     "name": "stderr",
     "output_type": "stream",
     "text": [
      "Screening progress:  89%|██████████████████████████████▎   | 220/247 [00:47<00:05,  4.57iteration/s]"
     ]
    },
    {
     "name": "stdout",
     "output_type": "stream",
     "text": [
      "Feature Extractor Type: <class 'sklearn.feature_extraction.text.TfidfVectorizer'>\n",
      "Using TfidfVectorizer\n",
      "Feature Extractor Type: <class 'sklearn.feature_extraction.text.TfidfVectorizer'>\n",
      "Using TfidfVectorizer\n"
     ]
    },
    {
     "name": "stderr",
     "output_type": "stream",
     "text": [
      "Screening progress:  90%|██████████████████████████████▌   | 222/247 [00:48<00:05,  4.43iteration/s]"
     ]
    },
    {
     "name": "stdout",
     "output_type": "stream",
     "text": [
      "Feature Extractor Type: <class 'sklearn.feature_extraction.text.TfidfVectorizer'>\n",
      "Using TfidfVectorizer\n",
      "Feature Extractor Type: <class 'sklearn.feature_extraction.text.TfidfVectorizer'>\n",
      "Using TfidfVectorizer\n"
     ]
    },
    {
     "name": "stderr",
     "output_type": "stream",
     "text": [
      "Screening progress:  91%|██████████████████████████████▊   | 224/247 [00:48<00:05,  4.51iteration/s]"
     ]
    },
    {
     "name": "stdout",
     "output_type": "stream",
     "text": [
      "Feature Extractor Type: <class 'sklearn.feature_extraction.text.TfidfVectorizer'>\n",
      "Using TfidfVectorizer\n",
      "Feature Extractor Type: <class 'sklearn.feature_extraction.text.TfidfVectorizer'>\n",
      "Using TfidfVectorizer\n"
     ]
    },
    {
     "name": "stderr",
     "output_type": "stream",
     "text": [
      "Screening progress:  91%|███████████████████████████████   | 226/247 [00:49<00:04,  4.54iteration/s]"
     ]
    },
    {
     "name": "stdout",
     "output_type": "stream",
     "text": [
      "Feature Extractor Type: <class 'sklearn.feature_extraction.text.TfidfVectorizer'>\n",
      "Using TfidfVectorizer\n",
      "Feature Extractor Type: <class 'sklearn.feature_extraction.text.TfidfVectorizer'>\n",
      "Using TfidfVectorizer\n"
     ]
    },
    {
     "name": "stderr",
     "output_type": "stream",
     "text": [
      "Screening progress:  92%|███████████████████████████████▍  | 228/247 [00:49<00:04,  4.56iteration/s]"
     ]
    },
    {
     "name": "stdout",
     "output_type": "stream",
     "text": [
      "Feature Extractor Type: <class 'sklearn.feature_extraction.text.TfidfVectorizer'>\n",
      "Using TfidfVectorizer\n",
      "Feature Extractor Type: <class 'sklearn.feature_extraction.text.TfidfVectorizer'>\n",
      "Using TfidfVectorizer\n"
     ]
    },
    {
     "name": "stderr",
     "output_type": "stream",
     "text": [
      "Screening progress:  93%|███████████████████████████████▋  | 230/247 [00:49<00:03,  4.57iteration/s]"
     ]
    },
    {
     "name": "stdout",
     "output_type": "stream",
     "text": [
      "Feature Extractor Type: <class 'sklearn.feature_extraction.text.TfidfVectorizer'>\n",
      "Using TfidfVectorizer\n",
      "Feature Extractor Type: <class 'sklearn.feature_extraction.text.TfidfVectorizer'>\n",
      "Using TfidfVectorizer\n"
     ]
    },
    {
     "name": "stderr",
     "output_type": "stream",
     "text": [
      "Screening progress:  94%|███████████████████████████████▉  | 232/247 [00:50<00:03,  4.55iteration/s]"
     ]
    },
    {
     "name": "stdout",
     "output_type": "stream",
     "text": [
      "Feature Extractor Type: <class 'sklearn.feature_extraction.text.TfidfVectorizer'>\n",
      "Using TfidfVectorizer\n",
      "Feature Extractor Type: <class 'sklearn.feature_extraction.text.TfidfVectorizer'>\n",
      "Using TfidfVectorizer\n"
     ]
    },
    {
     "name": "stderr",
     "output_type": "stream",
     "text": [
      "Screening progress:  95%|████████████████████████████████▏ | 234/247 [00:50<00:02,  4.57iteration/s]"
     ]
    },
    {
     "name": "stdout",
     "output_type": "stream",
     "text": [
      "Feature Extractor Type: <class 'sklearn.feature_extraction.text.TfidfVectorizer'>\n",
      "Using TfidfVectorizer\n",
      "Feature Extractor Type: <class 'sklearn.feature_extraction.text.TfidfVectorizer'>\n",
      "Using TfidfVectorizer\n"
     ]
    },
    {
     "name": "stderr",
     "output_type": "stream",
     "text": [
      "Screening progress:  96%|████████████████████████████████▍ | 236/247 [00:51<00:02,  4.55iteration/s]"
     ]
    },
    {
     "name": "stdout",
     "output_type": "stream",
     "text": [
      "Feature Extractor Type: <class 'sklearn.feature_extraction.text.TfidfVectorizer'>\n",
      "Using TfidfVectorizer\n",
      "Feature Extractor Type: <class 'sklearn.feature_extraction.text.TfidfVectorizer'>\n",
      "Using TfidfVectorizer\n"
     ]
    },
    {
     "name": "stderr",
     "output_type": "stream",
     "text": [
      "Screening progress:  96%|████████████████████████████████▊ | 238/247 [00:51<00:01,  4.54iteration/s]"
     ]
    },
    {
     "name": "stdout",
     "output_type": "stream",
     "text": [
      "Feature Extractor Type: <class 'sklearn.feature_extraction.text.TfidfVectorizer'>\n",
      "Using TfidfVectorizer\n",
      "Feature Extractor Type: <class 'sklearn.feature_extraction.text.TfidfVectorizer'>\n",
      "Using TfidfVectorizer\n"
     ]
    },
    {
     "name": "stderr",
     "output_type": "stream",
     "text": [
      "Screening progress:  97%|█████████████████████████████████ | 240/247 [00:52<00:01,  4.57iteration/s]"
     ]
    },
    {
     "name": "stdout",
     "output_type": "stream",
     "text": [
      "Feature Extractor Type: <class 'sklearn.feature_extraction.text.TfidfVectorizer'>\n",
      "Using TfidfVectorizer\n",
      "Feature Extractor Type: <class 'sklearn.feature_extraction.text.TfidfVectorizer'>\n",
      "Using TfidfVectorizer\n"
     ]
    },
    {
     "name": "stderr",
     "output_type": "stream",
     "text": [
      "Screening progress:  98%|█████████████████████████████████▎| 242/247 [00:52<00:01,  4.56iteration/s]"
     ]
    },
    {
     "name": "stdout",
     "output_type": "stream",
     "text": [
      "Feature Extractor Type: <class 'sklearn.feature_extraction.text.TfidfVectorizer'>\n",
      "Using TfidfVectorizer\n",
      "Feature Extractor Type: <class 'sklearn.feature_extraction.text.TfidfVectorizer'>\n",
      "Using TfidfVectorizer\n"
     ]
    },
    {
     "name": "stderr",
     "output_type": "stream",
     "text": [
      "Screening progress:  98%|█████████████████████████████████▍| 243/247 [00:52<00:00,  4.55iteration/s]"
     ]
    },
    {
     "name": "stdout",
     "output_type": "stream",
     "text": [
      "Feature Extractor Type: <class 'sklearn.feature_extraction.text.TfidfVectorizer'>\n",
      "Using TfidfVectorizer\n"
     ]
    },
    {
     "name": "stderr",
     "output_type": "stream",
     "text": [
      "Screening progress:  99%|█████████████████████████████████▋| 245/247 [00:53<00:00,  4.50iteration/s]"
     ]
    },
    {
     "name": "stdout",
     "output_type": "stream",
     "text": [
      "Feature Extractor Type: <class 'sklearn.feature_extraction.text.TfidfVectorizer'>\n",
      "Using TfidfVectorizer\n",
      "Feature Extractor Type: <class 'sklearn.feature_extraction.text.TfidfVectorizer'>\n",
      "Using TfidfVectorizer\n"
     ]
    },
    {
     "name": "stderr",
     "output_type": "stream",
     "text": [
      "Screening progress: 100%|██████████████████████████████████| 247/247 [00:53<00:00,  4.60iteration/s]"
     ]
    },
    {
     "name": "stdout",
     "output_type": "stream",
     "text": [
      "Feature Extractor Type: <class 'sklearn.feature_extraction.text.TfidfVectorizer'>\n",
      "Using TfidfVectorizer\n"
     ]
    },
    {
     "name": "stderr",
     "output_type": "stream",
     "text": [
      "\n"
     ]
    }
   ],
   "source": [
    "import os\n",
    "import pandas as pd\n",
    "import numpy as np\n",
    "from tqdm import tqdm\n",
    "from sklearn.linear_model import LogisticRegression\n",
    "from transformers import AutoModel, AutoTokenizer\n",
    "from sentence_transformers import SentenceTransformer\n",
    "import torch\n",
    "from sklearn.feature_extraction.text import TfidfVectorizer\n",
    "from transformers import BertModel\n",
    "\n",
    "os.environ[\"TRANSFORMERS_CACHE\"] = \"./models/transformers/cache/\"\n",
    "\n",
    "class ComputeRankings:\n",
    "    def __init__(self, dataset, feature_extractor, classifier, initial_inclusions=10, initial_exclusions=10,\n",
    "                 batch_size=10, random_seed=None):\n",
    "        self.dataset = dataset\n",
    "        self.feature_extractor = feature_extractor\n",
    "        self.classifier = classifier\n",
    "        self.initial_inclusions = initial_inclusions\n",
    "        self.initial_exclusions = initial_exclusions\n",
    "        self.batch_size = batch_size\n",
    "        self.random_seed = random_seed\n",
    "        self.rng = np.random.default_rng(self.random_seed)\n",
    "\n",
    "        if 'abstract' not in self.dataset.columns or 'label_ta_included' not in self.dataset.columns:\n",
    "            raise ValueError(\"Dataset must have 'abstract' and 'label_ta_included' columns.\")\n",
    "\n",
    "        # Initialize data storage\n",
    "        self.original_order = list(self.dataset.index)\n",
    "        self.final_order = []\n",
    "        self.training_data = None\n",
    "        self.training_labels = None\n",
    "        self.remaining_data = None\n",
    "\n",
    "    def initialize_training_data(self):\n",
    "        \"\"\"Randomly selects initial inclusions and exclusions for training.\"\"\"\n",
    "        available_inclusions = self.dataset[self.dataset['label_ta_included'] == 1]\n",
    "        available_exclusions = self.dataset[self.dataset['label_ta_included'] == 0]\n",
    "\n",
    "        if len(available_inclusions) < self.initial_inclusions or len(available_exclusions) < self.initial_exclusions:\n",
    "            raise ValueError(\"Not enough inclusions or exclusions in the dataset.\")\n",
    "\n",
    "        inclusions = available_inclusions.sample(n=self.initial_inclusions, random_state=self.random_seed)\n",
    "        exclusions = available_exclusions.sample(n=self.initial_exclusions, random_state=self.random_seed)\n",
    "\n",
    "        self.training_data = pd.concat([inclusions, exclusions])\n",
    "        self.training_labels = self.training_data['label_ta_included']\n",
    "\n",
    "        # Store remaining records\n",
    "        self.remaining_data = self.dataset.drop(self.training_data.index)\n",
    "        self.final_order = self.training_data.index.tolist()\n",
    "\n",
    "    def preprocess(self):\n",
    "        \"\"\"Converts text abstracts into features based on the feature extractor.\"\"\"\n",
    "        self.training_data['abstract'] = self.training_data['abstract'].fillna('NA').astype(str)\n",
    "        self.remaining_data['abstract'] = self.remaining_data['abstract'].fillna('NA').astype(str)\n",
    "\n",
    "        # Initialize X_train and X_remaining in case no condition matches\n",
    "        X_train, X_remaining = None, None\n",
    "\n",
    "        # Print feature extractor type to debug\n",
    "        print(f\"Feature Extractor Type: {type(self.feature_extractor)}\")  # Debugging line\n",
    "\n",
    "        # Handle the feature extractor types\n",
    "        if isinstance(self.feature_extractor, TfidfVectorizer):\n",
    "            print(\"Using TfidfVectorizer\")  # Debugging line\n",
    "            X_train = self.feature_extractor.fit_transform(self.training_data['abstract'])\n",
    "            X_remaining = self.feature_extractor.transform(self.remaining_data['abstract'])\n",
    "\n",
    "        elif isinstance(self.feature_extractor, SentenceTransformer):\n",
    "            print(\"Using SentenceTransformer\")  # Debugging line\n",
    "            X_train = np.array(self.feature_extractor.encode(self.training_data['abstract'].tolist()))\n",
    "            X_remaining = np.array(self.feature_extractor.encode(self.remaining_data['abstract'].tolist()))\n",
    "\n",
    "        elif isinstance(self.feature_extractor, BertModel):  # Check specifically for BertModel\n",
    "            print(\"Using BERT Model\")  # Debugging line\n",
    "            X_train = self._get_huggingface_embeddings(self.training_data['abstract'])\n",
    "            X_remaining = self._get_huggingface_embeddings(self.remaining_data['abstract'])\n",
    "\n",
    "        elif isinstance(self.feature_extractor, AutoModel):  # For other Hugging Face models\n",
    "            print(\"Using Hugging Face Model (AutoModel)\")  # Debugging line\n",
    "            X_train = self._get_huggingface_embeddings(self.training_data['abstract'])\n",
    "            X_remaining = self._get_huggingface_embeddings(self.remaining_data['abstract'])\n",
    "\n",
    "        else:\n",
    "            # If no known feature extractor is passed, raise an error\n",
    "            raise ValueError(f\"Feature extractor type '{type(self.feature_extractor)}' is not recognized.\")\n",
    "\n",
    "        # If no valid extractor was found, raise an error\n",
    "        if X_train is None or X_remaining is None:\n",
    "            raise ValueError(\"Feature extractor type is not recognized or is incorrectly configured.\")\n",
    "\n",
    "        return X_train, X_remaining\n",
    "\n",
    "    def train_model(self, X_train):\n",
    "        \"\"\"Trains the classifier on the training data.\"\"\"\n",
    "        self.classifier.fit(X_train, self.training_labels)\n",
    "\n",
    "    def predict_and_rank(self, X_remaining):\n",
    "        \"\"\"Predicts probabilities and sorts remaining data by relevance.\"\"\"\n",
    "        probabilities = self.classifier.predict_proba(X_remaining)[:, 1]\n",
    "        self.remaining_data['probability'] = probabilities\n",
    "        self.remaining_data = self.remaining_data.sort_values(by='probability', ascending=False)\n",
    "\n",
    "    def expand_training_data(self):\n",
    "        \"\"\"Moves the top-ranked batch of records into training data.\"\"\"\n",
    "        batch_size = min(self.batch_size, len(self.remaining_data))\n",
    "        if batch_size == 0:\n",
    "            return\n",
    "\n",
    "        top_data = self.remaining_data.head(batch_size)\n",
    "        self.training_data = pd.concat([self.training_data, top_data])\n",
    "        self.training_labels = self.training_data['label_ta_included']\n",
    "        self.remaining_data = self.remaining_data.iloc[batch_size:]\n",
    "\n",
    "        new_indices = top_data.index.tolist()\n",
    "        self.final_order.extend(new_indices)\n",
    "        \n",
    "    def iterative_training(self):\n",
    "        \"\"\"Runs the active learning loop to iteratively improve rankings.\"\"\"\n",
    "        total_remaining = len(self.remaining_data)\n",
    "        total_iterations = -(-total_remaining // self.batch_size)\n",
    "    \n",
    "        # Initialize the progress bar\n",
    "        with tqdm(total=total_iterations, desc=\"Screening progress\", unit=\"iteration\", ncols=100, leave=True) as pbar:\n",
    "            for _ in range(total_iterations):\n",
    "\n",
    "                pbar.update(0)\n",
    "                \n",
    "                X_train, X_remaining = self.preprocess()\n",
    "                self.train_model(X_train)\n",
    "                self.predict_and_rank(X_remaining)\n",
    "                self.expand_training_data()\n",
    "    \n",
    "                # Update the progress bar\n",
    "                pbar.update(1)\n",
    "    \n",
    "        # Ensure all original indices are in final order (fix missing values issue)\n",
    "        missing_indices = set(self.original_order) - set(self.final_order)\n",
    "        self.final_order.extend(missing_indices)\n",
    "\n",
    "        return self.original_order, self.final_order\n",
    "\n",
    "    def _get_huggingface_embeddings(self, texts):\n",
    "        \"\"\"Generates Hugging Face model embeddings for a given set of texts.\"\"\"\n",
    "        tokenizer = AutoTokenizer.from_pretrained('bert-base-uncased')  # Example model: BERT\n",
    "        model = self.feature_extractor  # Hugging Face model passed here\n",
    "\n",
    "        # Ensure texts is a list of strings\n",
    "        texts = texts.tolist() if isinstance(texts, pd.Series) else texts\n",
    "\n",
    "        # Tokenize the texts (ensure the input is in the correct format)\n",
    "        inputs = tokenizer(texts, padding=True, truncation=True, return_tensors=\"pt\", max_length=512)\n",
    "\n",
    "        with torch.no_grad():\n",
    "            outputs = model(**inputs)\n",
    "\n",
    "        embeddings = outputs.last_hidden_state.mean(dim=1)  # Mean pooling\n",
    "        return embeddings.numpy()\n",
    "\n",
    "# Example Usage:\n",
    "if __name__ == \"__main__\":\n",
    "    data_path = \"./data/processed/\"\n",
    "    output_path = \"./output/rankings/\"\n",
    "    os.makedirs(output_path, exist_ok=True)\n",
    "\n",
    "\n",
    "    def load_dataset(file_path):\n",
    "        \"\"\"Loads a dataset from CSV or Excel.\"\"\"\n",
    "        if file_path.endswith('.xlsx'):\n",
    "            return pd.read_excel(file_path)\n",
    "        elif file_path.endswith('.csv'):\n",
    "            df = pd.read_csv(file_path)\n",
    "            df['abstract'] = df['abstract'].fillna('NA').astype(str)\n",
    "            return df\n",
    "        return None\n",
    "\n",
    "\n",
    "    # Loop over all datasets\n",
    "    for filename in os.listdir(data_path):\n",
    "        file_path = os.path.join(data_path, filename)\n",
    "        dataset = load_dataset(file_path)\n",
    "\n",
    "        if dataset is None:\n",
    "            continue  \n",
    "\n",
    "        # Define parameters\n",
    "        initial_inclusions = 10\n",
    "        initial_exclusions = 10\n",
    "        batch_size = 10\n",
    "        random_seeds = [6] #range(1, 4)\n",
    "\n",
    "        # Define list of feature extractors to loop over\n",
    "        feature_extractors = [\n",
    "            #('huggingface', AutoModel.from_pretrained('bert-base-uncased')),\n",
    "            #('sentence_transformer', SentenceTransformer('paraphrase-MiniLM-L6-v2')),\n",
    "            ('tfidf', TfidfVectorizer(stop_words='english', max_features=5000))\n",
    "        ]\n",
    "\n",
    "        # Loop over different feature extractors\n",
    "        for feature_name, feature_extractor in feature_extractors:\n",
    "            for random_seed in random_seeds:\n",
    "                compute_rankings = ComputeRankings(\n",
    "                    dataset,\n",
    "                    feature_extractor,\n",
    "                    LogisticRegression(),\n",
    "                    initial_inclusions=initial_inclusions,\n",
    "                    initial_exclusions=initial_exclusions,\n",
    "                    batch_size=batch_size,\n",
    "                    random_seed=random_seed\n",
    "                )\n",
    "\n",
    "                # Run ranking algorithm\n",
    "                compute_rankings.initialize_training_data()\n",
    "                original_order, final_order = compute_rankings.iterative_training()\n",
    "\n",
    "                # Convert ranking outputs to DataFrames\n",
    "                original_df = pd.DataFrame({'Original_Index': original_order})\n",
    "                original_df['Original_Label'] = dataset.loc[original_df['Original_Index'], 'label_ta_included'].values\n",
    "\n",
    "                final_df = pd.DataFrame({'Final_Index': final_order})\n",
    "                final_df['Final_Label'] = dataset.loc[final_df['Final_Index'], 'label_ta_included'].values\n",
    "\n",
    "                # Merge original and final rankings\n",
    "                ranking_output = pd.concat([original_df, final_df], axis=1)\n",
    "\n",
    "                # Save rankings to CSV\n",
    "                output_file = f\"{output_path}{os.path.splitext(filename)[0]}_rankings_{feature_name}_{random_seed}.csv\"\n",
    "                ranking_output.to_csv(output_file, index=False)\n"
   ]
  },
  {
   "cell_type": "code",
   "execution_count": 108,
   "id": "6a60b70b-f02f-44e3-9543-be3fa17c3aae",
   "metadata": {},
   "outputs": [
    {
     "name": "stdout",
     "output_type": "stream",
     "text": [
      "Index(['index', 'Unnamed: 0', 'type', 'authors', 'year', 'title', 'journal',\n",
      "       'pmid', 'keywords', 'abstract', 'label_ta_included', 'article_id',\n",
      "       'label_ft_included', '1i', '1ii', '1iii', '1iv', '2i', '2ii', '2iii',\n",
      "       '2iv', '2v', '2vi', '2vii', '2viii', '2ix', '2x', '2xi', '2xii',\n",
      "       'word_count', 'avg_sentence_length', 'structured', 'tfidf_mean',\n",
      "       'tfidf_deviation'],\n",
      "      dtype='object')\n"
     ]
    },
    {
     "data": {
      "text/html": [
       "<div>\n",
       "<style scoped>\n",
       "    .dataframe tbody tr th:only-of-type {\n",
       "        vertical-align: middle;\n",
       "    }\n",
       "\n",
       "    .dataframe tbody tr th {\n",
       "        vertical-align: top;\n",
       "    }\n",
       "\n",
       "    .dataframe thead th {\n",
       "        text-align: right;\n",
       "    }\n",
       "</style>\n",
       "<table border=\"1\" class=\"dataframe\">\n",
       "  <thead>\n",
       "    <tr style=\"text-align: right;\">\n",
       "      <th></th>\n",
       "      <th>index</th>\n",
       "      <th>Unnamed: 0</th>\n",
       "      <th>type</th>\n",
       "      <th>authors</th>\n",
       "      <th>year</th>\n",
       "      <th>title</th>\n",
       "      <th>journal</th>\n",
       "      <th>pmid</th>\n",
       "      <th>keywords</th>\n",
       "      <th>abstract</th>\n",
       "      <th>...</th>\n",
       "      <th>structured</th>\n",
       "      <th>tfidf_mean</th>\n",
       "      <th>tfidf_deviation</th>\n",
       "      <th>Prog_reporting_rankings_tfidf_1.csv</th>\n",
       "      <th>Prog_reporting_rankings_tfidf_2.csv</th>\n",
       "      <th>Prog_reporting_rankings_tfidf_3.csv</th>\n",
       "      <th>Prog_reporting_rankings_tfidf_4.csv</th>\n",
       "      <th>Prog_reporting_rankings_tfidf_5.csv</th>\n",
       "      <th>Prog_reporting_rankings_tfidf_6.csv</th>\n",
       "      <th>Ranking_Avg</th>\n",
       "    </tr>\n",
       "  </thead>\n",
       "  <tbody>\n",
       "    <tr>\n",
       "      <th>0</th>\n",
       "      <td>0</td>\n",
       "      <td>2278</td>\n",
       "      <td>JOUR</td>\n",
       "      <td>['Csato V', 'Kadir SZSA', 'Khavandi K', 'Benne...</td>\n",
       "      <td>2019.0</td>\n",
       "      <td>\"A Step and a Ceiling\": mechanical properties ...</td>\n",
       "      <td>NaN</td>\n",
       "      <td>NaN</td>\n",
       "      <td>['eppi-reviewer4', 'Ca2+ spark', 'oxidant sign...</td>\n",
       "      <td>We investigated the biomechanical relationship...</td>\n",
       "      <td>...</td>\n",
       "      <td>0</td>\n",
       "      <td>0.000302</td>\n",
       "      <td>-0.000028</td>\n",
       "      <td>1664</td>\n",
       "      <td>1664</td>\n",
       "      <td>1651</td>\n",
       "      <td>1653</td>\n",
       "      <td>1639</td>\n",
       "      <td>1656</td>\n",
       "      <td>1654.500000</td>\n",
       "    </tr>\n",
       "    <tr>\n",
       "      <th>1</th>\n",
       "      <td>1</td>\n",
       "      <td>1242</td>\n",
       "      <td>JOUR</td>\n",
       "      <td>NaN</td>\n",
       "      <td>2019.0</td>\n",
       "      <td>\"Implications of emotion regulation strategies...</td>\n",
       "      <td>NaN</td>\n",
       "      <td>NaN</td>\n",
       "      <td>['eppi-reviewer4']</td>\n",
       "      <td>Reports an error in \"Implications of emotion r...</td>\n",
       "      <td>...</td>\n",
       "      <td>0</td>\n",
       "      <td>0.000360</td>\n",
       "      <td>0.000030</td>\n",
       "      <td>1857</td>\n",
       "      <td>1860</td>\n",
       "      <td>1865</td>\n",
       "      <td>1853</td>\n",
       "      <td>1855</td>\n",
       "      <td>1860</td>\n",
       "      <td>1858.333333</td>\n",
       "    </tr>\n",
       "    <tr>\n",
       "      <th>2</th>\n",
       "      <td>2</td>\n",
       "      <td>1632</td>\n",
       "      <td>JOUR</td>\n",
       "      <td>['Moyano J', 'Mases L', 'Izeta T', 'Flores T',...</td>\n",
       "      <td>2019.0</td>\n",
       "      <td>\"In Vitro\" Study About Variables that Influenc...</td>\n",
       "      <td>NaN</td>\n",
       "      <td>NaN</td>\n",
       "      <td>['eppi-reviewer4', 'conventional brackets', 'f...</td>\n",
       "      <td>Many advantages have been described surroundin...</td>\n",
       "      <td>...</td>\n",
       "      <td>0</td>\n",
       "      <td>0.000311</td>\n",
       "      <td>-0.000019</td>\n",
       "      <td>1365</td>\n",
       "      <td>1366</td>\n",
       "      <td>1353</td>\n",
       "      <td>1385</td>\n",
       "      <td>1400</td>\n",
       "      <td>1358</td>\n",
       "      <td>1371.166667</td>\n",
       "    </tr>\n",
       "    <tr>\n",
       "      <th>3</th>\n",
       "      <td>3</td>\n",
       "      <td>187</td>\n",
       "      <td>JOUR</td>\n",
       "      <td>['Song J', 'Han K', 'Lee D', 'Kim SW']</td>\n",
       "      <td>2018.0</td>\n",
       "      <td>\"Is a picture really worth a thousand words?\":...</td>\n",
       "      <td>NaN</td>\n",
       "      <td>NaN</td>\n",
       "      <td>['eppi-reviewer4', 'Adolescent', 'Age Factors'...</td>\n",
       "      <td>Because using social media has become a major ...</td>\n",
       "      <td>...</td>\n",
       "      <td>0</td>\n",
       "      <td>0.000327</td>\n",
       "      <td>-0.000003</td>\n",
       "      <td>1648</td>\n",
       "      <td>1639</td>\n",
       "      <td>1632</td>\n",
       "      <td>1633</td>\n",
       "      <td>1644</td>\n",
       "      <td>1629</td>\n",
       "      <td>1637.500000</td>\n",
       "    </tr>\n",
       "    <tr>\n",
       "      <th>4</th>\n",
       "      <td>4</td>\n",
       "      <td>2406</td>\n",
       "      <td>JOUR</td>\n",
       "      <td>['Rodrigues MAV', 'Olmos RD', 'Kira CM', 'Lotu...</td>\n",
       "      <td>2019.0</td>\n",
       "      <td>\"Shadow\" OSCE examiner. A cross-sectional stud...</td>\n",
       "      <td>NaN</td>\n",
       "      <td>NaN</td>\n",
       "      <td>['eppi-reviewer4']</td>\n",
       "      <td>OBJECTIVES: Feedback is a powerful learning to...</td>\n",
       "      <td>...</td>\n",
       "      <td>1</td>\n",
       "      <td>0.000286</td>\n",
       "      <td>-0.000044</td>\n",
       "      <td>1883</td>\n",
       "      <td>1869</td>\n",
       "      <td>1866</td>\n",
       "      <td>1862</td>\n",
       "      <td>1864</td>\n",
       "      <td>1870</td>\n",
       "      <td>1869.000000</td>\n",
       "    </tr>\n",
       "    <tr>\n",
       "      <th>...</th>\n",
       "      <td>...</td>\n",
       "      <td>...</td>\n",
       "      <td>...</td>\n",
       "      <td>...</td>\n",
       "      <td>...</td>\n",
       "      <td>...</td>\n",
       "      <td>...</td>\n",
       "      <td>...</td>\n",
       "      <td>...</td>\n",
       "      <td>...</td>\n",
       "      <td>...</td>\n",
       "      <td>...</td>\n",
       "      <td>...</td>\n",
       "      <td>...</td>\n",
       "      <td>...</td>\n",
       "      <td>...</td>\n",
       "      <td>...</td>\n",
       "      <td>...</td>\n",
       "      <td>...</td>\n",
       "      <td>...</td>\n",
       "      <td>...</td>\n",
       "    </tr>\n",
       "    <tr>\n",
       "      <th>2477</th>\n",
       "      <td>2477</td>\n",
       "      <td>24</td>\n",
       "      <td>JOUR</td>\n",
       "      <td>['Bronsert M', 'Singh AB', 'Henderson WG', 'Ha...</td>\n",
       "      <td>2019.0</td>\n",
       "      <td>Identification of postoperative complications ...</td>\n",
       "      <td>NaN</td>\n",
       "      <td>NaN</td>\n",
       "      <td>['eppi-reviewer4', 'Elastic-net', 'Machine lea...</td>\n",
       "      <td>BACKGROUND: Using the American College of Surg...</td>\n",
       "      <td>...</td>\n",
       "      <td>1</td>\n",
       "      <td>0.000328</td>\n",
       "      <td>-0.000002</td>\n",
       "      <td>80</td>\n",
       "      <td>127</td>\n",
       "      <td>70</td>\n",
       "      <td>9</td>\n",
       "      <td>70</td>\n",
       "      <td>67</td>\n",
       "      <td>70.500000</td>\n",
       "    </tr>\n",
       "    <tr>\n",
       "      <th>2478</th>\n",
       "      <td>2478</td>\n",
       "      <td>2286</td>\n",
       "      <td>JOUR</td>\n",
       "      <td>['Eill A', 'Jahedi A', 'Gao Y', 'Kohli JS', 'F...</td>\n",
       "      <td>2019.0</td>\n",
       "      <td>Functional Connectivities Are More Informative...</td>\n",
       "      <td>NaN</td>\n",
       "      <td>NaN</td>\n",
       "      <td>['eppi-reviewer4', '*MRI', '*autism', '*diagno...</td>\n",
       "      <td>Machine learning techniques have been implemen...</td>\n",
       "      <td>...</td>\n",
       "      <td>0</td>\n",
       "      <td>0.000355</td>\n",
       "      <td>0.000025</td>\n",
       "      <td>634</td>\n",
       "      <td>716</td>\n",
       "      <td>676</td>\n",
       "      <td>3</td>\n",
       "      <td>668</td>\n",
       "      <td>654</td>\n",
       "      <td>558.500000</td>\n",
       "    </tr>\n",
       "    <tr>\n",
       "      <th>2479</th>\n",
       "      <td>2479</td>\n",
       "      <td>1035</td>\n",
       "      <td>JOUR</td>\n",
       "      <td>['Cook F', 'Lobo D', 'Martin M', 'Imbert N', '...</td>\n",
       "      <td>2019.0</td>\n",
       "      <td>Prospective validation of a new airway managem...</td>\n",
       "      <td>NaN</td>\n",
       "      <td>NaN</td>\n",
       "      <td>['eppi-reviewer4', 'Adult', 'Aged', 'Airway Ma...</td>\n",
       "      <td>BACKGROUND: Some patients have features that i...</td>\n",
       "      <td>...</td>\n",
       "      <td>1</td>\n",
       "      <td>0.000319</td>\n",
       "      <td>-0.000011</td>\n",
       "      <td>2</td>\n",
       "      <td>477</td>\n",
       "      <td>367</td>\n",
       "      <td>385</td>\n",
       "      <td>448</td>\n",
       "      <td>468</td>\n",
       "      <td>357.833333</td>\n",
       "    </tr>\n",
       "    <tr>\n",
       "      <th>2480</th>\n",
       "      <td>2480</td>\n",
       "      <td>297</td>\n",
       "      <td>JOUR</td>\n",
       "      <td>['Eggleston B', 'Dismuke-Greer CE', 'Pogoda TK...</td>\n",
       "      <td>2019.0</td>\n",
       "      <td>A prediction model of military combat and trai...</td>\n",
       "      <td>NaN</td>\n",
       "      <td>NaN</td>\n",
       "      <td>['eppi-reviewer4', 'Prediction', 'concussion a...</td>\n",
       "      <td>Background: Research has shown that number of ...</td>\n",
       "      <td>...</td>\n",
       "      <td>1</td>\n",
       "      <td>0.000300</td>\n",
       "      <td>-0.000030</td>\n",
       "      <td>948</td>\n",
       "      <td>964</td>\n",
       "      <td>944</td>\n",
       "      <td>961</td>\n",
       "      <td>949</td>\n",
       "      <td>974</td>\n",
       "      <td>956.666667</td>\n",
       "    </tr>\n",
       "    <tr>\n",
       "      <th>2481</th>\n",
       "      <td>2481</td>\n",
       "      <td>1205</td>\n",
       "      <td>JOUR</td>\n",
       "      <td>['Villarreal YR', 'Suchting R', 'Klawans MR', ...</td>\n",
       "      <td>2019.0</td>\n",
       "      <td>Predicting HCV Incidence in Latinos with High-...</td>\n",
       "      <td>NaN</td>\n",
       "      <td>NaN</td>\n",
       "      <td>['eppi-reviewer4', 'Hepatitis C', 'Latino', 'd...</td>\n",
       "      <td>Hepatitis C virus (HCV) in the U.S. has triple...</td>\n",
       "      <td>...</td>\n",
       "      <td>0</td>\n",
       "      <td>0.000306</td>\n",
       "      <td>-0.000024</td>\n",
       "      <td>6</td>\n",
       "      <td>132</td>\n",
       "      <td>110</td>\n",
       "      <td>147</td>\n",
       "      <td>108</td>\n",
       "      <td>106</td>\n",
       "      <td>101.500000</td>\n",
       "    </tr>\n",
       "  </tbody>\n",
       "</table>\n",
       "<p>2482 rows × 41 columns</p>\n",
       "</div>"
      ],
      "text/plain": [
       "      index  Unnamed: 0  type  \\\n",
       "0         0        2278  JOUR   \n",
       "1         1        1242  JOUR   \n",
       "2         2        1632  JOUR   \n",
       "3         3         187  JOUR   \n",
       "4         4        2406  JOUR   \n",
       "...     ...         ...   ...   \n",
       "2477   2477          24  JOUR   \n",
       "2478   2478        2286  JOUR   \n",
       "2479   2479        1035  JOUR   \n",
       "2480   2480         297  JOUR   \n",
       "2481   2481        1205  JOUR   \n",
       "\n",
       "                                                authors    year  \\\n",
       "0     ['Csato V', 'Kadir SZSA', 'Khavandi K', 'Benne...  2019.0   \n",
       "1                                                   NaN  2019.0   \n",
       "2     ['Moyano J', 'Mases L', 'Izeta T', 'Flores T',...  2019.0   \n",
       "3                ['Song J', 'Han K', 'Lee D', 'Kim SW']  2018.0   \n",
       "4     ['Rodrigues MAV', 'Olmos RD', 'Kira CM', 'Lotu...  2019.0   \n",
       "...                                                 ...     ...   \n",
       "2477  ['Bronsert M', 'Singh AB', 'Henderson WG', 'Ha...  2019.0   \n",
       "2478  ['Eill A', 'Jahedi A', 'Gao Y', 'Kohli JS', 'F...  2019.0   \n",
       "2479  ['Cook F', 'Lobo D', 'Martin M', 'Imbert N', '...  2019.0   \n",
       "2480  ['Eggleston B', 'Dismuke-Greer CE', 'Pogoda TK...  2019.0   \n",
       "2481  ['Villarreal YR', 'Suchting R', 'Klawans MR', ...  2019.0   \n",
       "\n",
       "                                                  title  journal  pmid  \\\n",
       "0     \"A Step and a Ceiling\": mechanical properties ...      NaN   NaN   \n",
       "1     \"Implications of emotion regulation strategies...      NaN   NaN   \n",
       "2     \"In Vitro\" Study About Variables that Influenc...      NaN   NaN   \n",
       "3     \"Is a picture really worth a thousand words?\":...      NaN   NaN   \n",
       "4     \"Shadow\" OSCE examiner. A cross-sectional stud...      NaN   NaN   \n",
       "...                                                 ...      ...   ...   \n",
       "2477  Identification of postoperative complications ...      NaN   NaN   \n",
       "2478  Functional Connectivities Are More Informative...      NaN   NaN   \n",
       "2479  Prospective validation of a new airway managem...      NaN   NaN   \n",
       "2480  A prediction model of military combat and trai...      NaN   NaN   \n",
       "2481  Predicting HCV Incidence in Latinos with High-...      NaN   NaN   \n",
       "\n",
       "                                               keywords  \\\n",
       "0     ['eppi-reviewer4', 'Ca2+ spark', 'oxidant sign...   \n",
       "1                                    ['eppi-reviewer4']   \n",
       "2     ['eppi-reviewer4', 'conventional brackets', 'f...   \n",
       "3     ['eppi-reviewer4', 'Adolescent', 'Age Factors'...   \n",
       "4                                    ['eppi-reviewer4']   \n",
       "...                                                 ...   \n",
       "2477  ['eppi-reviewer4', 'Elastic-net', 'Machine lea...   \n",
       "2478  ['eppi-reviewer4', '*MRI', '*autism', '*diagno...   \n",
       "2479  ['eppi-reviewer4', 'Adult', 'Aged', 'Airway Ma...   \n",
       "2480  ['eppi-reviewer4', 'Prediction', 'concussion a...   \n",
       "2481  ['eppi-reviewer4', 'Hepatitis C', 'Latino', 'd...   \n",
       "\n",
       "                                               abstract  ...  structured  \\\n",
       "0     We investigated the biomechanical relationship...  ...           0   \n",
       "1     Reports an error in \"Implications of emotion r...  ...           0   \n",
       "2     Many advantages have been described surroundin...  ...           0   \n",
       "3     Because using social media has become a major ...  ...           0   \n",
       "4     OBJECTIVES: Feedback is a powerful learning to...  ...           1   \n",
       "...                                                 ...  ...         ...   \n",
       "2477  BACKGROUND: Using the American College of Surg...  ...           1   \n",
       "2478  Machine learning techniques have been implemen...  ...           0   \n",
       "2479  BACKGROUND: Some patients have features that i...  ...           1   \n",
       "2480  Background: Research has shown that number of ...  ...           1   \n",
       "2481  Hepatitis C virus (HCV) in the U.S. has triple...  ...           0   \n",
       "\n",
       "      tfidf_mean  tfidf_deviation  Prog_reporting_rankings_tfidf_1.csv  \\\n",
       "0       0.000302        -0.000028                                 1664   \n",
       "1       0.000360         0.000030                                 1857   \n",
       "2       0.000311        -0.000019                                 1365   \n",
       "3       0.000327        -0.000003                                 1648   \n",
       "4       0.000286        -0.000044                                 1883   \n",
       "...          ...              ...                                  ...   \n",
       "2477    0.000328        -0.000002                                   80   \n",
       "2478    0.000355         0.000025                                  634   \n",
       "2479    0.000319        -0.000011                                    2   \n",
       "2480    0.000300        -0.000030                                  948   \n",
       "2481    0.000306        -0.000024                                    6   \n",
       "\n",
       "      Prog_reporting_rankings_tfidf_2.csv  \\\n",
       "0                                    1664   \n",
       "1                                    1860   \n",
       "2                                    1366   \n",
       "3                                    1639   \n",
       "4                                    1869   \n",
       "...                                   ...   \n",
       "2477                                  127   \n",
       "2478                                  716   \n",
       "2479                                  477   \n",
       "2480                                  964   \n",
       "2481                                  132   \n",
       "\n",
       "      Prog_reporting_rankings_tfidf_3.csv  \\\n",
       "0                                    1651   \n",
       "1                                    1865   \n",
       "2                                    1353   \n",
       "3                                    1632   \n",
       "4                                    1866   \n",
       "...                                   ...   \n",
       "2477                                   70   \n",
       "2478                                  676   \n",
       "2479                                  367   \n",
       "2480                                  944   \n",
       "2481                                  110   \n",
       "\n",
       "      Prog_reporting_rankings_tfidf_4.csv  \\\n",
       "0                                    1653   \n",
       "1                                    1853   \n",
       "2                                    1385   \n",
       "3                                    1633   \n",
       "4                                    1862   \n",
       "...                                   ...   \n",
       "2477                                    9   \n",
       "2478                                    3   \n",
       "2479                                  385   \n",
       "2480                                  961   \n",
       "2481                                  147   \n",
       "\n",
       "      Prog_reporting_rankings_tfidf_5.csv  \\\n",
       "0                                    1639   \n",
       "1                                    1855   \n",
       "2                                    1400   \n",
       "3                                    1644   \n",
       "4                                    1864   \n",
       "...                                   ...   \n",
       "2477                                   70   \n",
       "2478                                  668   \n",
       "2479                                  448   \n",
       "2480                                  949   \n",
       "2481                                  108   \n",
       "\n",
       "      Prog_reporting_rankings_tfidf_6.csv  Ranking_Avg  \n",
       "0                                    1656  1654.500000  \n",
       "1                                    1860  1858.333333  \n",
       "2                                    1358  1371.166667  \n",
       "3                                    1629  1637.500000  \n",
       "4                                    1870  1869.000000  \n",
       "...                                   ...          ...  \n",
       "2477                                   67    70.500000  \n",
       "2478                                  654   558.500000  \n",
       "2479                                  468   357.833333  \n",
       "2480                                  974   956.666667  \n",
       "2481                                  106   101.500000  \n",
       "\n",
       "[2482 rows x 41 columns]"
      ]
     },
     "execution_count": 108,
     "metadata": {},
     "output_type": "execute_result"
    }
   ],
   "source": [
    "import pandas as pd\n",
    "\n",
    "# Load the original dataframe\n",
    "df = df1.copy().reset_index()\n",
    "print(df.columns)\n",
    "# List of ranking files\n",
    "ranking_path = \"./output/rankings/\"\n",
    "ranking_files = [\n",
    "    \"Prog_reporting_rankings_tfidf_1.csv\",\n",
    "    \"Prog_reporting_rankings_tfidf_2.csv\",\n",
    "    \"Prog_reporting_rankings_tfidf_3.csv\",\n",
    "    \"Prog_reporting_rankings_tfidf_4.csv\",\n",
    "    \"Prog_reporting_rankings_tfidf_5.csv\",\n",
    "    \"Prog_reporting_rankings_tfidf_6.csv\"\n",
    "]\n",
    "\n",
    "# Process each ranking file and merge rankings into separate columns\n",
    "for file in ranking_files:\n",
    "    ranking_df = pd.read_csv(ranking_path+file)\n",
    "    \n",
    "    # Merge the ranking data with df based on Final_Index\n",
    "    df = df.merge(ranking_df[['Final_Index', 'Original_Index']], \n",
    "                  left_on='index', right_on='Final_Index', \n",
    "                  how='left')\n",
    "\n",
    "    # Rename the ranking column for clarity\n",
    "    df.rename(columns={'Original_Index': file}, inplace=True)\n",
    "    \n",
    "    # Drop 'Final_Index' column after merge to keep the DataFrame clean\n",
    "    df.drop(columns=['Final_Index'], inplace=True)\n",
    "\n",
    "# Calculate the average ranking across Ranking_1, Ranking_2, and Ranking_3\n",
    "df['Ranking_Avg'] = df[ranking_files].mean(axis=1)\n",
    "df"
   ]
  },
  {
   "cell_type": "code",
   "execution_count": 98,
   "id": "32531070-985f-439e-88a7-4e344ad8b595",
   "metadata": {},
   "outputs": [
    {
     "data": {
      "text/plain": [
       "[<matplotlib.lines.Line2D at 0x19bb60f50>]"
      ]
     },
     "execution_count": 98,
     "metadata": {},
     "output_type": "execute_result"
    },
    {
     "data": {
      "image/png": "[encoded data removed]",
      "text/plain": [
       "<Figure size 640x480 with 1 Axes>"
      ]
     },
     "metadata": {},
     "output_type": "display_data"
    }
   ],
   "source": [
    "df_sort = df.sort_values(by='Ranking_Avg', ascending=True) \n",
    "labels = df_sort['label_ta_included']\n",
    " \n",
    "labels_series = pd.Series(labels)\n",
    "total_ones = labels_series.sum()\n",
    "cumulative_sum = labels_series.cumsum()\n",
    "proportion_ones = cumulative_sum / total_ones\n",
    "proportion_ones\n",
    "plt.plot(range(0, len(df)), proportion_ones, label='Line plot', color='blue') "
   ]
  },
  {
   "cell_type": "code",
   "execution_count": 129,
   "id": "41427e19-d6f4-441d-97b4-f6531d7e1644",
   "metadata": {},
   "outputs": [
    {
     "data": {
      "image/png": "[encoded data removed]",
      "text/plain": [
       "<Figure size 800x500 with 1 Axes>"
      ]
     },
     "metadata": {},
     "output_type": "display_data"
    }
   ],
   "source": [
    "import matplotlib.pyplot as plt\n",
    "\n",
    "df = df[df['label_ta_included'] == 1].copy()\n",
    "\n",
    "# Choose a variable for the y-axis (replace 'Some_Column' with your actual column name)\n",
    "y_variable = 'structured'  \n",
    "\n",
    "# Create the scatter plot\n",
    "plt.figure(figsize=(8, 5))\n",
    "plt.scatter(df[y_variable], df['Ranking_Avg'], alpha=0.7)\n",
    "\n",
    "# Add labels and title\n",
    "plt.ylabel(\"Ranking_Avg\")\n",
    "plt.xlabel(y_variable)\n",
    "plt.title(f\"Scatter plot of {y_variable} vs. Ranking_Avg\")\n",
    "\n",
    "# Show the plot\n",
    "plt.show()\n"
   ]
  },
  {
   "cell_type": "markdown",
   "id": "f13ff300-9a3f-40d0-bca5-3d490d88915a",
   "metadata": {},
   "source": [
    "#### **Part II: Applying stopping methods**"
   ]
  },
  {
   "cell_type": "markdown",
   "id": "f2c9d7eb-f5e9-4e83-b977-a4abb81667cd",
   "metadata": {},
   "source": [
    "Stopping after encountering x consecutive irrelevant records"
   ]
  },
  {
   "cell_type": "code",
   "execution_count": null,
   "id": "c15f0c4f-b08e-480a-ab89-869772a03d64",
   "metadata": {},
   "outputs": [],
   "source": [
    "import pandas as pd\n",
    "\n",
    "class StoppingAfterConsecutiveIrrelevant:\n",
    "    def __init__(self):\n",
    "        \"\"\"\n",
    "        Initializes the termination condition. Does not require `hyperparameter `\n",
    "        during initialization.\n",
    "        \"\"\"\n",
    "        self.hyperparameter = None\n",
    "\n",
    "    def set_hyperparameter (self, hyperparameter ):\n",
    "        \"\"\"\n",
    "        Sets the hyperparameter after object initialization.\n",
    "\n",
    "        :param hyperparameter : The number of consecutive observations with label 0 \n",
    "                                  that will trigger early termination.\n",
    "        \"\"\"\n",
    "        self.hyperparameter  = hyperparameter \n",
    "\n",
    "    def __hash__(self):\n",
    "        return hash('StoppingAfterConsecutiveIrrelevant')  \n",
    "\n",
    "    def __eq__(self, other):\n",
    "        return isinstance(other, StoppingAfterConsecutiveIrrelevant)\n",
    "\n",
    "    def evaluate_ranking(self, rankings_df):\n",
    "        \"\"\"\n",
    "        Evaluates when the stopping condition is met and computes recall based on rankings.\n",
    "        \n",
    "        :param rankings_df: A pandas DataFrame containing the columns:\n",
    "                            'Original_Index', 'Original_Label', 'Final_Index', 'Final_Label'\n",
    "        :return: A dictionary containing termination point, TP, FP, FN, TN, and recall.\n",
    "        \"\"\"\n",
    "        if self.hyperparameter  is None:\n",
    "            raise ValueError(\"hyperparameter must be set before evaluating rankings\")\n",
    "\n",
    "        consecutive_zeros = 0\n",
    "        termination_point = None\n",
    "\n",
    "        # Iterate through the Final_Label column to find the termination point\n",
    "        for i, label in enumerate(rankings_df['Final_Label']):\n",
    "            if label == 0:\n",
    "                consecutive_zeros += 1\n",
    "            else:\n",
    "                consecutive_zeros = 0  \n",
    "            \n",
    "            if consecutive_zeros == self.hyperparameter :\n",
    "                termination_point = i + 1 \n",
    "                break\n",
    "\n",
    "        # If the condition is never met, recall should be 1\n",
    "        if termination_point is None:\n",
    "            TP = rankings_df['Final_Label'].sum()  \n",
    "            TN = (rankings_df['Final_Label'] == 0).sum() \n",
    "            termination_target = len(list(rankings_df['Final_Label'])) - 1 - list(rankings_df['Final_Label'])[::-1].index(1)\n",
    "            return {\n",
    "                \"Termination_Point\": len(rankings_df),\n",
    "                \"Termination_Target\": termination_target,\n",
    "                \"TP\": TP,\n",
    "                \"FP\": 0,\n",
    "                \"FN\": 0,\n",
    "                \"TN\": TN,\n",
    "                \"Recall\": 1.0\n",
    "            }\n",
    "        else:\n",
    "            # Compute TP, FP, FN, and TN based on termination point\n",
    "            TP = rankings_df['Final_Label'][:termination_point].sum()\n",
    "            FP = (rankings_df['Final_Label'][:termination_point] == 0).sum()\n",
    "            FN = rankings_df['Final_Label'][termination_point:].sum()\n",
    "            TN = (rankings_df['Final_Label'][termination_point:] == 0).sum()\n",
    "    \n",
    "            # Compute recall\n",
    "            recall = TP / (TP + FN) if (TP + FN) > 0 else 0\n",
    "    \n",
    "            # Retrieve the ideal termination point\n",
    "            termination_target = len(list(rankings_df['Final_Label'])) - 1 - list(rankings_df['Final_Label'])[::-1].index(1)\n",
    "            \n",
    "            return {\n",
    "                \"Termination_Point\": termination_point,\n",
    "                \"Termination_Target\": termination_target,\n",
    "                \"TP\": TP,\n",
    "                \"FP\": FP,\n",
    "                \"FN\": FN,\n",
    "                \"TN\": TN,\n",
    "                \"Recall\": recall,\n",
    "                \"Ranking_df\": rankings_df\n",
    "            }\n",
    "\n",
    "# Example\n",
    "if __name__ == \"__main__\":\n",
    "    rankings_df = pd.read_csv('../../output/rankings/Int_CD005139_rankings_1.csv') \n",
    "    evaluator = StoppingAfterConsecutiveIrrelevant()  \n",
    "    evaluator.set_hyperparameter(50) \n",
    "    result = evaluator.evaluate_ranking(rankings_df)\n",
    "\n",
    "    print(result)"
   ]
  },
  {
   "cell_type": "markdown",
   "id": "b02845f7-fab9-4ef2-b626-713a37d2dc6d",
   "metadata": {},
   "source": [
    "Stopping after having screened a percentage of x records"
   ]
  },
  {
   "cell_type": "code",
   "execution_count": null,
   "id": "2cc43b58-0631-4b95-8a82-7c8525ea4098",
   "metadata": {},
   "outputs": [],
   "source": [
    "import pandas as pd\n",
    "\n",
    "class StoppingAfterPercentage:\n",
    "    def __init__(self):\n",
    "        \"\"\"\n",
    "        Initializes the termination condition based on percentage.\n",
    "        Does not require `hyperparameter` during initialization.\n",
    "        \"\"\"\n",
    "        self.hyperparameter = None \n",
    "        self.termination_point = None\n",
    "\n",
    "    def set_hyperparameter(self, hyperparameter):\n",
    "        \"\"\"\n",
    "        Sets the hyperparameter after object initialization.\n",
    "\n",
    "        :param hyperparameter: The percentage of the total rows to process before terminating.\n",
    "        \"\"\"\n",
    "        self.hyperparameter = hyperparameter\n",
    "\n",
    "    def __hash__(self):\n",
    "        return hash('StoppingAfterPercentage')\n",
    "\n",
    "    def __eq__(self, other):\n",
    "        return isinstance(other, StoppingAfterPercentage)\n",
    "        \n",
    "    def evaluate_ranking(self, rankings_df):\n",
    "        \"\"\"\n",
    "        Evaluates the rankings and calculates the termination point based on hyperparameter.\n",
    "        \n",
    "        :param rankings_df: DataFrame containing 'Original_Index', 'Original_Label', 'Final_Index', 'Final_Label'.\n",
    "        :return: Dictionary with the evaluation metrics, or None if termination condition is not met.\n",
    "        \"\"\"\n",
    "        if self.hyperparameter is None:\n",
    "            raise ValueError(\"hyperparameter must be set before evaluating rankings\")\n",
    "\n",
    "        total_rows = len(rankings_df)\n",
    "        rows_to_process = int(self.hyperparameter * total_rows / 100)\n",
    "        self.termination_point = rows_to_process\n",
    "\n",
    "        return self.calculate_metrics(rankings_df)\n",
    "    \n",
    "    def calculate_metrics(self, rankings_df, all_processed=False):\n",
    "        \"\"\"\n",
    "        Calculate TP, FP, FN, TN and recall based on the termination point.\n",
    "        \n",
    "        :param rankings_df: DataFrame containing the ranking results.\n",
    "        :param all_processed: Flag to indicate if we are considering all data without termination.\n",
    "        :return: Dictionary with the evaluation metrics.\n",
    "        \"\"\"\n",
    "\n",
    "        if not all_processed:\n",
    "            termination_point = self.termination_point\n",
    "            TP = rankings_df['Final_Label'][:termination_point].sum()\n",
    "            FP = (rankings_df['Final_Label'][:termination_point] == 0).sum()\n",
    "            FN = rankings_df['Final_Label'][termination_point:].sum()\n",
    "            TN = (rankings_df['Final_Label'][termination_point:] == 0).sum()\n",
    "\n",
    "        recall = TP / (TP + FN) if TP + FN > 0 else 0\n",
    "\n",
    "        # Retrieve the ideal termination point\n",
    "        termination_target = len(list(rankings_df['Final_Label'])) - 1 - list(rankings_df['Final_Label'])[::-1].index(1)\n",
    "\n",
    "        return {\n",
    "            \"Termination_Point\": self.termination_point,\n",
    "            \"Termination_Target\": termination_target,\n",
    "            \"TP\": TP,\n",
    "            \"FP\": FP,\n",
    "            \"FN\": FN,\n",
    "            \"TN\": TN,\n",
    "            \"Recall\": recall,\n",
    "            \"Ranking_df\": rankings_df\n",
    "        }\n",
    "\n",
    "# Example        \n",
    "if __name__ == \"__main__\":\n",
    "    rankings_df = pd.read_csv('../../output/rankings/Int_CD005139_rankings_1.csv') \n",
    "    evaluator = StoppingAfterPercentage() \n",
    "    evaluator.set_hyperparameter(80)\n",
    "    result = evaluator.evaluate_ranking(rankings_df)\n",
    "\n",
    "    print(result)"
   ]
  },
  {
   "cell_type": "markdown",
   "id": "c32b7b36-02d0-4c09-8d50-6863390ed08e",
   "metadata": {},
   "source": [
    "Choose the stopping methods and set the hyperparameter values. Loop over all combinations for all datasets"
   ]
  },
  {
   "cell_type": "code",
   "execution_count": null,
   "id": "08f63bbb-4446-478e-b4a9-a606835a28cc",
   "metadata": {},
   "outputs": [],
   "source": [
    "import os\n",
    "data_path = \"../../output/rankings/\"\n",
    "\n",
    "methods_dict = {\n",
    "    StoppingAfterPercentage(): [10, 20, 30],\n",
    "    StoppingAfterConsecutiveIrrelevant(): [25, 50, 100, 200, 400, 800, 1600]\n",
    "}\n",
    "\n",
    "all_results = {}\n",
    "for key,values in methods_dict.items():\n",
    "    method = key.__class__.__name__  \n",
    "    all_results[method] = {}\n",
    "    \n",
    "    for filename in os.listdir(data_path):\n",
    "        if filename.endswith('.csv'):\n",
    "            file_path = os.path.join(data_path, filename)               \n",
    "            rankings_df = pd.read_csv(file_path)  \n",
    "            df_name = str(os.path.splitext(filename)[0])\n",
    "            all_results[method][df_name] = {} \n",
    " \n",
    "            for hyperparameter in values:\n",
    "                hyperparameter = int(hyperparameter)\n",
    "                evaluator = key\n",
    "                evaluator.set_hyperparameter(hyperparameter) \n",
    "                result = evaluator.evaluate_ranking(rankings_df)\n",
    "                all_results[method][df_name][hyperparameter]=result\n",
    "                \n",
    "#print(all_results)"
   ]
  },
  {
   "cell_type": "markdown",
   "id": "9036771d-db5d-43be-b88f-5f24c48e42a5",
   "metadata": {},
   "source": [
    "#### **Part III: Evaluation**"
   ]
  },
  {
   "cell_type": "markdown",
   "id": "7895ea49-f7d7-4a32-a833-3c5b0c9260fe",
   "metadata": {},
   "source": [
    "Convert the results into tabular format for further evaluation and presenting of the results"
   ]
  },
  {
   "cell_type": "code",
   "execution_count": null,
   "id": "77e21d51-8dc1-4e92-a5d5-a1af7c3796c4",
   "metadata": {},
   "outputs": [],
   "source": [
    "import pandas as pd\n",
    "import numpy as np\n",
    "from scipy import stats\n",
    "\n",
    "# Construct DataFrame from nested dictionary\n",
    "table_rows = [\n",
    "    {\n",
    "        'Method': method,\n",
    "        'Dataset': '_'.join(dataset.split('_')[:-1]),\n",
    "        'Rankings': dataset,\n",
    "        'Seed': dataset.split('_')[-1],\n",
    "        'Hyperparameter': hyperparam,\n",
    "        'Termination_Point': metrics.get('Termination_Point'),\n",
    "        'Termination_Target': metrics.get('Termination_Target'),\n",
    "        'TP': metrics.get('TP'),\n",
    "        'FP': metrics.get('FP'),\n",
    "        'FN': metrics.get('FN'),\n",
    "        'TN': metrics.get('TN'),\n",
    "        'Recall': metrics.get('Recall'),\n",
    "        'Ranking_df': metrics.get('Ranking_df')\n",
    "    }\n",
    "    for method, datasets in all_results.items()\n",
    "    for dataset, hyperparameters in datasets.items()\n",
    "    for hyperparam, metrics in hyperparameters.items()\n",
    "]\n",
    "\n",
    "raw_results = pd.DataFrame(table_rows)\n",
    "raw_results[['Hyperparameter', 'Seed']] = raw_results[['Hyperparameter', 'Seed']].apply(pd.to_numeric, errors='coerce')\n",
    "evaluation_results = raw_results.sort_values(by=['Method', 'Hyperparameter', 'Dataset', 'Seed'])"
   ]
  },
  {
   "cell_type": "markdown",
   "id": "41ab4702-4c10-4d49-955a-8fee09f3d3e2",
   "metadata": {},
   "source": [
    "Visualize per dataset and stopping method the target recall and achieved recall per hyperparameter"
   ]
  },
  {
   "cell_type": "code",
   "execution_count": null,
   "id": "766f05a4-cea2-4f41-90d9-1fb43d9fac03",
   "metadata": {},
   "outputs": [],
   "source": [
    "import pandas as pd\n",
    "import numpy as np\n",
    "import matplotlib.pyplot as plt\n",
    "from matplotlib.backends.backend_pdf import PdfPages\n",
    "\n",
    "# Create a PDF file to store all plots\n",
    "with PdfPages(\"../../results/figures/results_plots.pdf\") as pdf:\n",
    "    for method, datasets in all_results.items():\n",
    "        method_name = method\n",
    "        \n",
    "        for ranking, results in all_results[method].items():\n",
    "            rankings_name = ranking\n",
    "\n",
    "            method_and_dataset = evaluation_results[\n",
    "                (evaluation_results['Method'] == method_name) & \n",
    "                (evaluation_results['Rankings'] == rankings_name)\n",
    "            ]\n",
    "            termination_limits = list(method_and_dataset['Termination_Point'])\n",
    "            termination_target = list(method_and_dataset['Termination_Target'])[0]\n",
    "            hyperparameters = list(method_and_dataset['Hyperparameter'])\n",
    "            dataset_name = list(method_and_dataset['Dataset'])[0]  \n",
    "            labels = method_and_dataset['Ranking_df'].iloc[0]['Final_Label']\n",
    "             \n",
    "            labels_series = pd.Series(labels)\n",
    "            total_ones = labels_series.sum()\n",
    "            cumulative_sum = labels_series.cumsum()\n",
    "            proportion_ones = cumulative_sum / total_ones\n",
    "            \n",
    "            fig, ax = plt.subplots(figsize=(10, 7))  \n",
    "            ax.plot(np.arange(1, len(labels) + 1), proportion_ones, color='blue')\n",
    "            ax.set_xlabel(\"Number of records screened\")\n",
    "            ax.set_ylabel(\"Recall\")\n",
    "            \n",
    "            for i in range(len(termination_limits)):\n",
    "                stopping_point = termination_limits[i] - 1  # Adjust for zero-based indexing\n",
    "                hyperparameter = hyperparameters[i]\n",
    "                ax.axvline(x=stopping_point, color='r', linestyle='--')\n",
    "                target_met = round(proportion_ones[stopping_point] - 0.95, 2)\n",
    "                ax.text(stopping_point, 1.07, str(target_met), fontsize=5, ha='center')\n",
    "                ax.text(stopping_point, 1.1, str(hyperparameter), fontsize=6, ha='center')\n",
    "                \n",
    "            ax.axvline(termination_target, color='g', linestyle='-')\n",
    "            ax.grid(True)\n",
    "            \n",
    "            # Set the plot title and move it below the plot\n",
    "            title = f\"{method_name} | {rankings_name}\"\n",
    "            ax.set_title(title, fontsize=8, pad=25)  \n",
    "            fig.subplots_adjust(bottom=0.2)  \n",
    "\n",
    "            # Save the current figure to the PDF\n",
    "            pdf.savefig(fig)\n",
    "            plt.show(fig)\n",
    "            plt.close(fig)\n",
    "\n",
    "print(\"All plots saved to results_plots.pdf\")\n"
   ]
  },
  {
   "cell_type": "markdown",
   "id": "f92ba6ef-0f0f-4b51-98b9-86e5ec4fab2b",
   "metadata": {},
   "source": [
    "#### **Part IV: Aggregation and conclusion**"
   ]
  },
  {
   "cell_type": "markdown",
   "id": "495ee4d4-c048-4f73-9843-24b6045e4125",
   "metadata": {},
   "source": [
    "Visualize for each stopping method the achieved recalls per dataset, with the colors corresponding to the hyperparameters that was used for the simulation. This enables users to see: (1) which stopping methods generally reach the target recall, (2) which hyperparameters for an individual stopping method generally reach the target recall, (3) the variation of hyperparameter performance (i.e. spread of the data points with the same color), and (4) the worst case scenario (i.e. the lowest dot for a given stopping method/hyperparameter). "
   ]
  },
  {
   "cell_type": "code",
   "execution_count": null,
   "id": "c4a7db3a-9b60-468f-aa69-a2fcb5d6c997",
   "metadata": {},
   "outputs": [],
   "source": [
    "with PdfPages(\"../../results/figures/plots_individual_methods.pdf\") as pdf:\n",
    "    plt.figure(figsize=(10, 6))\n",
    "    g = sns.FacetGrid(evaluation_results, col='Method', height=5, aspect=1)\n",
    "    g.map(sns.stripplot, 'Dataset', 'Recall', jitter=True)\n",
    "    g.map_dataframe(sns.stripplot, x='Dataset', y='Recall', hue='Hyperparameter', jitter=True, palette='tab10')\n",
    "    g.map(lambda **kwargs: plt.axhline(0.95, color='black', linestyle='--'))\n",
    "    g.set_xticklabels(rotation=90)\n",
    "    g.set_axis_labels('Dataset', 'Recall')\n",
    "    g.set_titles(\"{col_name}\")\n",
    "\n",
    "\n",
    "    for ax in g.axes.flat:\n",
    "        handles, labels = ax.get_legend_handles_labels()\n",
    "        ax.legend(handles, labels, title='Hyperparameter', bbox_to_anchor=(1.05, 1), loc='upper left')\n",
    "\n",
    "    plt.tight_layout()\n",
    "\n",
    "    pdf.savefig(g.fig)\n",
    "    plt.show(g.fig)\n",
    "    plt.close(g.fig)\n",
    "\n",
    "print(\"All plots saved to plot_individual_methods.pdf\")"
   ]
  },
  {
   "cell_type": "code",
   "execution_count": null,
   "id": "05731d30-e1c1-4710-8f99-fe646ba124e9",
   "metadata": {},
   "outputs": [],
   "source": [
    "# Function to compute overshooting, undershooting, and recall statistics\n",
    "def calculate_overshooting_undershooting(recalls, target):\n",
    "    overshooting = recalls[recalls > target] - target  \n",
    "    undershooting = target - recalls[recalls < target]  \n",
    "    exact_match = recalls[recalls == target]  \n",
    "    \n",
    "    return pd.Series({\n",
    "        'count_undershooting': undershooting.count(),\n",
    "        'count_exact': exact_match.count(),\n",
    "        'count_overshooting': overshooting.count(),\n",
    "        'avg_undershooting': -undershooting.mean() if not undershooting.empty else 0,\n",
    "        'std_undershooting': undershooting.std() if not undershooting.empty else 0,\n",
    "        'avg_overshooting': overshooting.mean() if not overshooting.empty else 0,\n",
    "        'std_overshooting': overshooting.std() if not overshooting.empty else 0,\n",
    "        'mean_recalls': recalls.mean(),\n",
    "        'confidence_interval_lower': stats.norm.interval(0.95, loc=recalls.mean(), scale=recalls.std()/np.sqrt(len(recalls)))[0],\n",
    "        'confidence_interval_upper': stats.norm.interval(0.95, loc=recalls.mean(), scale=recalls.std()/np.sqrt(len(recalls)))[1]\n",
    "    })\n",
    "\n",
    "# Compute overshooting/undershooting statistics\n",
    "target_value = 0.95\n",
    "result_df = (\n",
    "    evaluation_results.groupby(['Dataset', 'Method', 'Hyperparameter'])['Recall']\n",
    "    .apply(lambda x: calculate_overshooting_undershooting(x, target_value))\n",
    "    .reset_index()\n",
    ")\n",
    "\n",
    "# Pivot results\n",
    "pivot_result = result_df.pivot(index=['Dataset', 'Method', 'Hyperparameter'], columns='level_3')\n",
    "pivot_result.columns = pivot_result.columns.droplevel(0)\n",
    "pivot_result.reset_index(inplace=True)\n",
    "\n",
    "# Find lowest positive avg_overshooting per (Dataset, Method)\n",
    "filtered_df = pivot_result[pivot_result['avg_overshooting'] > 0]\n",
    "min_overshooting_df = filtered_df.loc[filtered_df.groupby(['Dataset', 'Method'])['avg_overshooting'].idxmin()]\n",
    "\n",
    "# Get most frequent Hyperparameter for each Method (handling ties)\n",
    "selected_hyperparameters = (\n",
    "    min_overshooting_df.groupby('Method')['Hyperparameter']\n",
    "    .agg(lambda x: ', '.join(map(str, x.mode())))\n",
    "    .reset_index()\n",
    ")\n",
    "\n",
    "selected_hyperparameters.to_csv(\"../../results/tables/selected_hyperparameters.csv\", index=False)\n",
    "\n",
    "selected_hyperparameters"
   ]
  }
 ],
 "metadata": {
  "kernelspec": {
   "display_name": "Python 3 (ipykernel)",
   "language": "python",
   "name": "python3"
  },
  "language_info": {
   "codemirror_mode": {
    "name": "ipython",
    "version": 3
   },
   "file_extension": ".py",
   "mimetype": "text/x-python",
   "name": "python",
   "nbconvert_exporter": "python",
   "pygments_lexer": "ipython3",
   "version": "3.12.2"
  }
 },
 "nbformat": 4,
 "nbformat_minor": 5
}
